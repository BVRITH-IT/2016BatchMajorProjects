{
  "nbformat": 4,
  "nbformat_minor": 0,
  "metadata": {
    "kernelspec": {
      "name": "python3",
      "display_name": "Python 3"
    },
    "language_info": {
      "codemirror_mode": {
        "name": "ipython",
        "version": 3
      },
      "file_extension": ".py",
      "mimetype": "text/x-python",
      "name": "python",
      "nbconvert_exporter": "python",
      "pygments_lexer": "ipython3",
      "version": "3.6.9"
    },
    "colab": {
      "name": "NMT_English_To_Hindi_Project.ipynb",
      "provenance": [],
      "collapsed_sections": []
    },
    "accelerator": "GPU"
  },
  "cells": [
    {
      "cell_type": "code",
      "metadata": {
        "id": "zyCFu1jBsPDt",
        "colab_type": "code",
        "outputId": "6000fa86-75b7-4b11-ce16-edc9ed4cabeb",
        "colab": {
          "base_uri": "https://localhost:8080/",
          "height": 35
        }
      },
      "source": [
        "from google.colab import drive\n",
        "drive.mount('/content/drive', force_remount=True)\n"
      ],
      "execution_count": 41,
      "outputs": [
        {
          "output_type": "stream",
          "text": [
            "Mounted at /content/drive\n"
          ],
          "name": "stdout"
        }
      ]
    },
    {
      "cell_type": "code",
      "metadata": {
        "id": "zIwBUNReq_0D",
        "colab_type": "code",
        "colab": {}
      },
      "source": [
        "import re\n",
        "import numpy as np\n",
        "import pandas as pd\n",
        "from keras.models import Model\n",
        "from sklearn.utils import shuffle\n",
        "from string import digits, punctuation\n",
        "from sklearn.model_selection import train_test_split\n",
        "from keras.layers import Input, LSTM, Embedding, Dense"
      ],
      "execution_count": 0,
      "outputs": []
    },
    {
      "cell_type": "code",
      "metadata": {
        "id": "dhdCtZ7Zq_0f",
        "colab_type": "code",
        "outputId": "8f8fef5a-598d-41d4-9705-8303f991cd73",
        "colab": {
          "base_uri": "https://localhost:8080/",
          "height": 200
        }
      },
      "source": [
        "data = pd.read_csv('/content/drive/My Drive/data.csv')\n",
        "data.head()"
      ],
      "execution_count": 43,
      "outputs": [
        {
          "output_type": "execute_result",
          "data": {
            "text/html": [
              "<div>\n",
              "<style scoped>\n",
              "    .dataframe tbody tr th:only-of-type {\n",
              "        vertical-align: middle;\n",
              "    }\n",
              "\n",
              "    .dataframe tbody tr th {\n",
              "        vertical-align: top;\n",
              "    }\n",
              "\n",
              "    .dataframe thead th {\n",
              "        text-align: right;\n",
              "    }\n",
              "</style>\n",
              "<table border=\"1\" class=\"dataframe\">\n",
              "  <thead>\n",
              "    <tr style=\"text-align: right;\">\n",
              "      <th></th>\n",
              "      <th>source</th>\n",
              "      <th>english_sentence</th>\n",
              "      <th>hindi_sentence</th>\n",
              "    </tr>\n",
              "  </thead>\n",
              "  <tbody>\n",
              "    <tr>\n",
              "      <th>0</th>\n",
              "      <td>ted</td>\n",
              "      <td>politicians do not have permission to do what ...</td>\n",
              "      <td>राजनीतिज्ञों के पास जो कार्य करना चाहिए, वह कर...</td>\n",
              "    </tr>\n",
              "    <tr>\n",
              "      <th>1</th>\n",
              "      <td>ted</td>\n",
              "      <td>I'd like to tell you about one such child,</td>\n",
              "      <td>मई आपको ऐसे ही एक बच्चे के बारे में बताना चाहू...</td>\n",
              "    </tr>\n",
              "    <tr>\n",
              "      <th>2</th>\n",
              "      <td>indic2012</td>\n",
              "      <td>This percentage is even greater than the perce...</td>\n",
              "      <td>यह प्रतिशत भारत में हिन्दुओं प्रतिशत से अधिक है।</td>\n",
              "    </tr>\n",
              "    <tr>\n",
              "      <th>3</th>\n",
              "      <td>ted</td>\n",
              "      <td>what we really mean is that they're bad at not...</td>\n",
              "      <td>हम ये नहीं कहना चाहते कि वो ध्यान नहीं दे पाते</td>\n",
              "    </tr>\n",
              "    <tr>\n",
              "      <th>4</th>\n",
              "      <td>indic2012</td>\n",
              "      <td>.The ending portion of these Vedas is called U...</td>\n",
              "      <td>इन्हीं वेदों का अंतिम भाग उपनिषद कहलाता है।</td>\n",
              "    </tr>\n",
              "  </tbody>\n",
              "</table>\n",
              "</div>"
            ],
            "text/plain": [
              "      source  ...                                     hindi_sentence\n",
              "0        ted  ...  राजनीतिज्ञों के पास जो कार्य करना चाहिए, वह कर...\n",
              "1        ted  ...  मई आपको ऐसे ही एक बच्चे के बारे में बताना चाहू...\n",
              "2  indic2012  ...   यह प्रतिशत भारत में हिन्दुओं प्रतिशत से अधिक है।\n",
              "3        ted  ...     हम ये नहीं कहना चाहते कि वो ध्यान नहीं दे पाते\n",
              "4  indic2012  ...        इन्हीं वेदों का अंतिम भाग उपनिषद कहलाता है।\n",
              "\n",
              "[5 rows x 3 columns]"
            ]
          },
          "metadata": {
            "tags": []
          },
          "execution_count": 43
        }
      ]
    },
    {
      "cell_type": "code",
      "metadata": {
        "id": "QJL-wXsHq_0m",
        "colab_type": "code",
        "colab": {}
      },
      "source": [
        "data = data[data['source'] == 'ted']\n",
        "data = data[~pd.isnull(data['english_sentence'])]\n",
        "data.drop_duplicates(inplace=True)"
      ],
      "execution_count": 0,
      "outputs": []
    },
    {
      "cell_type": "code",
      "metadata": {
        "id": "ghNFL_Lcq_0t",
        "colab_type": "code",
        "colab": {}
      },
      "source": [
        "data = data.sample(n=25000, random_state=42)"
      ],
      "execution_count": 0,
      "outputs": []
    },
    {
      "cell_type": "code",
      "metadata": {
        "id": "ldI7OZGnq_0z",
        "colab_type": "code",
        "colab": {}
      },
      "source": [
        "# convert to lower case\n",
        "data['english_sentence'] = data['english_sentence'].apply(lambda x : x.lower())\n",
        "data['hindi_sentence'] = data['hindi_sentence'].apply(lambda x : x.lower())\n",
        "\n",
        "# remove quotes\n",
        "data['english_sentence'] = data['english_sentence'].apply(lambda x: re.sub(\"'\", '', x))\n",
        "data['hindi_sentence'] = data['hindi_sentence'].apply(lambda x: re.sub(\"'\", '', x))\n",
        "\n",
        "# remove special characters\n",
        "puncs = set(punctuation)\n",
        "data['english_sentence']=data['english_sentence'].apply(lambda x: ''.join(c for c in x if c not in puncs))\n",
        "data['hindi_sentence']=data['hindi_sentence'].apply(lambda x: ''.join(c for c in x if c not in puncs))\n",
        "\n",
        "# remove all numbers from text\n",
        "remove_digits = str.maketrans('', '', digits)\n",
        "data['english_sentence'] = data['english_sentence'].apply(lambda x: x.translate(remove_digits))\n",
        "data['hindi_sentence'] = data['hindi_sentence'].apply(lambda x: x.translate(remove_digits))\n",
        "data['hindi_sentence'] = data['hindi_sentence'].apply(lambda x: re.sub(\"[२३०८१५७९४६|]\", \"\", x))\n",
        "\n",
        "# remove extra spaces\n",
        "data['english_sentence'] = data['english_sentence'].apply(lambda x: x.strip())\n",
        "data['hindi_sentence'] = data['hindi_sentence'].apply(lambda x: x.strip())\n",
        "data['english_sentence'] = data['english_sentence'].apply(lambda x: re.sub(\" +\", \" \", x))\n",
        "data['hindi_sentence'] = data['hindi_sentence'].apply(lambda x: re.sub(\" +\", \" \", x))"
      ],
      "execution_count": 0,
      "outputs": []
    },
    {
      "cell_type": "code",
      "metadata": {
        "id": "KBuYEPUgq_09",
        "colab_type": "code",
        "colab": {}
      },
      "source": [
        "data['hindi_sentence'] = data['hindi_sentence'].apply(lambda x : '<S> '+ x + ' <E>')"
      ],
      "execution_count": 0,
      "outputs": []
    },
    {
      "cell_type": "code",
      "metadata": {
        "id": "8yaeDesqq_1E",
        "colab_type": "code",
        "colab": {}
      },
      "source": [
        "# get all unique english and hindi words\n",
        "\n",
        "all_eng_words=set()\n",
        "for eng in data['english_sentence']:\n",
        "    for word in eng.split():\n",
        "        if word not in all_eng_words:\n",
        "            all_eng_words.add(word)\n",
        "\n",
        "all_hindi_words=set()\n",
        "for hin in data['hindi_sentence']:\n",
        "    for word in hin.split():\n",
        "        if word not in all_hindi_words:\n",
        "            all_hindi_words.add(word)"
      ],
      "execution_count": 0,
      "outputs": []
    },
    {
      "cell_type": "code",
      "metadata": {
        "id": "sw8tPvL4q_1N",
        "colab_type": "code",
        "colab": {}
      },
      "source": [
        "# find out number of words in each sentence\n",
        "\n",
        "data['length_eng_sentence'] = data['english_sentence'].apply(lambda x:len(x.split(\" \")))\n",
        "data['length_hin_sentence'] = data['hindi_sentence'].apply(lambda x:len(x.split(\" \")))"
      ],
      "execution_count": 0,
      "outputs": []
    },
    {
      "cell_type": "code",
      "metadata": {
        "id": "Nvo3_WPqq_1S",
        "colab_type": "code",
        "colab": {}
      },
      "source": [
        "# keep only those sentences whose length <= 20\n",
        "\n",
        "data = data[data['length_eng_sentence']<=20]\n",
        "data = data[data['length_hin_sentence']<=20]"
      ],
      "execution_count": 0,
      "outputs": []
    },
    {
      "cell_type": "code",
      "metadata": {
        "id": "92TRp8v4q_1V",
        "colab_type": "code",
        "colab": {}
      },
      "source": [
        "max_len_hin = max(data['length_hin_sentence'])\n",
        "max_len_eng = max(data['length_eng_sentence'])"
      ],
      "execution_count": 0,
      "outputs": []
    },
    {
      "cell_type": "code",
      "metadata": {
        "id": "o13hL0-bq_1Z",
        "colab_type": "code",
        "colab": {}
      },
      "source": [
        "input_words = sorted(list(all_eng_words))\n",
        "target_words = sorted(list(all_hindi_words))\n",
        "\n",
        "num_encoder_tokens = len(all_eng_words)\n",
        "num_decoder_tokens = len(all_hindi_words) + 1 # 1 for padding"
      ],
      "execution_count": 0,
      "outputs": []
    },
    {
      "cell_type": "code",
      "metadata": {
        "id": "HgyuxbxMq_1c",
        "colab_type": "code",
        "colab": {}
      },
      "source": [
        "input_word2index = dict([(word, i+1) for i, word in enumerate(input_words)])\n",
        "target_word2index = dict([(word, i+1) for i, word in enumerate(target_words)])"
      ],
      "execution_count": 0,
      "outputs": []
    },
    {
      "cell_type": "code",
      "metadata": {
        "id": "QU9yckF9q_1e",
        "colab_type": "code",
        "colab": {}
      },
      "source": [
        "input_index2word = dict((i, word) for word, i in input_word2index.items())\n",
        "target_index2word = dict((i, word) for word, i in target_word2index.items())"
      ],
      "execution_count": 0,
      "outputs": []
    },
    {
      "cell_type": "code",
      "metadata": {
        "id": "Jdk4SvnDq_1h",
        "colab_type": "code",
        "colab": {}
      },
      "source": [
        "# generate test and train data\n",
        "\n",
        "data = shuffle(data)\n",
        "\n",
        "x, y = data['english_sentence'], data['hindi_sentence']\n",
        "\n",
        "train_x, test_x, train_y, test_y = train_test_split(x, y, test_size=0.2, random_state=42)"
      ],
      "execution_count": 0,
      "outputs": []
    },
    {
      "cell_type": "code",
      "metadata": {
        "id": "un0jgoz8q_1k",
        "colab_type": "code",
        "colab": {}
      },
      "source": [
        "def generate_batch(x, y, batch_size = 128):\n",
        "    while True:\n",
        "        for j in range(0, len(x), batch_size):\n",
        "            encoder_input_data = np.zeros((batch_size, max_len_eng),dtype='float32')\n",
        "            decoder_input_data = np.zeros((batch_size, max_len_hin),dtype='float32')\n",
        "            decoder_target_data = np.zeros((batch_size, max_len_hin, num_decoder_tokens),dtype='float32')\n",
        "            for i, (input_text, target_text) in enumerate(zip(x[j:j + batch_size], y[j: j + batch_size])):\n",
        "                for t, word in enumerate(input_text.split()):\n",
        "                    encoder_input_data[i, t] = input_word2index[word] # encoder input seq\n",
        "                for t, word in enumerate(target_text.split()):\n",
        "                    if t < len(target_text.split()) - 1:\n",
        "                        decoder_input_data[i, t] = target_word2index[word] # decoder input seq\n",
        "                    if t > 0:\n",
        "                        decoder_target_data[i, t - 1, target_word2index[word]] = 1.\n",
        "                        \n",
        "            yield([encoder_input_data, decoder_input_data], decoder_target_data)"
      ],
      "execution_count": 0,
      "outputs": []
    },
    {
      "cell_type": "code",
      "metadata": {
        "id": "ZyHjeE_1q_1o",
        "colab_type": "code",
        "colab": {}
      },
      "source": [
        "# encoder\n",
        "\n",
        "encoder_inputs = Input(shape=(None,))\n",
        "enc_emb =  Embedding(num_encoder_tokens, 300, mask_zero=True)(encoder_inputs)\n",
        "encoder_lstm = LSTM(300, return_state=True)\n",
        "encoder_outputs, h, c = encoder_lstm(enc_emb)\n",
        "encoder_states = [h, c]"
      ],
      "execution_count": 0,
      "outputs": []
    },
    {
      "cell_type": "code",
      "metadata": {
        "id": "GzCG30Tyq_1v",
        "colab_type": "code",
        "colab": {}
      },
      "source": [
        "# decoder\n",
        "\n",
        "decoder_inputs = Input(shape=(None,))\n",
        "dec_emb_layer = Embedding(num_decoder_tokens, 300, mask_zero=True)\n",
        "dec_emb = dec_emb_layer(decoder_inputs)\n",
        "decoder_lstm = LSTM(300, return_sequences=True, return_state=True)\n",
        "decoder_outputs, _, _ = decoder_lstm(dec_emb, initial_state=encoder_states)\n",
        "decoder_dense = Dense(num_decoder_tokens, activation='softmax')\n",
        "decoder_outputs = decoder_dense(decoder_outputs)"
      ],
      "execution_count": 0,
      "outputs": []
    },
    {
      "cell_type": "code",
      "metadata": {
        "id": "6-CIQ2Hsq_1y",
        "colab_type": "code",
        "colab": {}
      },
      "source": [
        "# define the model\n",
        "\n",
        "model = Model([encoder_inputs, decoder_inputs], decoder_outputs)\n",
        "model.compile(optimizer='rmsprop', loss='categorical_crossentropy')"
      ],
      "execution_count": 0,
      "outputs": []
    },
    {
      "cell_type": "code",
      "metadata": {
        "id": "4Xv3qFToq_11",
        "colab_type": "code",
        "outputId": "06ee1011-83b4-4c1a-9933-580c51819415",
        "colab": {
          "base_uri": "https://localhost:8080/",
          "height": 1000
        }
      },
      "source": [
        "# train the model\n",
        "\n",
        "train_samples = len(train_x)\n",
        "test_samples = len(test_x)\n",
        "\n",
        "model.fit_generator(\n",
        "    generator = generate_batch(train_x, train_y),\n",
        "    steps_per_epoch = train_samples // 128,\n",
        "    epochs = 100,\n",
        "    validation_data = generate_batch(test_x, test_y),\n",
        "    validation_steps = test_samples // 128\n",
        ")"
      ],
      "execution_count": 63,
      "outputs": [
        {
          "output_type": "stream",
          "text": [
            "Epoch 1/100\n",
            "154/154 [==============================] - 41s 266ms/step - loss: 6.4263 - val_loss: 6.1140\n",
            "Epoch 2/100\n",
            "154/154 [==============================] - 38s 250ms/step - loss: 5.8183 - val_loss: 5.8445\n",
            "Epoch 3/100\n",
            "154/154 [==============================] - 39s 253ms/step - loss: 5.4657 - val_loss: 5.5872\n",
            "Epoch 4/100\n",
            "154/154 [==============================] - 39s 252ms/step - loss: 5.2175 - val_loss: 5.4825\n",
            "Epoch 5/100\n",
            "154/154 [==============================] - 39s 254ms/step - loss: 5.0103 - val_loss: 5.4156\n",
            "Epoch 6/100\n",
            "154/154 [==============================] - 39s 252ms/step - loss: 4.8236 - val_loss: 5.3604\n",
            "Epoch 7/100\n",
            "154/154 [==============================] - 39s 253ms/step - loss: 4.6541 - val_loss: 5.3254\n",
            "Epoch 8/100\n",
            "154/154 [==============================] - 39s 251ms/step - loss: 4.4925 - val_loss: 5.2900\n",
            "Epoch 9/100\n",
            "154/154 [==============================] - 39s 253ms/step - loss: 4.3397 - val_loss: 5.2749\n",
            "Epoch 10/100\n",
            "154/154 [==============================] - 39s 254ms/step - loss: 4.1913 - val_loss: 5.2598\n",
            "Epoch 11/100\n",
            "154/154 [==============================] - 39s 253ms/step - loss: 4.0479 - val_loss: 5.2630\n",
            "Epoch 12/100\n",
            "154/154 [==============================] - 39s 254ms/step - loss: 3.9091 - val_loss: 5.2583\n",
            "Epoch 13/100\n",
            "154/154 [==============================] - 39s 253ms/step - loss: 3.7744 - val_loss: 5.2536\n",
            "Epoch 14/100\n",
            "154/154 [==============================] - 39s 253ms/step - loss: 3.6427 - val_loss: 5.2950\n",
            "Epoch 15/100\n",
            "154/154 [==============================] - 39s 253ms/step - loss: 3.5147 - val_loss: 5.3083\n",
            "Epoch 16/100\n",
            "154/154 [==============================] - 39s 253ms/step - loss: 3.3877 - val_loss: 5.3471\n",
            "Epoch 17/100\n",
            "154/154 [==============================] - 39s 252ms/step - loss: 3.2645 - val_loss: 5.3759\n",
            "Epoch 18/100\n",
            "154/154 [==============================] - 39s 254ms/step - loss: 3.1429 - val_loss: 5.3988\n",
            "Epoch 19/100\n",
            "154/154 [==============================] - 39s 254ms/step - loss: 3.0272 - val_loss: 5.4354\n",
            "Epoch 20/100\n",
            "154/154 [==============================] - 39s 253ms/step - loss: 2.9090 - val_loss: 5.4841\n",
            "Epoch 21/100\n",
            "154/154 [==============================] - 39s 253ms/step - loss: 2.7934 - val_loss: 5.5256\n",
            "Epoch 22/100\n",
            "154/154 [==============================] - 39s 253ms/step - loss: 2.6813 - val_loss: 5.5567\n",
            "Epoch 23/100\n",
            "154/154 [==============================] - 39s 254ms/step - loss: 2.5687 - val_loss: 5.6010\n",
            "Epoch 24/100\n",
            "154/154 [==============================] - 39s 252ms/step - loss: 2.4611 - val_loss: 5.6374\n",
            "Epoch 25/100\n",
            "154/154 [==============================] - 39s 252ms/step - loss: 2.3570 - val_loss: 5.6933\n",
            "Epoch 26/100\n",
            "154/154 [==============================] - 39s 253ms/step - loss: 2.2594 - val_loss: 5.7410\n",
            "Epoch 27/100\n",
            "154/154 [==============================] - 39s 254ms/step - loss: 2.1643 - val_loss: 5.7838\n",
            "Epoch 28/100\n",
            "154/154 [==============================] - 39s 252ms/step - loss: 2.0707 - val_loss: 5.8468\n",
            "Epoch 29/100\n",
            "154/154 [==============================] - 39s 253ms/step - loss: 1.9809 - val_loss: 5.8835\n",
            "Epoch 30/100\n",
            "154/154 [==============================] - 39s 252ms/step - loss: 1.8919 - val_loss: 5.9216\n",
            "Epoch 31/100\n",
            "154/154 [==============================] - 39s 251ms/step - loss: 1.8076 - val_loss: 5.9600\n",
            "Epoch 32/100\n",
            "154/154 [==============================] - 39s 253ms/step - loss: 1.7254 - val_loss: 6.0247\n",
            "Epoch 33/100\n",
            "154/154 [==============================] - 39s 254ms/step - loss: 1.6479 - val_loss: 6.0625\n",
            "Epoch 34/100\n",
            "154/154 [==============================] - 39s 254ms/step - loss: 1.5676 - val_loss: 6.1220\n",
            "Epoch 35/100\n",
            "154/154 [==============================] - 39s 254ms/step - loss: 1.4944 - val_loss: 6.1831\n",
            "Epoch 36/100\n",
            "154/154 [==============================] - 39s 253ms/step - loss: 1.4206 - val_loss: 6.2236\n",
            "Epoch 37/100\n",
            "154/154 [==============================] - 39s 252ms/step - loss: 1.3558 - val_loss: 6.2745\n",
            "Epoch 38/100\n",
            "154/154 [==============================] - 39s 252ms/step - loss: 1.2925 - val_loss: 6.3084\n",
            "Epoch 39/100\n",
            "154/154 [==============================] - 39s 251ms/step - loss: 1.2332 - val_loss: 6.3540\n",
            "Epoch 40/100\n",
            "154/154 [==============================] - 39s 251ms/step - loss: 1.1785 - val_loss: 6.3944\n",
            "Epoch 41/100\n",
            "154/154 [==============================] - 39s 254ms/step - loss: 1.1209 - val_loss: 6.4459\n",
            "Epoch 42/100\n",
            "154/154 [==============================] - 40s 259ms/step - loss: 1.0689 - val_loss: 6.4837\n",
            "Epoch 43/100\n",
            "154/154 [==============================] - 39s 256ms/step - loss: 1.0226 - val_loss: 6.5142\n",
            "Epoch 44/100\n",
            "154/154 [==============================] - 39s 253ms/step - loss: 0.9764 - val_loss: 6.5458\n",
            "Epoch 45/100\n",
            "154/154 [==============================] - 40s 258ms/step - loss: 0.9293 - val_loss: 6.5919\n",
            "Epoch 46/100\n",
            "154/154 [==============================] - 39s 255ms/step - loss: 0.8891 - val_loss: 6.6381\n",
            "Epoch 47/100\n",
            "154/154 [==============================] - 39s 252ms/step - loss: 0.8450 - val_loss: 6.6620\n",
            "Epoch 48/100\n",
            "154/154 [==============================] - 39s 253ms/step - loss: 0.8079 - val_loss: 6.6829\n",
            "Epoch 49/100\n",
            "154/154 [==============================] - 39s 253ms/step - loss: 0.7699 - val_loss: 6.7331\n",
            "Epoch 50/100\n",
            "154/154 [==============================] - 39s 254ms/step - loss: 0.7334 - val_loss: 6.7513\n",
            "Epoch 51/100\n",
            "154/154 [==============================] - 39s 253ms/step - loss: 0.7007 - val_loss: 6.7936\n",
            "Epoch 52/100\n",
            "154/154 [==============================] - 39s 254ms/step - loss: 0.6694 - val_loss: 6.8193\n",
            "Epoch 53/100\n",
            "154/154 [==============================] - 39s 251ms/step - loss: 0.6336 - val_loss: 6.8481\n",
            "Epoch 54/100\n",
            "154/154 [==============================] - 39s 251ms/step - loss: 0.6052 - val_loss: 6.9073\n",
            "Epoch 55/100\n",
            "154/154 [==============================] - 39s 252ms/step - loss: 0.5740 - val_loss: 6.9263\n",
            "Epoch 56/100\n",
            "154/154 [==============================] - 40s 257ms/step - loss: 0.5452 - val_loss: 6.9465\n",
            "Epoch 57/100\n",
            "154/154 [==============================] - 39s 254ms/step - loss: 0.5197 - val_loss: 6.9890\n",
            "Epoch 58/100\n",
            "154/154 [==============================] - 39s 253ms/step - loss: 0.4964 - val_loss: 7.0112\n",
            "Epoch 59/100\n",
            "154/154 [==============================] - 39s 252ms/step - loss: 0.4756 - val_loss: 7.0320\n",
            "Epoch 60/100\n",
            "154/154 [==============================] - 38s 250ms/step - loss: 0.4558 - val_loss: 7.0663\n",
            "Epoch 61/100\n",
            "154/154 [==============================] - 39s 251ms/step - loss: 0.4364 - val_loss: 7.0921\n",
            "Epoch 62/100\n",
            "154/154 [==============================] - 38s 249ms/step - loss: 0.4188 - val_loss: 7.1110\n",
            "Epoch 63/100\n",
            "154/154 [==============================] - 39s 250ms/step - loss: 0.3983 - val_loss: 7.1301\n",
            "Epoch 64/100\n",
            "154/154 [==============================] - 39s 250ms/step - loss: 0.3835 - val_loss: 7.1657\n",
            "Epoch 65/100\n",
            "154/154 [==============================] - 39s 250ms/step - loss: 0.3684 - val_loss: 7.1759\n",
            "Epoch 66/100\n",
            "154/154 [==============================] - 38s 249ms/step - loss: 0.3541 - val_loss: 7.2032\n",
            "Epoch 67/100\n",
            "154/154 [==============================] - 39s 251ms/step - loss: 0.3390 - val_loss: 7.2276\n",
            "Epoch 68/100\n",
            "154/154 [==============================] - 39s 250ms/step - loss: 0.3249 - val_loss: 7.2360\n",
            "Epoch 69/100\n",
            "154/154 [==============================] - 38s 250ms/step - loss: 0.3134 - val_loss: 7.2615\n",
            "Epoch 70/100\n",
            "154/154 [==============================] - 39s 251ms/step - loss: 0.2988 - val_loss: 7.2793\n",
            "Epoch 71/100\n",
            "154/154 [==============================] - 39s 251ms/step - loss: 0.2875 - val_loss: 7.3044\n",
            "Epoch 72/100\n",
            "154/154 [==============================] - 38s 248ms/step - loss: 0.2757 - val_loss: 7.3027\n",
            "Epoch 73/100\n",
            "154/154 [==============================] - 39s 251ms/step - loss: 0.2664 - val_loss: 7.3396\n",
            "Epoch 74/100\n",
            "154/154 [==============================] - 38s 249ms/step - loss: 0.2556 - val_loss: 7.3582\n",
            "Epoch 75/100\n",
            "154/154 [==============================] - 39s 250ms/step - loss: 0.2463 - val_loss: 7.3756\n",
            "Epoch 76/100\n",
            "154/154 [==============================] - 38s 249ms/step - loss: 0.2369 - val_loss: 7.3904\n",
            "Epoch 77/100\n",
            "154/154 [==============================] - 39s 252ms/step - loss: 0.2278 - val_loss: 7.4079\n",
            "Epoch 78/100\n",
            "154/154 [==============================] - 39s 250ms/step - loss: 0.2205 - val_loss: 7.4264\n",
            "Epoch 79/100\n",
            "154/154 [==============================] - 39s 252ms/step - loss: 0.2128 - val_loss: 7.4045\n",
            "Epoch 80/100\n",
            "154/154 [==============================] - 39s 253ms/step - loss: 0.2049 - val_loss: 7.4263\n",
            "Epoch 81/100\n",
            "154/154 [==============================] - 40s 259ms/step - loss: 0.1958 - val_loss: 7.4341\n",
            "Epoch 82/100\n",
            "154/154 [==============================] - 39s 252ms/step - loss: 0.1901 - val_loss: 7.4679\n",
            "Epoch 83/100\n",
            "154/154 [==============================] - 39s 252ms/step - loss: 0.1838 - val_loss: 7.4759\n",
            "Epoch 84/100\n",
            "154/154 [==============================] - 39s 251ms/step - loss: 0.1782 - val_loss: 7.4991\n",
            "Epoch 85/100\n",
            "154/154 [==============================] - 39s 252ms/step - loss: 0.1724 - val_loss: 7.4997\n",
            "Epoch 86/100\n",
            "154/154 [==============================] - 39s 252ms/step - loss: 0.1652 - val_loss: 7.5222\n",
            "Epoch 87/100\n",
            "154/154 [==============================] - 39s 251ms/step - loss: 0.1606 - val_loss: 7.5137\n",
            "Epoch 88/100\n",
            "154/154 [==============================] - 40s 258ms/step - loss: 0.1566 - val_loss: 7.5414\n",
            "Epoch 89/100\n",
            "154/154 [==============================] - 39s 251ms/step - loss: 0.1488 - val_loss: 7.5358\n",
            "Epoch 90/100\n",
            "154/154 [==============================] - 38s 250ms/step - loss: 0.1438 - val_loss: 7.5660\n",
            "Epoch 91/100\n",
            "154/154 [==============================] - 39s 252ms/step - loss: 0.1384 - val_loss: 7.5512\n",
            "Epoch 92/100\n",
            "154/154 [==============================] - 40s 258ms/step - loss: 0.1335 - val_loss: 7.5937\n",
            "Epoch 93/100\n",
            "154/154 [==============================] - 39s 251ms/step - loss: 0.1296 - val_loss: 7.5929\n",
            "Epoch 94/100\n",
            "154/154 [==============================] - 38s 250ms/step - loss: 0.1257 - val_loss: 7.6000\n",
            "Epoch 95/100\n",
            "154/154 [==============================] - 39s 251ms/step - loss: 0.1200 - val_loss: 7.6349\n",
            "Epoch 96/100\n",
            "154/154 [==============================] - 39s 251ms/step - loss: 0.1165 - val_loss: 7.6112\n",
            "Epoch 97/100\n",
            "154/154 [==============================] - 39s 251ms/step - loss: 0.1142 - val_loss: 7.6274\n",
            "Epoch 98/100\n",
            "154/154 [==============================] - 39s 250ms/step - loss: 0.1109 - val_loss: 7.6505\n",
            "Epoch 99/100\n",
            "154/154 [==============================] - 39s 252ms/step - loss: 0.1046 - val_loss: 7.6540\n",
            "Epoch 100/100\n",
            "154/154 [==============================] - 40s 257ms/step - loss: 0.1019 - val_loss: 7.6649\n"
          ],
          "name": "stdout"
        },
        {
          "output_type": "execute_result",
          "data": {
            "text/plain": [
              "<keras.callbacks.History at 0x7f2ad4242d30>"
            ]
          },
          "metadata": {
            "tags": []
          },
          "execution_count": 63
        }
      ]
    },
    {
      "cell_type": "code",
      "metadata": {
        "id": "GaUh--uyq_14",
        "colab_type": "code",
        "colab": {}
      },
      "source": [
        "# encoder model\n",
        "\n",
        "encoder_model = Model(encoder_inputs, encoder_states)"
      ],
      "execution_count": 0,
      "outputs": []
    },
    {
      "cell_type": "code",
      "metadata": {
        "id": "Ybbw8-jZq_18",
        "colab_type": "code",
        "colab": {}
      },
      "source": [
        "# decoder model\n",
        "\n",
        "decoder_state_input_h = Input(shape=(300,))\n",
        "decoder_state_input_c = Input(shape=(300,))\n",
        "decoder_states_inputs = [decoder_state_input_h, decoder_state_input_c]\n",
        "\n",
        "dec_emb2= dec_emb_layer(decoder_inputs)\n",
        "\n",
        "decoder_outputs2, state_h2, state_c2 = decoder_lstm(dec_emb2, initial_state=decoder_states_inputs)\n",
        "decoder_states2 = [state_h2, state_c2]\n",
        "decoder_outputs2 = decoder_dense(decoder_outputs2)\n",
        "\n",
        "decoder_model = Model(\n",
        "    [decoder_inputs] + decoder_states_inputs,\n",
        "    [decoder_outputs2] + decoder_states2\n",
        ")"
      ],
      "execution_count": 0,
      "outputs": []
    },
    {
      "cell_type": "code",
      "metadata": {
        "id": "zGEkh3m7q_2A",
        "colab_type": "code",
        "colab": {}
      },
      "source": [
        "def predict(input_seq):\n",
        "    states_value = encoder_model.predict(input_seq)\n",
        "\n",
        "    target_seq = np.zeros((1,1))\n",
        "    target_seq[0, 0] = target_word2index['<S>']\n",
        "\n",
        "    sentence = ''\n",
        "    while True:\n",
        "        output_tokens, h, c = decoder_model.predict([target_seq] + states_value)\n",
        "\n",
        "        index = np.argmax(output_tokens[0, -1, :])\n",
        "        word = target_index2word[index]\n",
        "        \n",
        "        if word == '<E>' or len(sentence) > 50:\n",
        "            break\n",
        "\n",
        "        sentence += ' ' + word\n",
        "\n",
        "        target_seq = np.zeros((1,1))\n",
        "        target_seq[0, 0] = index\n",
        "        states_value = [h, c]\n",
        "\n",
        "    return sentence"
      ],
      "execution_count": 0,
      "outputs": []
    },
    {
      "cell_type": "code",
      "metadata": {
        "id": "el9m9-eDq_2D",
        "colab_type": "code",
        "colab": {}
      },
      "source": [
        "train_gen = generate_batch(train_x, train_y, batch_size = 1)"
      ],
      "execution_count": 0,
      "outputs": []
    },
    {
      "cell_type": "code",
      "metadata": {
        "id": "7wfIUwUuq_2F",
        "colab_type": "code",
        "outputId": "d19fdd9d-0d9c-4b6a-a28f-f5bddc11b2db",
        "colab": {
          "base_uri": "https://localhost:8080/",
          "height": 70
        }
      },
      "source": [
        "(input_seq, actual_output), _ = next(train_gen)\n",
        "decoded_sentence = predict(input_seq)\n",
        "\n",
        "print('Input English sentence:', train_x[0:1].values[0])\n",
        "print('Actual Hindi Translation:', train_y[0:1].values[0][6:-4])\n",
        "print('Predicted Hindi Translation:', decoded_sentence[:-3])"
      ],
      "execution_count": 81,
      "outputs": [
        {
          "output_type": "stream",
          "text": [
            "Input English sentence: “well yeah yeah thats part of the project”\n",
            "Actual Hindi Translation: ी हाँ बराबर बराबर यह इस परियोजना का हिस्सा है”\n",
            "Predicted Hindi Translation:  “जी हाँ बराबर बराबर यह इस परियोजना का हिस्सा \n"
          ],
          "name": "stdout"
        }
      ]
    },
    {
      "cell_type": "code",
      "metadata": {
        "id": "RE8qy8Rwq_2I",
        "colab_type": "code",
        "colab": {}
      },
      "source": [
        ""
      ],
      "execution_count": 0,
      "outputs": []
    }
  ]
}