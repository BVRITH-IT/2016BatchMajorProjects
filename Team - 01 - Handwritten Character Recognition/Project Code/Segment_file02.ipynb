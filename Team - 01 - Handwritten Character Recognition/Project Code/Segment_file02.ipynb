{
  "nbformat": 4,
  "nbformat_minor": 0,
  "metadata": {
    "colab": {
      "name": "Segment-N.ipynb",
      "provenance": []
    },
    "kernelspec": {
      "name": "python3",
      "display_name": "Python 3"
    },
    "accelerator": "TPU"
  },
  "cells": [
    {
      "cell_type": "code",
      "metadata": {
        "id": "f1RXez6QTKC8",
        "colab_type": "code",
        "outputId": "0dea11c1-0c0b-4e52-b34b-b056f95de575",
        "colab": {
          "base_uri": "https://localhost:8080/",
          "height": 34
        }
      },
      "source": [
        "# # Loading the model\n",
        "\n",
        "# In[1]:\n",
        "\n",
        "\n",
        "from keras.models import load_model\n",
        "from keras.models import model_from_json\n",
        "#from  gtts import gTTS\n",
        "from IPython import get_ipython\n",
        "\n",
        "import os"
      ],
      "execution_count": 1,
      "outputs": [
        {
          "output_type": "stream",
          "text": [
            "Using TensorFlow backend.\n"
          ],
          "name": "stderr"
        }
      ]
    },
    {
      "cell_type": "code",
      "metadata": {
        "id": "Zgyl3o0qefj2",
        "colab_type": "code",
        "colab": {}
      },
      "source": [
        ""
      ],
      "execution_count": 0,
      "outputs": []
    },
    {
      "cell_type": "code",
      "metadata": {
        "id": "rttNrikPejR-",
        "colab_type": "code",
        "outputId": "c8ad1730-68b4-4504-b0ae-3e06040a72c5",
        "colab": {
          "base_uri": "https://localhost:8080/",
          "height": 122
        }
      },
      "source": [
        "from google.colab import drive\n",
        "drive.mount('/content/drive')\n"
      ],
      "execution_count": 2,
      "outputs": [
        {
          "output_type": "stream",
          "text": [
            "Go to this URL in a browser: https://accounts.google.com/o/oauth2/auth?client_id=947318989803-6bn6qk8qdgf4n4g3pfee6491hc0brc4i.apps.googleusercontent.com&redirect_uri=urn%3aietf%3awg%3aoauth%3a2.0%3aoob&response_type=code&scope=email%20https%3a%2f%2fwww.googleapis.com%2fauth%2fdocs.test%20https%3a%2f%2fwww.googleapis.com%2fauth%2fdrive%20https%3a%2f%2fwww.googleapis.com%2fauth%2fdrive.photos.readonly%20https%3a%2f%2fwww.googleapis.com%2fauth%2fpeopleapi.readonly\n",
            "\n",
            "Enter your authorization code:\n",
            "··········\n",
            "Mounted at /content/drive\n"
          ],
          "name": "stdout"
        }
      ]
    },
    {
      "cell_type": "code",
      "metadata": {
        "id": "G8tRr8UMTW6-",
        "colab_type": "code",
        "outputId": "d69e41a0-1462-454e-9dcf-dae436af7eb2",
        "colab": {
          "base_uri": "https://localhost:8080/",
          "height": 34
        }
      },
      "source": [
        "language = 'en'\n",
        "\n",
        "json_file = open('drive/My Drive/Colab Notebook/HCR-N/model1.json', 'r')\n",
        "loaded_model_json = json_file.read()\n",
        "json_file.close()\n",
        "loaded_model = model_from_json(loaded_model_json)\n",
        "\n",
        "\n",
        "loaded_model.load_weights('drive/My Drive/Colab Notebook/HCR-N/model1.h5')\n",
        "\n",
        "model = loaded_model\n",
        "\n",
        "\n",
        "print('Model successfully loaded')\n"
      ],
      "execution_count": 3,
      "outputs": [
        {
          "output_type": "stream",
          "text": [
            "Model successfully loaded\n"
          ],
          "name": "stdout"
        }
      ]
    },
    {
      "cell_type": "code",
      "metadata": {
        "id": "ARTi7lm2TW9r",
        "colab_type": "code",
        "outputId": "c4dc818c-4083-40c1-f2d0-17479386a9f3",
        "colab": {
          "base_uri": "https://localhost:8080/",
          "height": 171
        }
      },
      "source": [
        "import cv2\n",
        "import numpy as np\n",
        "from matplotlib import pyplot as plt\n",
        "\n",
        "characters = ['0','1','2','3','4','5','6','7','8','9','A','B','C','D','E','F','G','H','I','J','K','L','M','N','O','P','Q','R','S','T','U','V','W','X','Y','Z','a','b','c','d','e','f','g','h','i','j','k','l','m','n','o','p','q','r','s','t','u','v','w','x','y','z']\n",
        "\n",
        "\n",
        "#enter input image here\n",
        "image = cv2.imread('drive/My Drive/Colab Notebook/HCR-N2/example5.png')\n",
        "height, width, depth = image.shape\n",
        "#resizing the image to find spaces better\n",
        "image = cv2.resize(image, dsize=(width*5,height*4), interpolation=cv2.INTER_CUBIC)\n",
        "#grayscale\n",
        "gray = cv2.cvtColor(image,cv2.COLOR_BGR2GRAY)\n",
        "\n",
        "\n",
        "#binary\n",
        "ret,thresh = cv2.threshold(gray,127,255,cv2.THRESH_BINARY_INV)\n",
        "\n",
        "\n",
        "#dilation\n",
        "kernel = np.ones((5,5), np.uint8)\n",
        "img_dilation = cv2.dilate(thresh, kernel, iterations=1)\n",
        "\n",
        "\n",
        "#adding GaussianBlur\n",
        "gsblur=cv2.GaussianBlur(img_dilation,(5,5),0)\n",
        "\n",
        "\n",
        "#find contours\n",
        "ctrs, hier = cv2.findContours(gsblur.copy(), cv2.RETR_EXTERNAL, cv2.CHAIN_APPROX_SIMPLE)\n",
        "m = list()\n",
        "#sort contours\n",
        "sorted_ctrs = sorted(ctrs, key=lambda ctr: cv2.boundingRect(ctr)[0])\n",
        "pchl = list()\n",
        "dp = image.copy()\n",
        "for i, ctr in enumerate(sorted_ctrs):\n",
        "\n",
        "    # Get bounding box\n",
        "    x, y, w, h = cv2.boundingRect(ctr)\n",
        "    cv2.rectangle(dp,(x-10,y-10),( x + w + 10, y + h + 10 ),(90,0,255),9)\n",
        "    \n",
        "\n",
        "plt.imshow(dp)\n"
      ],
      "execution_count": 10,
      "outputs": [
        {
          "output_type": "execute_result",
          "data": {
            "text/plain": [
              "<matplotlib.image.AxesImage at 0x7f3be61d5cf8>"
            ]
          },
          "metadata": {
            "tags": []
          },
          "execution_count": 10
        },
        {
          "output_type": "display_data",
          "data": {
            "image/png": "[encoded data removed]",
            "text/plain": [
              "<Figure size 432x288 with 1 Axes>"
            ]
          },
          "metadata": {
            "tags": [],
            "needs_background": "light"
          }
        }
      ]
    },
    {
      "cell_type": "code",
      "metadata": {
        "id": "bTbmePHaTXAc",
        "colab_type": "code",
        "outputId": "21b2fe4a-b4cc-446d-d04d-ff574a83b719",
        "colab": {
          "base_uri": "https://localhost:8080/",
          "height": 377
        }
      },
      "source": [
        "for i, ctr in enumerate(sorted_ctrs):\n",
        "  \n",
        "    # Get bounding box\n",
        "    x, y, w, h = cv2.boundingRect(ctr)\n",
        "    # Getting ROI\n",
        "    roi = image[y-10:y+h+10, x-10:x+w+10]\n",
        "    roi = cv2.resize(roi, dsize=(28,28), interpolation=cv2.INTER_CUBIC)\n",
        "    roi = cv2.cvtColor(roi,cv2.COLOR_BGR2GRAY)\n",
        "    \n",
        "    roi = np.array(roi)\n",
        "    t = np.copy(roi)\n",
        "    t = t / 255.0\n",
        "    t = 1-t\n",
        "    t = t.reshape(1,784)\n",
        "    m.append(roi)\n",
        "    pred = model.predict_classes(t)\n",
        "    pchl.append(pred)\n",
        "pcw = list()\n",
        "interp = 'bilinear'\n",
        "fig, axs = plt.subplots(nrows=len(sorted_ctrs), sharex=True, figsize=(1,len(sorted_ctrs)))\n",
        "for i in range(len(pchl)):\n",
        "    #print (pchl[i][0])\n",
        "    pcw.append(characters[pchl[i][0]])\n",
        "    axs[i].set_title('-------> predicted letter: '+characters[pchl[i][0]], x=2.5,y=0.24)\n",
        "    axs[i].imshow(m[i], interpolation=interp)\n",
        "\n",
        "plt.show()\n"
      ],
      "execution_count": 11,
      "outputs": [
        {
          "output_type": "display_data",
          "data": {
            "image/png": "[encoded data removed]",
            "text/plain": [
              "<Figure size 72x432 with 6 Axes>"
            ]
          },
          "metadata": {
            "tags": [],
            "needs_background": "light"
          }
        }
      ]
    },
    {
      "cell_type": "code",
      "metadata": {
        "id": "-5l4RwtOTXDD",
        "colab_type": "code",
        "outputId": "3374b0aa-a58c-4b93-90f3-a9c7c3a57a83",
        "colab": {
          "base_uri": "https://localhost:8080/",
          "height": 34
        }
      },
      "source": [
        "predstring = ''.join(pcw)\n",
        "print('Predicted String: '+predstring)\n"
      ],
      "execution_count": 12,
      "outputs": [
        {
          "output_type": "stream",
          "text": [
            "Predicted String: GOOgLE\n"
          ],
          "name": "stdout"
        }
      ]
    },
    {
      "cell_type": "code",
      "metadata": {
        "id": "PyJHIEENkJAm",
        "colab_type": "code",
        "colab": {}
      },
      "source": [
        "# !pip install pyttsx3\n",
        "# !pip install gTTS"
      ],
      "execution_count": 0,
      "outputs": []
    },
    {
      "cell_type": "code",
      "metadata": {
        "id": "G0kHHM3STXFT",
        "colab_type": "code",
        "colab": {}
      },
      "source": [
        "# from  gtts import gTTS\n",
        "# myobj = gTTS(text=predstring, lang=language, slow=False)\n",
        "# myobj.save(\"welcome.mp3\")\n",
        "# os.system(\"welcome.mp3\")"
      ],
      "execution_count": 0,
      "outputs": []
    },
    {
      "cell_type": "code",
      "metadata": {
        "id": "pnfWU3W6L4FO",
        "colab_type": "code",
        "colab": {}
      },
      "source": [
        ""
      ],
      "execution_count": 0,
      "outputs": []
    }
  ]
}