{
 "cells": [
  {
   "cell_type": "markdown",
   "metadata": {},
   "source": [
    "# Breast Cancer Prediction"
   ]
  },
  {
   "cell_type": "markdown",
   "metadata": {},
   "source": [
    "## 1. Data processing"
   ]
  },
  {
   "cell_type": "code",
   "execution_count": 1,
   "metadata": {
    "collapsed": false
   },
   "outputs": [
    {
     "data": {
      "text/plain": [
       "id                           0\n",
       "diagnosis                    0\n",
       "radius_mean                  0\n",
       "texture_mean                 0\n",
       "perimeter_mean               0\n",
       "area_mean                    0\n",
       "smoothness_mean              0\n",
       "compactness_mean             0\n",
       "concavity_mean               0\n",
       "concave points_mean          0\n",
       "symmetry_mean                0\n",
       "fractal_dimension_mean       0\n",
       "radius_se                    0\n",
       "texture_se                   0\n",
       "perimeter_se                 0\n",
       "area_se                      0\n",
       "smoothness_se                0\n",
       "compactness_se               0\n",
       "concavity_se                 0\n",
       "concave points_se            0\n",
       "symmetry_se                  0\n",
       "fractal_dimension_se         0\n",
       "radius_worst                 0\n",
       "texture_worst                0\n",
       "perimeter_worst              0\n",
       "area_worst                   0\n",
       "smoothness_worst             0\n",
       "compactness_worst            0\n",
       "concavity_worst              0\n",
       "concave points_worst         0\n",
       "symmetry_worst               0\n",
       "fractal_dimension_worst      0\n",
       "Unnamed: 32                569\n",
       "dtype: int64"
      ]
     },
     "execution_count": 1,
     "metadata": {},
     "output_type": "execute_result"
    }
   ],
   "source": [
    "# load data\n",
    "import pandas as pd\n",
    "import matplotlib.pyplot as plt\n",
    "import seaborn as sns\n",
    "import numpy as np\n",
    "import itertools\n",
    "import timeit\n",
    "\n",
    "plt.style.use('fivethirtyeight')\n",
    "%matplotlib inline\n",
    "\n",
    "cancer=pd.read_csv('data/breast-cancer-w-diag.csv', header=0)\n",
    "cancer.isnull().sum()"
   ]
  },
  {
   "cell_type": "code",
   "execution_count": 2,
   "metadata": {
    "collapsed": false
   },
   "outputs": [
    {
     "data": {
      "image/png": "[encoded data removed]",
      "text/plain": [
       "<matplotlib.figure.Figure at 0x1055c2750>"
      ]
     },
     "metadata": {},
     "output_type": "display_data"
    }
   ],
   "source": [
    "sns.countplot(x='diagnosis',data=cancer)\n",
    "plt.show()"
   ]
  },
  {
   "cell_type": "code",
   "execution_count": 3,
   "metadata": {
    "collapsed": false
   },
   "outputs": [
    {
     "data": {
      "text/plain": [
       "id                           int64\n",
       "diagnosis                   object\n",
       "radius_mean                float64\n",
       "texture_mean               float64\n",
       "perimeter_mean             float64\n",
       "area_mean                  float64\n",
       "smoothness_mean            float64\n",
       "compactness_mean           float64\n",
       "concavity_mean             float64\n",
       "concave points_mean        float64\n",
       "symmetry_mean              float64\n",
       "fractal_dimension_mean     float64\n",
       "radius_se                  float64\n",
       "texture_se                 float64\n",
       "perimeter_se               float64\n",
       "area_se                    float64\n",
       "smoothness_se              float64\n",
       "compactness_se             float64\n",
       "concavity_se               float64\n",
       "concave points_se          float64\n",
       "symmetry_se                float64\n",
       "fractal_dimension_se       float64\n",
       "radius_worst               float64\n",
       "texture_worst              float64\n",
       "perimeter_worst            float64\n",
       "area_worst                 float64\n",
       "smoothness_worst           float64\n",
       "compactness_worst          float64\n",
       "concavity_worst            float64\n",
       "concave points_worst       float64\n",
       "symmetry_worst             float64\n",
       "fractal_dimension_worst    float64\n",
       "Unnamed: 32                float64\n",
       "dtype: object"
      ]
     },
     "execution_count": 3,
     "metadata": {},
     "output_type": "execute_result"
    }
   ],
   "source": [
    "cancer.dtypes"
   ]
  },
  {
   "cell_type": "code",
   "execution_count": 4,
   "metadata": {
    "collapsed": false
   },
   "outputs": [
    {
     "data": {
      "text/html": [
       "<div>\n",
       "<style>\n",
       "    .dataframe thead tr:only-child th {\n",
       "        text-align: right;\n",
       "    }\n",
       "\n",
       "    .dataframe thead th {\n",
       "        text-align: left;\n",
       "    }\n",
       "\n",
       "    .dataframe tbody tr th {\n",
       "        vertical-align: top;\n",
       "    }\n",
       "</style>\n",
       "<table border=\"1\" class=\"dataframe\">\n",
       "  <thead>\n",
       "    <tr style=\"text-align: right;\">\n",
       "      <th></th>\n",
       "      <th>id</th>\n",
       "      <th>diagnosis</th>\n",
       "      <th>radius_mean</th>\n",
       "      <th>texture_mean</th>\n",
       "      <th>perimeter_mean</th>\n",
       "      <th>area_mean</th>\n",
       "      <th>smoothness_mean</th>\n",
       "      <th>compactness_mean</th>\n",
       "      <th>concavity_mean</th>\n",
       "      <th>concave points_mean</th>\n",
       "      <th>...</th>\n",
       "      <th>texture_worst</th>\n",
       "      <th>perimeter_worst</th>\n",
       "      <th>area_worst</th>\n",
       "      <th>smoothness_worst</th>\n",
       "      <th>compactness_worst</th>\n",
       "      <th>concavity_worst</th>\n",
       "      <th>concave points_worst</th>\n",
       "      <th>symmetry_worst</th>\n",
       "      <th>fractal_dimension_worst</th>\n",
       "      <th>Unnamed: 32</th>\n",
       "    </tr>\n",
       "  </thead>\n",
       "  <tbody>\n",
       "    <tr>\n",
       "      <th>0</th>\n",
       "      <td>842302</td>\n",
       "      <td>M</td>\n",
       "      <td>17.99</td>\n",
       "      <td>10.38</td>\n",
       "      <td>122.80</td>\n",
       "      <td>1001.0</td>\n",
       "      <td>0.11840</td>\n",
       "      <td>0.27760</td>\n",
       "      <td>0.3001</td>\n",
       "      <td>0.14710</td>\n",
       "      <td>...</td>\n",
       "      <td>17.33</td>\n",
       "      <td>184.60</td>\n",
       "      <td>2019.0</td>\n",
       "      <td>0.1622</td>\n",
       "      <td>0.6656</td>\n",
       "      <td>0.7119</td>\n",
       "      <td>0.2654</td>\n",
       "      <td>0.4601</td>\n",
       "      <td>0.11890</td>\n",
       "      <td>NaN</td>\n",
       "    </tr>\n",
       "    <tr>\n",
       "      <th>1</th>\n",
       "      <td>842517</td>\n",
       "      <td>M</td>\n",
       "      <td>20.57</td>\n",
       "      <td>17.77</td>\n",
       "      <td>132.90</td>\n",
       "      <td>1326.0</td>\n",
       "      <td>0.08474</td>\n",
       "      <td>0.07864</td>\n",
       "      <td>0.0869</td>\n",
       "      <td>0.07017</td>\n",
       "      <td>...</td>\n",
       "      <td>23.41</td>\n",
       "      <td>158.80</td>\n",
       "      <td>1956.0</td>\n",
       "      <td>0.1238</td>\n",
       "      <td>0.1866</td>\n",
       "      <td>0.2416</td>\n",
       "      <td>0.1860</td>\n",
       "      <td>0.2750</td>\n",
       "      <td>0.08902</td>\n",
       "      <td>NaN</td>\n",
       "    </tr>\n",
       "    <tr>\n",
       "      <th>2</th>\n",
       "      <td>84300903</td>\n",
       "      <td>M</td>\n",
       "      <td>19.69</td>\n",
       "      <td>21.25</td>\n",
       "      <td>130.00</td>\n",
       "      <td>1203.0</td>\n",
       "      <td>0.10960</td>\n",
       "      <td>0.15990</td>\n",
       "      <td>0.1974</td>\n",
       "      <td>0.12790</td>\n",
       "      <td>...</td>\n",
       "      <td>25.53</td>\n",
       "      <td>152.50</td>\n",
       "      <td>1709.0</td>\n",
       "      <td>0.1444</td>\n",
       "      <td>0.4245</td>\n",
       "      <td>0.4504</td>\n",
       "      <td>0.2430</td>\n",
       "      <td>0.3613</td>\n",
       "      <td>0.08758</td>\n",
       "      <td>NaN</td>\n",
       "    </tr>\n",
       "    <tr>\n",
       "      <th>3</th>\n",
       "      <td>84348301</td>\n",
       "      <td>M</td>\n",
       "      <td>11.42</td>\n",
       "      <td>20.38</td>\n",
       "      <td>77.58</td>\n",
       "      <td>386.1</td>\n",
       "      <td>0.14250</td>\n",
       "      <td>0.28390</td>\n",
       "      <td>0.2414</td>\n",
       "      <td>0.10520</td>\n",
       "      <td>...</td>\n",
       "      <td>26.50</td>\n",
       "      <td>98.87</td>\n",
       "      <td>567.7</td>\n",
       "      <td>0.2098</td>\n",
       "      <td>0.8663</td>\n",
       "      <td>0.6869</td>\n",
       "      <td>0.2575</td>\n",
       "      <td>0.6638</td>\n",
       "      <td>0.17300</td>\n",
       "      <td>NaN</td>\n",
       "    </tr>\n",
       "    <tr>\n",
       "      <th>4</th>\n",
       "      <td>84358402</td>\n",
       "      <td>M</td>\n",
       "      <td>20.29</td>\n",
       "      <td>14.34</td>\n",
       "      <td>135.10</td>\n",
       "      <td>1297.0</td>\n",
       "      <td>0.10030</td>\n",
       "      <td>0.13280</td>\n",
       "      <td>0.1980</td>\n",
       "      <td>0.10430</td>\n",
       "      <td>...</td>\n",
       "      <td>16.67</td>\n",
       "      <td>152.20</td>\n",
       "      <td>1575.0</td>\n",
       "      <td>0.1374</td>\n",
       "      <td>0.2050</td>\n",
       "      <td>0.4000</td>\n",
       "      <td>0.1625</td>\n",
       "      <td>0.2364</td>\n",
       "      <td>0.07678</td>\n",
       "      <td>NaN</td>\n",
       "    </tr>\n",
       "  </tbody>\n",
       "</table>\n",
       "<p>5 rows × 33 columns</p>\n",
       "</div>"
      ],
      "text/plain": [
       "         id diagnosis  radius_mean  texture_mean  perimeter_mean  area_mean  \\\n",
       "0    842302         M        17.99         10.38          122.80     1001.0   \n",
       "1    842517         M        20.57         17.77          132.90     1326.0   \n",
       "2  84300903         M        19.69         21.25          130.00     1203.0   \n",
       "3  84348301         M        11.42         20.38           77.58      386.1   \n",
       "4  84358402         M        20.29         14.34          135.10     1297.0   \n",
       "\n",
       "   smoothness_mean  compactness_mean  concavity_mean  concave points_mean  \\\n",
       "0          0.11840           0.27760          0.3001              0.14710   \n",
       "1          0.08474           0.07864          0.0869              0.07017   \n",
       "2          0.10960           0.15990          0.1974              0.12790   \n",
       "3          0.14250           0.28390          0.2414              0.10520   \n",
       "4          0.10030           0.13280          0.1980              0.10430   \n",
       "\n",
       "      ...       texture_worst  perimeter_worst  area_worst  smoothness_worst  \\\n",
       "0     ...               17.33           184.60      2019.0            0.1622   \n",
       "1     ...               23.41           158.80      1956.0            0.1238   \n",
       "2     ...               25.53           152.50      1709.0            0.1444   \n",
       "3     ...               26.50            98.87       567.7            0.2098   \n",
       "4     ...               16.67           152.20      1575.0            0.1374   \n",
       "\n",
       "   compactness_worst  concavity_worst  concave points_worst  symmetry_worst  \\\n",
       "0             0.6656           0.7119                0.2654          0.4601   \n",
       "1             0.1866           0.2416                0.1860          0.2750   \n",
       "2             0.4245           0.4504                0.2430          0.3613   \n",
       "3             0.8663           0.6869                0.2575          0.6638   \n",
       "4             0.2050           0.4000                0.1625          0.2364   \n",
       "\n",
       "   fractal_dimension_worst  Unnamed: 32  \n",
       "0                  0.11890          NaN  \n",
       "1                  0.08902          NaN  \n",
       "2                  0.08758          NaN  \n",
       "3                  0.17300          NaN  \n",
       "4                  0.07678          NaN  \n",
       "\n",
       "[5 rows x 33 columns]"
      ]
     },
     "execution_count": 4,
     "metadata": {},
     "output_type": "execute_result"
    }
   ],
   "source": [
    "cancer.head()"
   ]
  },
  {
   "cell_type": "code",
   "execution_count": 5,
   "metadata": {
    "collapsed": false
   },
   "outputs": [
    {
     "data": {
      "text/plain": [
       "569"
      ]
     },
     "execution_count": 5,
     "metadata": {},
     "output_type": "execute_result"
    }
   ],
   "source": [
    "cancer.drop('id',axis=1,inplace=True)\n",
    "cancer.drop('Unnamed: 32',axis=1,inplace=True)\n",
    "# size of the dataframe\n",
    "len(cancer)"
   ]
  },
  {
   "cell_type": "code",
   "execution_count": 6,
   "metadata": {
    "collapsed": false
   },
   "outputs": [
    {
     "data": {
      "text/plain": [
       "array(['M', 'B'], dtype=object)"
      ]
     },
     "execution_count": 6,
     "metadata": {},
     "output_type": "execute_result"
    }
   ],
   "source": [
    "cancer.diagnosis.unique()"
   ]
  },
  {
   "cell_type": "code",
   "execution_count": 7,
   "metadata": {
    "collapsed": false
   },
   "outputs": [
    {
     "data": {
      "text/html": [
       "<div>\n",
       "<style>\n",
       "    .dataframe thead tr:only-child th {\n",
       "        text-align: right;\n",
       "    }\n",
       "\n",
       "    .dataframe thead th {\n",
       "        text-align: left;\n",
       "    }\n",
       "\n",
       "    .dataframe tbody tr th {\n",
       "        vertical-align: top;\n",
       "    }\n",
       "</style>\n",
       "<table border=\"1\" class=\"dataframe\">\n",
       "  <thead>\n",
       "    <tr style=\"text-align: right;\">\n",
       "      <th></th>\n",
       "      <th>diagnosis</th>\n",
       "      <th>radius_mean</th>\n",
       "      <th>texture_mean</th>\n",
       "      <th>perimeter_mean</th>\n",
       "      <th>area_mean</th>\n",
       "      <th>smoothness_mean</th>\n",
       "      <th>compactness_mean</th>\n",
       "      <th>concavity_mean</th>\n",
       "      <th>concave points_mean</th>\n",
       "      <th>symmetry_mean</th>\n",
       "      <th>...</th>\n",
       "      <th>radius_worst</th>\n",
       "      <th>texture_worst</th>\n",
       "      <th>perimeter_worst</th>\n",
       "      <th>area_worst</th>\n",
       "      <th>smoothness_worst</th>\n",
       "      <th>compactness_worst</th>\n",
       "      <th>concavity_worst</th>\n",
       "      <th>concave points_worst</th>\n",
       "      <th>symmetry_worst</th>\n",
       "      <th>fractal_dimension_worst</th>\n",
       "    </tr>\n",
       "  </thead>\n",
       "  <tbody>\n",
       "    <tr>\n",
       "      <th>0</th>\n",
       "      <td>1</td>\n",
       "      <td>17.99</td>\n",
       "      <td>10.38</td>\n",
       "      <td>122.80</td>\n",
       "      <td>1001.0</td>\n",
       "      <td>0.11840</td>\n",
       "      <td>0.27760</td>\n",
       "      <td>0.3001</td>\n",
       "      <td>0.14710</td>\n",
       "      <td>0.2419</td>\n",
       "      <td>...</td>\n",
       "      <td>25.38</td>\n",
       "      <td>17.33</td>\n",
       "      <td>184.60</td>\n",
       "      <td>2019.0</td>\n",
       "      <td>0.1622</td>\n",
       "      <td>0.6656</td>\n",
       "      <td>0.7119</td>\n",
       "      <td>0.2654</td>\n",
       "      <td>0.4601</td>\n",
       "      <td>0.11890</td>\n",
       "    </tr>\n",
       "    <tr>\n",
       "      <th>1</th>\n",
       "      <td>1</td>\n",
       "      <td>20.57</td>\n",
       "      <td>17.77</td>\n",
       "      <td>132.90</td>\n",
       "      <td>1326.0</td>\n",
       "      <td>0.08474</td>\n",
       "      <td>0.07864</td>\n",
       "      <td>0.0869</td>\n",
       "      <td>0.07017</td>\n",
       "      <td>0.1812</td>\n",
       "      <td>...</td>\n",
       "      <td>24.99</td>\n",
       "      <td>23.41</td>\n",
       "      <td>158.80</td>\n",
       "      <td>1956.0</td>\n",
       "      <td>0.1238</td>\n",
       "      <td>0.1866</td>\n",
       "      <td>0.2416</td>\n",
       "      <td>0.1860</td>\n",
       "      <td>0.2750</td>\n",
       "      <td>0.08902</td>\n",
       "    </tr>\n",
       "    <tr>\n",
       "      <th>2</th>\n",
       "      <td>1</td>\n",
       "      <td>19.69</td>\n",
       "      <td>21.25</td>\n",
       "      <td>130.00</td>\n",
       "      <td>1203.0</td>\n",
       "      <td>0.10960</td>\n",
       "      <td>0.15990</td>\n",
       "      <td>0.1974</td>\n",
       "      <td>0.12790</td>\n",
       "      <td>0.2069</td>\n",
       "      <td>...</td>\n",
       "      <td>23.57</td>\n",
       "      <td>25.53</td>\n",
       "      <td>152.50</td>\n",
       "      <td>1709.0</td>\n",
       "      <td>0.1444</td>\n",
       "      <td>0.4245</td>\n",
       "      <td>0.4504</td>\n",
       "      <td>0.2430</td>\n",
       "      <td>0.3613</td>\n",
       "      <td>0.08758</td>\n",
       "    </tr>\n",
       "    <tr>\n",
       "      <th>3</th>\n",
       "      <td>1</td>\n",
       "      <td>11.42</td>\n",
       "      <td>20.38</td>\n",
       "      <td>77.58</td>\n",
       "      <td>386.1</td>\n",
       "      <td>0.14250</td>\n",
       "      <td>0.28390</td>\n",
       "      <td>0.2414</td>\n",
       "      <td>0.10520</td>\n",
       "      <td>0.2597</td>\n",
       "      <td>...</td>\n",
       "      <td>14.91</td>\n",
       "      <td>26.50</td>\n",
       "      <td>98.87</td>\n",
       "      <td>567.7</td>\n",
       "      <td>0.2098</td>\n",
       "      <td>0.8663</td>\n",
       "      <td>0.6869</td>\n",
       "      <td>0.2575</td>\n",
       "      <td>0.6638</td>\n",
       "      <td>0.17300</td>\n",
       "    </tr>\n",
       "    <tr>\n",
       "      <th>4</th>\n",
       "      <td>1</td>\n",
       "      <td>20.29</td>\n",
       "      <td>14.34</td>\n",
       "      <td>135.10</td>\n",
       "      <td>1297.0</td>\n",
       "      <td>0.10030</td>\n",
       "      <td>0.13280</td>\n",
       "      <td>0.1980</td>\n",
       "      <td>0.10430</td>\n",
       "      <td>0.1809</td>\n",
       "      <td>...</td>\n",
       "      <td>22.54</td>\n",
       "      <td>16.67</td>\n",
       "      <td>152.20</td>\n",
       "      <td>1575.0</td>\n",
       "      <td>0.1374</td>\n",
       "      <td>0.2050</td>\n",
       "      <td>0.4000</td>\n",
       "      <td>0.1625</td>\n",
       "      <td>0.2364</td>\n",
       "      <td>0.07678</td>\n",
       "    </tr>\n",
       "  </tbody>\n",
       "</table>\n",
       "<p>5 rows × 31 columns</p>\n",
       "</div>"
      ],
      "text/plain": [
       "   diagnosis  radius_mean  texture_mean  perimeter_mean  area_mean  \\\n",
       "0          1        17.99         10.38          122.80     1001.0   \n",
       "1          1        20.57         17.77          132.90     1326.0   \n",
       "2          1        19.69         21.25          130.00     1203.0   \n",
       "3          1        11.42         20.38           77.58      386.1   \n",
       "4          1        20.29         14.34          135.10     1297.0   \n",
       "\n",
       "   smoothness_mean  compactness_mean  concavity_mean  concave points_mean  \\\n",
       "0          0.11840           0.27760          0.3001              0.14710   \n",
       "1          0.08474           0.07864          0.0869              0.07017   \n",
       "2          0.10960           0.15990          0.1974              0.12790   \n",
       "3          0.14250           0.28390          0.2414              0.10520   \n",
       "4          0.10030           0.13280          0.1980              0.10430   \n",
       "\n",
       "   symmetry_mean           ...             radius_worst  texture_worst  \\\n",
       "0         0.2419           ...                    25.38          17.33   \n",
       "1         0.1812           ...                    24.99          23.41   \n",
       "2         0.2069           ...                    23.57          25.53   \n",
       "3         0.2597           ...                    14.91          26.50   \n",
       "4         0.1809           ...                    22.54          16.67   \n",
       "\n",
       "   perimeter_worst  area_worst  smoothness_worst  compactness_worst  \\\n",
       "0           184.60      2019.0            0.1622             0.6656   \n",
       "1           158.80      1956.0            0.1238             0.1866   \n",
       "2           152.50      1709.0            0.1444             0.4245   \n",
       "3            98.87       567.7            0.2098             0.8663   \n",
       "4           152.20      1575.0            0.1374             0.2050   \n",
       "\n",
       "   concavity_worst  concave points_worst  symmetry_worst  \\\n",
       "0           0.7119                0.2654          0.4601   \n",
       "1           0.2416                0.1860          0.2750   \n",
       "2           0.4504                0.2430          0.3613   \n",
       "3           0.6869                0.2575          0.6638   \n",
       "4           0.4000                0.1625          0.2364   \n",
       "\n",
       "   fractal_dimension_worst  \n",
       "0                  0.11890  \n",
       "1                  0.08902  \n",
       "2                  0.08758  \n",
       "3                  0.17300  \n",
       "4                  0.07678  \n",
       "\n",
       "[5 rows x 31 columns]"
      ]
     },
     "execution_count": 7,
     "metadata": {},
     "output_type": "execute_result"
    }
   ],
   "source": [
    "cancer['diagnosis'] = cancer['diagnosis'].map({'M':1,'B':0})\n",
    "cancer.head()"
   ]
  },
  {
   "cell_type": "code",
   "execution_count": 8,
   "metadata": {
    "collapsed": false
   },
   "outputs": [
    {
     "data": {
      "text/html": [
       "<div>\n",
       "<style>\n",
       "    .dataframe thead tr:only-child th {\n",
       "        text-align: right;\n",
       "    }\n",
       "\n",
       "    .dataframe thead th {\n",
       "        text-align: left;\n",
       "    }\n",
       "\n",
       "    .dataframe tbody tr th {\n",
       "        vertical-align: top;\n",
       "    }\n",
       "</style>\n",
       "<table border=\"1\" class=\"dataframe\">\n",
       "  <thead>\n",
       "    <tr style=\"text-align: right;\">\n",
       "      <th></th>\n",
       "      <th>diagnosis</th>\n",
       "      <th>radius_mean</th>\n",
       "      <th>texture_mean</th>\n",
       "      <th>perimeter_mean</th>\n",
       "      <th>area_mean</th>\n",
       "      <th>smoothness_mean</th>\n",
       "      <th>compactness_mean</th>\n",
       "      <th>concavity_mean</th>\n",
       "      <th>concave points_mean</th>\n",
       "      <th>symmetry_mean</th>\n",
       "      <th>...</th>\n",
       "      <th>radius_worst</th>\n",
       "      <th>texture_worst</th>\n",
       "      <th>perimeter_worst</th>\n",
       "      <th>area_worst</th>\n",
       "      <th>smoothness_worst</th>\n",
       "      <th>compactness_worst</th>\n",
       "      <th>concavity_worst</th>\n",
       "      <th>concave points_worst</th>\n",
       "      <th>symmetry_worst</th>\n",
       "      <th>fractal_dimension_worst</th>\n",
       "    </tr>\n",
       "  </thead>\n",
       "  <tbody>\n",
       "    <tr>\n",
       "      <th>0</th>\n",
       "      <td>1</td>\n",
       "      <td>17.99</td>\n",
       "      <td>10.38</td>\n",
       "      <td>122.8</td>\n",
       "      <td>1001.0</td>\n",
       "      <td>0.11840</td>\n",
       "      <td>0.27760</td>\n",
       "      <td>0.3001</td>\n",
       "      <td>0.14710</td>\n",
       "      <td>0.2419</td>\n",
       "      <td>...</td>\n",
       "      <td>25.38</td>\n",
       "      <td>17.33</td>\n",
       "      <td>184.6</td>\n",
       "      <td>2019.0</td>\n",
       "      <td>0.1622</td>\n",
       "      <td>0.6656</td>\n",
       "      <td>0.7119</td>\n",
       "      <td>0.2654</td>\n",
       "      <td>0.4601</td>\n",
       "      <td>0.11890</td>\n",
       "    </tr>\n",
       "    <tr>\n",
       "      <th>1</th>\n",
       "      <td>1</td>\n",
       "      <td>20.57</td>\n",
       "      <td>17.77</td>\n",
       "      <td>132.9</td>\n",
       "      <td>1326.0</td>\n",
       "      <td>0.08474</td>\n",
       "      <td>0.07864</td>\n",
       "      <td>0.0869</td>\n",
       "      <td>0.07017</td>\n",
       "      <td>0.1812</td>\n",
       "      <td>...</td>\n",
       "      <td>24.99</td>\n",
       "      <td>23.41</td>\n",
       "      <td>158.8</td>\n",
       "      <td>1956.0</td>\n",
       "      <td>0.1238</td>\n",
       "      <td>0.1866</td>\n",
       "      <td>0.2416</td>\n",
       "      <td>0.1860</td>\n",
       "      <td>0.2750</td>\n",
       "      <td>0.08902</td>\n",
       "    </tr>\n",
       "  </tbody>\n",
       "</table>\n",
       "<p>2 rows × 31 columns</p>\n",
       "</div>"
      ],
      "text/plain": [
       "   diagnosis  radius_mean  texture_mean  perimeter_mean  area_mean  \\\n",
       "0          1        17.99         10.38           122.8     1001.0   \n",
       "1          1        20.57         17.77           132.9     1326.0   \n",
       "\n",
       "   smoothness_mean  compactness_mean  concavity_mean  concave points_mean  \\\n",
       "0          0.11840           0.27760          0.3001              0.14710   \n",
       "1          0.08474           0.07864          0.0869              0.07017   \n",
       "\n",
       "   symmetry_mean           ...             radius_worst  texture_worst  \\\n",
       "0         0.2419           ...                    25.38          17.33   \n",
       "1         0.1812           ...                    24.99          23.41   \n",
       "\n",
       "   perimeter_worst  area_worst  smoothness_worst  compactness_worst  \\\n",
       "0            184.6      2019.0            0.1622             0.6656   \n",
       "1            158.8      1956.0            0.1238             0.1866   \n",
       "\n",
       "   concavity_worst  concave points_worst  symmetry_worst  \\\n",
       "0           0.7119                0.2654          0.4601   \n",
       "1           0.2416                0.1860          0.2750   \n",
       "\n",
       "   fractal_dimension_worst  \n",
       "0                  0.11890  \n",
       "1                  0.08902  \n",
       "\n",
       "[2 rows x 31 columns]"
      ]
     },
     "execution_count": 8,
     "metadata": {},
     "output_type": "execute_result"
    }
   ],
   "source": [
    "cancer.head(2)"
   ]
  },
  {
   "cell_type": "code",
   "execution_count": 9,
   "metadata": {
    "collapsed": false
   },
   "outputs": [
    {
     "data": {
      "image/png": "[encoded data removed]",
      "text/plain": [
       "<matplotlib.figure.Figure at 0x113698310>"
      ]
     },
     "metadata": {},
     "output_type": "display_data"
    }
   ],
   "source": [
    "columns=cancer.columns[1:31]\n",
    "plt.subplots(figsize=(18,15))\n",
    "length=len(columns)\n",
    "for i,j in itertools.izip_longest(columns,range(length)):\n",
    "    plt.subplot((length/2),3,j+1)\n",
    "    plt.subplots_adjust(wspace=0.2,hspace=0.5)\n",
    "    cancer[i].hist(bins=20,edgecolor='black')\n",
    "    plt.title(i)\n",
    "plt.show()"
   ]
  },
  {
   "cell_type": "markdown",
   "metadata": {},
   "source": [
    "### nucleus features vs diagnosis"
   ]
  },
  {
   "cell_type": "code",
   "execution_count": 10,
   "metadata": {
    "collapsed": true
   },
   "outputs": [],
   "source": [
    "features_mean=list(cancer.columns[1:11])\n",
    "# split dataframe into two based on diagnosis\n",
    "dfM=cancer[cancer['diagnosis'] ==1]\n",
    "dfB=cancer[cancer['diagnosis'] ==0]"
   ]
  },
  {
   "cell_type": "code",
   "execution_count": 11,
   "metadata": {
    "collapsed": false
   },
   "outputs": [
    {
     "data": {
      "image/png": "[encoded data removed]",
      "text/plain": [
       "<matplotlib.figure.Figure at 0x113687490>"
      ]
     },
     "metadata": {},
     "output_type": "display_data"
    }
   ],
   "source": [
    "#Stack the data\n",
    "plt.rcParams.update({'font.size': 8})\n",
    "fig, axes = plt.subplots(nrows=5, ncols=2, figsize=(8,10))\n",
    "axes = axes.ravel()\n",
    "for idx,ax in enumerate(axes):\n",
    "    ax.figure\n",
    "    binwidth= (max(cancer[features_mean[idx]]) - min(cancer[features_mean[idx]]))/50\n",
    "    ax.hist([dfM[features_mean[idx]],dfB[features_mean[idx]]], bins=np.arange(min(cancer[features_mean[idx]]), max(cancer[features_mean[idx]]) + binwidth, binwidth) , alpha=0.5,stacked=True, normed = True, label=['M','B'],color=['r','g'])\n",
    "    ax.legend(loc='upper right')\n",
    "    ax.set_title(features_mean[idx])\n",
    "plt.tight_layout()\n",
    "plt.show()"
   ]
  },
  {
   "cell_type": "code",
   "execution_count": 13,
   "metadata": {
    "collapsed": false
   },
   "outputs": [
    {
     "name": "stderr",
     "output_type": "stream",
     "text": [
      "/Users/xiaolu/anaconda/lib/python2.7/site-packages/sklearn/cross_validation.py:41: DeprecationWarning: This module was deprecated in version 0.18 in favor of the model_selection module into which all the refactored classes and functions are moved. Also note that the interface of the new CV iterators are different from that of this module. This module will be removed in 0.20.\n",
      "  \"This module will be removed in 0.20.\", DeprecationWarning)\n",
      "/Users/xiaolu/anaconda/lib/python2.7/site-packages/sklearn/learning_curve.py:22: DeprecationWarning: This module was deprecated in version 0.18 in favor of the model_selection module into which all the functions are moved. This module will be removed in 0.20\n",
      "  DeprecationWarning)\n"
     ]
    }
   ],
   "source": [
    "from sklearn.model_selection import train_test_split\n",
    "from sklearn import metrics\n",
    "from sklearn.metrics import accuracy_score\n",
    "from sklearn.cross_validation import cross_val_score\n",
    "from sklearn.model_selection import GridSearchCV\n",
    "from sklearn.learning_curve import validation_curve\n",
    "from sklearn.learning_curve import learning_curve\n",
    "from time import time\n",
    "import warnings\n",
    "warnings.filterwarnings('ignore')\n",
    "\n",
    "# set the following figure sizes\n",
    "plt.rcParams.update({'font.size': 10})\n",
    "plt.rcParams.update({'figure.figsize': (4,3)})"
   ]
  },
  {
   "cell_type": "markdown",
   "metadata": {},
   "source": [
    "### Stratification\n",
    "When we split the dataset into train and test datasets, the split is completely random. Thus the instances of each class label or outcome in the train or test datasets is random. Thus we may have many instances of class 1 in training data and less instances of class 2 in the training data. So during classification, we may have accurate predictions for class1 but not for class2. Thus we stratify the data, so that we have proportionate data for all the classes in both the training and testing data."
   ]
  },
  {
   "cell_type": "code",
   "execution_count": 14,
   "metadata": {
    "collapsed": false
   },
   "outputs": [
    {
     "data": {
      "text/plain": [
       "(569, 31)"
      ]
     },
     "execution_count": 14,
     "metadata": {},
     "output_type": "execute_result"
    }
   ],
   "source": [
    "cancer.shape"
   ]
  },
  {
   "cell_type": "code",
   "execution_count": 15,
   "metadata": {
    "collapsed": true
   },
   "outputs": [],
   "source": [
    "#outcome=cancer['LeagueIndex']\n",
    "#data=cancer[cancer.columns[:18]]\n",
    "train,test=train_test_split(cancer,test_size=0.2,random_state=0,stratify=cancer['diagnosis'])# stratify the outcome\n",
    "train_X=train[train.columns[1:31]]\n",
    "test_X=test[test.columns[1:31]]\n",
    "train_Y=train['diagnosis']\n",
    "test_Y=test['diagnosis']"
   ]
  },
  {
   "cell_type": "code",
   "execution_count": 16,
   "metadata": {
    "collapsed": false
   },
   "outputs": [
    {
     "data": {
      "text/html": [
       "<div>\n",
       "<style>\n",
       "    .dataframe thead tr:only-child th {\n",
       "        text-align: right;\n",
       "    }\n",
       "\n",
       "    .dataframe thead th {\n",
       "        text-align: left;\n",
       "    }\n",
       "\n",
       "    .dataframe tbody tr th {\n",
       "        vertical-align: top;\n",
       "    }\n",
       "</style>\n",
       "<table border=\"1\" class=\"dataframe\">\n",
       "  <thead>\n",
       "    <tr style=\"text-align: right;\">\n",
       "      <th></th>\n",
       "      <th>radius_mean</th>\n",
       "      <th>texture_mean</th>\n",
       "      <th>perimeter_mean</th>\n",
       "      <th>area_mean</th>\n",
       "      <th>smoothness_mean</th>\n",
       "      <th>compactness_mean</th>\n",
       "      <th>concavity_mean</th>\n",
       "      <th>concave points_mean</th>\n",
       "      <th>symmetry_mean</th>\n",
       "      <th>fractal_dimension_mean</th>\n",
       "      <th>...</th>\n",
       "      <th>radius_worst</th>\n",
       "      <th>texture_worst</th>\n",
       "      <th>perimeter_worst</th>\n",
       "      <th>area_worst</th>\n",
       "      <th>smoothness_worst</th>\n",
       "      <th>compactness_worst</th>\n",
       "      <th>concavity_worst</th>\n",
       "      <th>concave points_worst</th>\n",
       "      <th>symmetry_worst</th>\n",
       "      <th>fractal_dimension_worst</th>\n",
       "    </tr>\n",
       "  </thead>\n",
       "  <tbody>\n",
       "    <tr>\n",
       "      <th>381</th>\n",
       "      <td>11.04</td>\n",
       "      <td>14.93</td>\n",
       "      <td>70.67</td>\n",
       "      <td>372.7</td>\n",
       "      <td>0.07987</td>\n",
       "      <td>0.07079</td>\n",
       "      <td>0.03546</td>\n",
       "      <td>0.020740</td>\n",
       "      <td>0.2003</td>\n",
       "      <td>0.06246</td>\n",
       "      <td>...</td>\n",
       "      <td>12.090</td>\n",
       "      <td>20.83</td>\n",
       "      <td>79.73</td>\n",
       "      <td>447.1</td>\n",
       "      <td>0.1095</td>\n",
       "      <td>0.1982</td>\n",
       "      <td>0.15530</td>\n",
       "      <td>0.06754</td>\n",
       "      <td>0.3202</td>\n",
       "      <td>0.07287</td>\n",
       "    </tr>\n",
       "    <tr>\n",
       "      <th>144</th>\n",
       "      <td>10.75</td>\n",
       "      <td>14.97</td>\n",
       "      <td>68.26</td>\n",
       "      <td>355.3</td>\n",
       "      <td>0.07793</td>\n",
       "      <td>0.05139</td>\n",
       "      <td>0.02251</td>\n",
       "      <td>0.007875</td>\n",
       "      <td>0.1399</td>\n",
       "      <td>0.05688</td>\n",
       "      <td>...</td>\n",
       "      <td>11.950</td>\n",
       "      <td>20.72</td>\n",
       "      <td>77.79</td>\n",
       "      <td>441.2</td>\n",
       "      <td>0.1076</td>\n",
       "      <td>0.1223</td>\n",
       "      <td>0.09755</td>\n",
       "      <td>0.03413</td>\n",
       "      <td>0.2300</td>\n",
       "      <td>0.06769</td>\n",
       "    </tr>\n",
       "    <tr>\n",
       "      <th>136</th>\n",
       "      <td>11.71</td>\n",
       "      <td>16.67</td>\n",
       "      <td>74.72</td>\n",
       "      <td>423.6</td>\n",
       "      <td>0.10510</td>\n",
       "      <td>0.06095</td>\n",
       "      <td>0.03592</td>\n",
       "      <td>0.026000</td>\n",
       "      <td>0.1339</td>\n",
       "      <td>0.05945</td>\n",
       "      <td>...</td>\n",
       "      <td>13.330</td>\n",
       "      <td>25.48</td>\n",
       "      <td>86.16</td>\n",
       "      <td>546.7</td>\n",
       "      <td>0.1271</td>\n",
       "      <td>0.1028</td>\n",
       "      <td>0.10460</td>\n",
       "      <td>0.06968</td>\n",
       "      <td>0.1712</td>\n",
       "      <td>0.07343</td>\n",
       "    </tr>\n",
       "    <tr>\n",
       "      <th>116</th>\n",
       "      <td>8.95</td>\n",
       "      <td>15.76</td>\n",
       "      <td>58.74</td>\n",
       "      <td>245.2</td>\n",
       "      <td>0.09462</td>\n",
       "      <td>0.12430</td>\n",
       "      <td>0.09263</td>\n",
       "      <td>0.023080</td>\n",
       "      <td>0.1305</td>\n",
       "      <td>0.07163</td>\n",
       "      <td>...</td>\n",
       "      <td>9.414</td>\n",
       "      <td>17.07</td>\n",
       "      <td>63.34</td>\n",
       "      <td>270.0</td>\n",
       "      <td>0.1179</td>\n",
       "      <td>0.1879</td>\n",
       "      <td>0.15440</td>\n",
       "      <td>0.03846</td>\n",
       "      <td>0.1652</td>\n",
       "      <td>0.07722</td>\n",
       "    </tr>\n",
       "    <tr>\n",
       "      <th>567</th>\n",
       "      <td>20.60</td>\n",
       "      <td>29.33</td>\n",
       "      <td>140.10</td>\n",
       "      <td>1265.0</td>\n",
       "      <td>0.11780</td>\n",
       "      <td>0.27700</td>\n",
       "      <td>0.35140</td>\n",
       "      <td>0.152000</td>\n",
       "      <td>0.2397</td>\n",
       "      <td>0.07016</td>\n",
       "      <td>...</td>\n",
       "      <td>25.740</td>\n",
       "      <td>39.42</td>\n",
       "      <td>184.60</td>\n",
       "      <td>1821.0</td>\n",
       "      <td>0.1650</td>\n",
       "      <td>0.8681</td>\n",
       "      <td>0.93870</td>\n",
       "      <td>0.26500</td>\n",
       "      <td>0.4087</td>\n",
       "      <td>0.12400</td>\n",
       "    </tr>\n",
       "  </tbody>\n",
       "</table>\n",
       "<p>5 rows × 30 columns</p>\n",
       "</div>"
      ],
      "text/plain": [
       "     radius_mean  texture_mean  perimeter_mean  area_mean  smoothness_mean  \\\n",
       "381        11.04         14.93           70.67      372.7          0.07987   \n",
       "144        10.75         14.97           68.26      355.3          0.07793   \n",
       "136        11.71         16.67           74.72      423.6          0.10510   \n",
       "116         8.95         15.76           58.74      245.2          0.09462   \n",
       "567        20.60         29.33          140.10     1265.0          0.11780   \n",
       "\n",
       "     compactness_mean  concavity_mean  concave points_mean  symmetry_mean  \\\n",
       "381           0.07079         0.03546             0.020740         0.2003   \n",
       "144           0.05139         0.02251             0.007875         0.1399   \n",
       "136           0.06095         0.03592             0.026000         0.1339   \n",
       "116           0.12430         0.09263             0.023080         0.1305   \n",
       "567           0.27700         0.35140             0.152000         0.2397   \n",
       "\n",
       "     fractal_dimension_mean           ...             radius_worst  \\\n",
       "381                 0.06246           ...                   12.090   \n",
       "144                 0.05688           ...                   11.950   \n",
       "136                 0.05945           ...                   13.330   \n",
       "116                 0.07163           ...                    9.414   \n",
       "567                 0.07016           ...                   25.740   \n",
       "\n",
       "     texture_worst  perimeter_worst  area_worst  smoothness_worst  \\\n",
       "381          20.83            79.73       447.1            0.1095   \n",
       "144          20.72            77.79       441.2            0.1076   \n",
       "136          25.48            86.16       546.7            0.1271   \n",
       "116          17.07            63.34       270.0            0.1179   \n",
       "567          39.42           184.60      1821.0            0.1650   \n",
       "\n",
       "     compactness_worst  concavity_worst  concave points_worst  symmetry_worst  \\\n",
       "381             0.1982          0.15530               0.06754          0.3202   \n",
       "144             0.1223          0.09755               0.03413          0.2300   \n",
       "136             0.1028          0.10460               0.06968          0.1712   \n",
       "116             0.1879          0.15440               0.03846          0.1652   \n",
       "567             0.8681          0.93870               0.26500          0.4087   \n",
       "\n",
       "     fractal_dimension_worst  \n",
       "381                  0.07287  \n",
       "144                  0.06769  \n",
       "136                  0.07343  \n",
       "116                  0.07722  \n",
       "567                  0.12400  \n",
       "\n",
       "[5 rows x 30 columns]"
      ]
     },
     "execution_count": 16,
     "metadata": {},
     "output_type": "execute_result"
    }
   ],
   "source": [
    "train_X.head(5)"
   ]
  },
  {
   "cell_type": "code",
   "execution_count": 17,
   "metadata": {
    "collapsed": false
   },
   "outputs": [
    {
     "data": {
      "text/plain": [
       "381    0\n",
       "144    0\n",
       "Name: diagnosis, dtype: int64"
      ]
     },
     "execution_count": 17,
     "metadata": {},
     "output_type": "execute_result"
    }
   ],
   "source": [
    "train_Y.head(2)"
   ]
  },
  {
   "cell_type": "code",
   "execution_count": 18,
   "metadata": {
    "collapsed": false
   },
   "outputs": [
    {
     "data": {
      "text/plain": [
       "(455, 30)"
      ]
     },
     "execution_count": 18,
     "metadata": {},
     "output_type": "execute_result"
    }
   ],
   "source": [
    "train_X.shape"
   ]
  },
  {
   "cell_type": "code",
   "execution_count": 19,
   "metadata": {
    "collapsed": false
   },
   "outputs": [
    {
     "data": {
      "text/plain": [
       "(114, 30)"
      ]
     },
     "execution_count": 19,
     "metadata": {},
     "output_type": "execute_result"
    }
   ],
   "source": [
    "test_X.shape"
   ]
  },
  {
   "cell_type": "code",
   "execution_count": 20,
   "metadata": {
    "collapsed": false
   },
   "outputs": [
    {
     "data": {
      "text/plain": [
       "Index([u'radius_mean', u'texture_mean', u'perimeter_mean', u'area_mean',\n",
       "       u'smoothness_mean', u'compactness_mean', u'concavity_mean',\n",
       "       u'concave points_mean', u'symmetry_mean', u'fractal_dimension_mean',\n",
       "       u'radius_se', u'texture_se', u'perimeter_se', u'area_se',\n",
       "       u'smoothness_se', u'compactness_se', u'concavity_se',\n",
       "       u'concave points_se', u'symmetry_se', u'fractal_dimension_se',\n",
       "       u'radius_worst', u'texture_worst', u'perimeter_worst', u'area_worst',\n",
       "       u'smoothness_worst', u'compactness_worst', u'concavity_worst',\n",
       "       u'concave points_worst', u'symmetry_worst', u'fractal_dimension_worst'],\n",
       "      dtype='object')"
      ]
     },
     "execution_count": 20,
     "metadata": {},
     "output_type": "execute_result"
    }
   ],
   "source": [
    "train_X.columns"
   ]
  },
  {
   "cell_type": "markdown",
   "metadata": {},
   "source": [
    "### Scaling"
   ]
  },
  {
   "cell_type": "code",
   "execution_count": 21,
   "metadata": {
    "collapsed": true
   },
   "outputs": [],
   "source": [
    "from sklearn.preprocessing import StandardScaler\n",
    "\n",
    "# fit a standardScaler to normalize all input to zero mean and unit variance\n",
    "scaler = StandardScaler().fit(train_X)\n",
    "train_X = pd.DataFrame(scaler.transform(train_X), columns = train_X.columns)\n",
    "test_X = pd.DataFrame(scaler.transform(test_X), columns = test_X.columns)"
   ]
  },
  {
   "cell_type": "code",
   "execution_count": 22,
   "metadata": {
    "collapsed": false
   },
   "outputs": [
    {
     "data": {
      "text/plain": [
       "pandas.core.frame.DataFrame"
      ]
     },
     "execution_count": 22,
     "metadata": {},
     "output_type": "execute_result"
    }
   ],
   "source": [
    "type(train_X)"
   ]
  },
  {
   "cell_type": "code",
   "execution_count": 23,
   "metadata": {
    "collapsed": false
   },
   "outputs": [
    {
     "data": {
      "text/html": [
       "<div>\n",
       "<style>\n",
       "    .dataframe thead tr:only-child th {\n",
       "        text-align: right;\n",
       "    }\n",
       "\n",
       "    .dataframe thead th {\n",
       "        text-align: left;\n",
       "    }\n",
       "\n",
       "    .dataframe tbody tr th {\n",
       "        vertical-align: top;\n",
       "    }\n",
       "</style>\n",
       "<table border=\"1\" class=\"dataframe\">\n",
       "  <thead>\n",
       "    <tr style=\"text-align: right;\">\n",
       "      <th></th>\n",
       "      <th>radius_mean</th>\n",
       "      <th>texture_mean</th>\n",
       "      <th>perimeter_mean</th>\n",
       "      <th>area_mean</th>\n",
       "      <th>smoothness_mean</th>\n",
       "      <th>compactness_mean</th>\n",
       "      <th>concavity_mean</th>\n",
       "      <th>concave points_mean</th>\n",
       "      <th>symmetry_mean</th>\n",
       "      <th>fractal_dimension_mean</th>\n",
       "      <th>...</th>\n",
       "      <th>radius_worst</th>\n",
       "      <th>texture_worst</th>\n",
       "      <th>perimeter_worst</th>\n",
       "      <th>area_worst</th>\n",
       "      <th>smoothness_worst</th>\n",
       "      <th>compactness_worst</th>\n",
       "      <th>concavity_worst</th>\n",
       "      <th>concave points_worst</th>\n",
       "      <th>symmetry_worst</th>\n",
       "      <th>fractal_dimension_worst</th>\n",
       "    </tr>\n",
       "  </thead>\n",
       "  <tbody>\n",
       "    <tr>\n",
       "      <th>0</th>\n",
       "      <td>-0.862083</td>\n",
       "      <td>-1.009094</td>\n",
       "      <td>-0.861347</td>\n",
       "      <td>-0.786765</td>\n",
       "      <td>-1.158494</td>\n",
       "      <td>-0.615198</td>\n",
       "      <td>-0.654171</td>\n",
       "      <td>-0.707010</td>\n",
       "      <td>0.692286</td>\n",
       "      <td>-0.047962</td>\n",
       "      <td>...</td>\n",
       "      <td>-0.857701</td>\n",
       "      <td>-0.802311</td>\n",
       "      <td>-0.809130</td>\n",
       "      <td>-0.753108</td>\n",
       "      <td>-0.996486</td>\n",
       "      <td>-0.346704</td>\n",
       "      <td>-0.553743</td>\n",
       "      <td>-0.697964</td>\n",
       "      <td>0.481210</td>\n",
       "      <td>-0.604967</td>\n",
       "    </tr>\n",
       "    <tr>\n",
       "      <th>1</th>\n",
       "      <td>-0.944093</td>\n",
       "      <td>-0.999941</td>\n",
       "      <td>-0.959931</td>\n",
       "      <td>-0.835771</td>\n",
       "      <td>-1.296173</td>\n",
       "      <td>-0.978211</td>\n",
       "      <td>-0.811038</td>\n",
       "      <td>-1.031182</td>\n",
       "      <td>-1.503224</td>\n",
       "      <td>-0.836375</td>\n",
       "      <td>...</td>\n",
       "      <td>-0.886863</td>\n",
       "      <td>-0.820201</td>\n",
       "      <td>-0.866969</td>\n",
       "      <td>-0.763508</td>\n",
       "      <td>-1.079789</td>\n",
       "      <td>-0.830368</td>\n",
       "      <td>-0.824462</td>\n",
       "      <td>-1.197365</td>\n",
       "      <td>-0.972434</td>\n",
       "      <td>-0.886765</td>\n",
       "    </tr>\n",
       "    <tr>\n",
       "      <th>2</th>\n",
       "      <td>-0.672612</td>\n",
       "      <td>-0.610936</td>\n",
       "      <td>-0.695675</td>\n",
       "      <td>-0.643408</td>\n",
       "      <td>0.632048</td>\n",
       "      <td>-0.799324</td>\n",
       "      <td>-0.648599</td>\n",
       "      <td>-0.574468</td>\n",
       "      <td>-1.721321</td>\n",
       "      <td>-0.473253</td>\n",
       "      <td>...</td>\n",
       "      <td>-0.599404</td>\n",
       "      <td>-0.046036</td>\n",
       "      <td>-0.617429</td>\n",
       "      <td>-0.577535</td>\n",
       "      <td>-0.224836</td>\n",
       "      <td>-0.954630</td>\n",
       "      <td>-0.791414</td>\n",
       "      <td>-0.665977</td>\n",
       "      <td>-1.920043</td>\n",
       "      <td>-0.574502</td>\n",
       "    </tr>\n",
       "    <tr>\n",
       "      <th>3</th>\n",
       "      <td>-1.453119</td>\n",
       "      <td>-0.819168</td>\n",
       "      <td>-1.349362</td>\n",
       "      <td>-1.145863</td>\n",
       "      <td>-0.111705</td>\n",
       "      <td>0.386082</td>\n",
       "      <td>0.038345</td>\n",
       "      <td>-0.648046</td>\n",
       "      <td>-1.844910</td>\n",
       "      <td>1.247692</td>\n",
       "      <td>...</td>\n",
       "      <td>-1.415120</td>\n",
       "      <td>-1.413837</td>\n",
       "      <td>-1.297775</td>\n",
       "      <td>-1.065297</td>\n",
       "      <td>-0.628198</td>\n",
       "      <td>-0.412339</td>\n",
       "      <td>-0.557962</td>\n",
       "      <td>-1.132642</td>\n",
       "      <td>-2.016737</td>\n",
       "      <td>-0.368322</td>\n",
       "    </tr>\n",
       "    <tr>\n",
       "      <th>4</th>\n",
       "      <td>1.841410</td>\n",
       "      <td>2.286005</td>\n",
       "      <td>1.978793</td>\n",
       "      <td>1.726355</td>\n",
       "      <td>1.533350</td>\n",
       "      <td>3.243407</td>\n",
       "      <td>3.172896</td>\n",
       "      <td>2.600480</td>\n",
       "      <td>2.124457</td>\n",
       "      <td>1.039991</td>\n",
       "      <td>...</td>\n",
       "      <td>1.985640</td>\n",
       "      <td>2.221163</td>\n",
       "      <td>2.317423</td>\n",
       "      <td>1.668781</td>\n",
       "      <td>1.436843</td>\n",
       "      <td>3.922159</td>\n",
       "      <td>3.118660</td>\n",
       "      <td>2.253595</td>\n",
       "      <td>1.907458</td>\n",
       "      <td>2.176563</td>\n",
       "    </tr>\n",
       "  </tbody>\n",
       "</table>\n",
       "<p>5 rows × 30 columns</p>\n",
       "</div>"
      ],
      "text/plain": [
       "   radius_mean  texture_mean  perimeter_mean  area_mean  smoothness_mean  \\\n",
       "0    -0.862083     -1.009094       -0.861347  -0.786765        -1.158494   \n",
       "1    -0.944093     -0.999941       -0.959931  -0.835771        -1.296173   \n",
       "2    -0.672612     -0.610936       -0.695675  -0.643408         0.632048   \n",
       "3    -1.453119     -0.819168       -1.349362  -1.145863        -0.111705   \n",
       "4     1.841410      2.286005        1.978793   1.726355         1.533350   \n",
       "\n",
       "   compactness_mean  concavity_mean  concave points_mean  symmetry_mean  \\\n",
       "0         -0.615198       -0.654171            -0.707010       0.692286   \n",
       "1         -0.978211       -0.811038            -1.031182      -1.503224   \n",
       "2         -0.799324       -0.648599            -0.574468      -1.721321   \n",
       "3          0.386082        0.038345            -0.648046      -1.844910   \n",
       "4          3.243407        3.172896             2.600480       2.124457   \n",
       "\n",
       "   fractal_dimension_mean           ...             radius_worst  \\\n",
       "0               -0.047962           ...                -0.857701   \n",
       "1               -0.836375           ...                -0.886863   \n",
       "2               -0.473253           ...                -0.599404   \n",
       "3                1.247692           ...                -1.415120   \n",
       "4                1.039991           ...                 1.985640   \n",
       "\n",
       "   texture_worst  perimeter_worst  area_worst  smoothness_worst  \\\n",
       "0      -0.802311        -0.809130   -0.753108         -0.996486   \n",
       "1      -0.820201        -0.866969   -0.763508         -1.079789   \n",
       "2      -0.046036        -0.617429   -0.577535         -0.224836   \n",
       "3      -1.413837        -1.297775   -1.065297         -0.628198   \n",
       "4       2.221163         2.317423    1.668781          1.436843   \n",
       "\n",
       "   compactness_worst  concavity_worst  concave points_worst  symmetry_worst  \\\n",
       "0          -0.346704        -0.553743             -0.697964        0.481210   \n",
       "1          -0.830368        -0.824462             -1.197365       -0.972434   \n",
       "2          -0.954630        -0.791414             -0.665977       -1.920043   \n",
       "3          -0.412339        -0.557962             -1.132642       -2.016737   \n",
       "4           3.922159         3.118660              2.253595        1.907458   \n",
       "\n",
       "   fractal_dimension_worst  \n",
       "0                -0.604967  \n",
       "1                -0.886765  \n",
       "2                -0.574502  \n",
       "3                -0.368322  \n",
       "4                 2.176563  \n",
       "\n",
       "[5 rows x 30 columns]"
      ]
     },
     "execution_count": 23,
     "metadata": {},
     "output_type": "execute_result"
    }
   ],
   "source": [
    "train_X.head()"
   ]
  },
  {
   "cell_type": "code",
   "execution_count": 24,
   "metadata": {
    "collapsed": false
   },
   "outputs": [
    {
     "data": {
      "text/plain": [
       "381    0\n",
       "144    0\n",
       "136    0\n",
       "116    0\n",
       "567    1\n",
       "Name: diagnosis, dtype: int64"
      ]
     },
     "execution_count": 24,
     "metadata": {},
     "output_type": "execute_result"
    }
   ],
   "source": [
    "train_Y.head()"
   ]
  },
  {
   "cell_type": "code",
   "execution_count": 25,
   "metadata": {
    "collapsed": false
   },
   "outputs": [
    {
     "data": {
      "text/html": [
       "<div>\n",
       "<style>\n",
       "    .dataframe thead tr:only-child th {\n",
       "        text-align: right;\n",
       "    }\n",
       "\n",
       "    .dataframe thead th {\n",
       "        text-align: left;\n",
       "    }\n",
       "\n",
       "    .dataframe tbody tr th {\n",
       "        vertical-align: top;\n",
       "    }\n",
       "</style>\n",
       "<table border=\"1\" class=\"dataframe\">\n",
       "  <thead>\n",
       "    <tr style=\"text-align: right;\">\n",
       "      <th></th>\n",
       "      <th>radius_mean</th>\n",
       "      <th>texture_mean</th>\n",
       "      <th>perimeter_mean</th>\n",
       "      <th>area_mean</th>\n",
       "      <th>smoothness_mean</th>\n",
       "      <th>compactness_mean</th>\n",
       "      <th>concavity_mean</th>\n",
       "      <th>concave points_mean</th>\n",
       "      <th>symmetry_mean</th>\n",
       "      <th>fractal_dimension_mean</th>\n",
       "      <th>...</th>\n",
       "      <th>radius_worst</th>\n",
       "      <th>texture_worst</th>\n",
       "      <th>perimeter_worst</th>\n",
       "      <th>area_worst</th>\n",
       "      <th>smoothness_worst</th>\n",
       "      <th>compactness_worst</th>\n",
       "      <th>concavity_worst</th>\n",
       "      <th>concave points_worst</th>\n",
       "      <th>symmetry_worst</th>\n",
       "      <th>fractal_dimension_worst</th>\n",
       "    </tr>\n",
       "  </thead>\n",
       "  <tbody>\n",
       "    <tr>\n",
       "      <th>0</th>\n",
       "      <td>-0.053297</td>\n",
       "      <td>-0.622377</td>\n",
       "      <td>-0.112757</td>\n",
       "      <td>-0.148275</td>\n",
       "      <td>-1.981021</td>\n",
       "      <td>-0.944529</td>\n",
       "      <td>-0.814308</td>\n",
       "      <td>-0.892215</td>\n",
       "      <td>0.001646</td>\n",
       "      <td>-1.051140</td>\n",
       "      <td>...</td>\n",
       "      <td>-0.222375</td>\n",
       "      <td>-0.644550</td>\n",
       "      <td>-0.169032</td>\n",
       "      <td>-0.273983</td>\n",
       "      <td>-1.683079</td>\n",
       "      <td>-0.331410</td>\n",
       "      <td>-0.632967</td>\n",
       "      <td>-0.777486</td>\n",
       "      <td>-0.361645</td>\n",
       "      <td>-0.381378</td>\n",
       "    </tr>\n",
       "    <tr>\n",
       "      <th>1</th>\n",
       "      <td>0.141829</td>\n",
       "      <td>0.764310</td>\n",
       "      <td>0.190769</td>\n",
       "      <td>0.014234</td>\n",
       "      <td>-0.813586</td>\n",
       "      <td>0.548877</td>\n",
       "      <td>0.162748</td>\n",
       "      <td>-0.288219</td>\n",
       "      <td>-1.303302</td>\n",
       "      <td>-0.187842</td>\n",
       "      <td>...</td>\n",
       "      <td>-0.151552</td>\n",
       "      <td>0.245089</td>\n",
       "      <td>-0.028908</td>\n",
       "      <td>-0.248246</td>\n",
       "      <td>-1.299008</td>\n",
       "      <td>0.410973</td>\n",
       "      <td>0.434908</td>\n",
       "      <td>-0.055814</td>\n",
       "      <td>-1.040120</td>\n",
       "      <td>-0.214911</td>\n",
       "    </tr>\n",
       "    <tr>\n",
       "      <th>2</th>\n",
       "      <td>-0.678268</td>\n",
       "      <td>1.167045</td>\n",
       "      <td>-0.628180</td>\n",
       "      <td>-0.691851</td>\n",
       "      <td>1.944969</td>\n",
       "      <td>0.964284</td>\n",
       "      <td>-0.536793</td>\n",
       "      <td>-0.087895</td>\n",
       "      <td>1.157560</td>\n",
       "      <td>1.589620</td>\n",
       "      <td>...</td>\n",
       "      <td>-0.672311</td>\n",
       "      <td>1.045277</td>\n",
       "      <td>-0.618621</td>\n",
       "      <td>-0.681539</td>\n",
       "      <td>1.954199</td>\n",
       "      <td>0.461952</td>\n",
       "      <td>-0.627810</td>\n",
       "      <td>0.247623</td>\n",
       "      <td>-0.161810</td>\n",
       "      <td>0.854616</td>\n",
       "    </tr>\n",
       "    <tr>\n",
       "      <th>3</th>\n",
       "      <td>-0.347401</td>\n",
       "      <td>-1.377504</td>\n",
       "      <td>-0.364332</td>\n",
       "      <td>-0.414712</td>\n",
       "      <td>1.221088</td>\n",
       "      <td>-0.286802</td>\n",
       "      <td>-0.623403</td>\n",
       "      <td>-0.372884</td>\n",
       "      <td>-0.979791</td>\n",
       "      <td>0.277011</td>\n",
       "      <td>...</td>\n",
       "      <td>-0.451509</td>\n",
       "      <td>-0.761651</td>\n",
       "      <td>-0.419466</td>\n",
       "      <td>-0.484460</td>\n",
       "      <td>0.985252</td>\n",
       "      <td>-0.188031</td>\n",
       "      <td>-0.442174</td>\n",
       "      <td>0.018924</td>\n",
       "      <td>-0.840285</td>\n",
       "      <td>0.083751</td>\n",
       "    </tr>\n",
       "    <tr>\n",
       "      <th>4</th>\n",
       "      <td>-0.907330</td>\n",
       "      <td>-0.851204</td>\n",
       "      <td>-0.871982</td>\n",
       "      <td>-0.825632</td>\n",
       "      <td>0.319785</td>\n",
       "      <td>0.060493</td>\n",
       "      <td>-0.464114</td>\n",
       "      <td>-0.833755</td>\n",
       "      <td>0.176123</td>\n",
       "      <td>0.787078</td>\n",
       "      <td>...</td>\n",
       "      <td>-0.888946</td>\n",
       "      <td>-1.043018</td>\n",
       "      <td>-0.777826</td>\n",
       "      <td>-0.777787</td>\n",
       "      <td>0.042611</td>\n",
       "      <td>0.874246</td>\n",
       "      <td>0.295681</td>\n",
       "      <td>-0.516799</td>\n",
       "      <td>-0.519580</td>\n",
       "      <td>1.306145</td>\n",
       "    </tr>\n",
       "  </tbody>\n",
       "</table>\n",
       "<p>5 rows × 30 columns</p>\n",
       "</div>"
      ],
      "text/plain": [
       "   radius_mean  texture_mean  perimeter_mean  area_mean  smoothness_mean  \\\n",
       "0    -0.053297     -0.622377       -0.112757  -0.148275        -1.981021   \n",
       "1     0.141829      0.764310        0.190769   0.014234        -0.813586   \n",
       "2    -0.678268      1.167045       -0.628180  -0.691851         1.944969   \n",
       "3    -0.347401     -1.377504       -0.364332  -0.414712         1.221088   \n",
       "4    -0.907330     -0.851204       -0.871982  -0.825632         0.319785   \n",
       "\n",
       "   compactness_mean  concavity_mean  concave points_mean  symmetry_mean  \\\n",
       "0         -0.944529       -0.814308            -0.892215       0.001646   \n",
       "1          0.548877        0.162748            -0.288219      -1.303302   \n",
       "2          0.964284       -0.536793            -0.087895       1.157560   \n",
       "3         -0.286802       -0.623403            -0.372884      -0.979791   \n",
       "4          0.060493       -0.464114            -0.833755       0.176123   \n",
       "\n",
       "   fractal_dimension_mean           ...             radius_worst  \\\n",
       "0               -1.051140           ...                -0.222375   \n",
       "1               -0.187842           ...                -0.151552   \n",
       "2                1.589620           ...                -0.672311   \n",
       "3                0.277011           ...                -0.451509   \n",
       "4                0.787078           ...                -0.888946   \n",
       "\n",
       "   texture_worst  perimeter_worst  area_worst  smoothness_worst  \\\n",
       "0      -0.644550        -0.169032   -0.273983         -1.683079   \n",
       "1       0.245089        -0.028908   -0.248246         -1.299008   \n",
       "2       1.045277        -0.618621   -0.681539          1.954199   \n",
       "3      -0.761651        -0.419466   -0.484460          0.985252   \n",
       "4      -1.043018        -0.777826   -0.777787          0.042611   \n",
       "\n",
       "   compactness_worst  concavity_worst  concave points_worst  symmetry_worst  \\\n",
       "0          -0.331410        -0.632967             -0.777486       -0.361645   \n",
       "1           0.410973         0.434908             -0.055814       -1.040120   \n",
       "2           0.461952        -0.627810              0.247623       -0.161810   \n",
       "3          -0.188031        -0.442174              0.018924       -0.840285   \n",
       "4           0.874246         0.295681             -0.516799       -0.519580   \n",
       "\n",
       "   fractal_dimension_worst  \n",
       "0                -0.381378  \n",
       "1                -0.214911  \n",
       "2                 0.854616  \n",
       "3                 0.083751  \n",
       "4                 1.306145  \n",
       "\n",
       "[5 rows x 30 columns]"
      ]
     },
     "execution_count": 25,
     "metadata": {},
     "output_type": "execute_result"
    }
   ],
   "source": [
    "test_X.head(5)"
   ]
  },
  {
   "cell_type": "markdown",
   "metadata": {},
   "source": [
    "## 2. Supervised Learning"
   ]
  },
  {
   "cell_type": "markdown",
   "metadata": {},
   "source": [
    "## 2.1 Decision Tree\n",
    "hyperparameters:\n",
    "\n",
    "min samples split num \n",
    "(The minimum number of samples required to split an internal node)\n",
    "\n",
    "max depth \n",
    "\n",
    "This chapter begins by examining techniques for dealing with clashes (i.e. inconsistent instances) in a training set. This leads to a discussion of methods for avoiding or reducing overfitting of a decision tree to training data. Overfitting arises when a decision tree is excessively dependent on irrelevant features of the training data with the result that its predictive power for unseen instances is reduced.\n",
    "\n",
    "Two approaches to avoiding overfitting are distinguished: pre-pruning (generating a tree with fewer branches than would otherwise be the case) and post-pruning (generating a tree in full and then removing parts of it). Results are given for pre-pruning using either a size or a maximum depth cutoff. A method of post-pruning a decision tree based on comparing the static and backed-up estimated error rates at each node is also described."
   ]
  },
  {
   "cell_type": "markdown",
   "metadata": {},
   "source": [
    "### A simple run"
   ]
  },
  {
   "cell_type": "code",
   "execution_count": 26,
   "metadata": {
    "collapsed": false
   },
   "outputs": [
    {
     "name": "stdout",
     "output_type": "stream",
     "text": [
      "Train acc: 0.997802197802\n",
      "Test acc: 0.956140350877\n"
     ]
    }
   ],
   "source": [
    "from sklearn.tree import DecisionTreeClassifier\n",
    "#clf = DecisionTreeClassifier()\n",
    "clf = DecisionTreeClassifier(max_depth=10, min_samples_split=2, max_leaf_nodes=15, criterion='entropy', min_samples_leaf=1)\n",
    "clf.fit(train_X, train_Y)\n",
    "train_acc = clf.score(train_X, train_Y)\n",
    "test_acc = clf.score(test_X, test_Y)\n",
    "print \"Train acc:\", train_acc\n",
    "print \"Test acc:\", test_acc"
   ]
  },
  {
   "cell_type": "markdown",
   "metadata": {},
   "source": [
    "### pruning by max depth, validation curve"
   ]
  },
  {
   "cell_type": "code",
   "execution_count": 43,
   "metadata": {
    "collapsed": true
   },
   "outputs": [],
   "source": [
    "degree = range(1,31)\n",
    "train_scores, val_scores = validation_curve(DecisionTreeClassifier(criterion='gini',random_state=42), train_X, train_Y,\n",
    "                                          'max_depth', degree, cv=10)"
   ]
  },
  {
   "cell_type": "code",
   "execution_count": 44,
   "metadata": {
    "collapsed": false,
    "scrolled": true
   },
   "outputs": [
    {
     "data": {
      "image/png": "[encoded data removed]",
      "text/plain": [
       "<matplotlib.figure.Figure at 0x1159c6f50>"
      ]
     },
     "metadata": {},
     "output_type": "display_data"
    }
   ],
   "source": [
    "plt.plot(degree, np.median(train_scores, 1),color='blue', label='training')\n",
    "plt.plot(degree, np.median(val_scores, 1), color='red', label='cross validation')\n",
    "#plt.plot(train_sizes, train_scores_mean, 'o-', color=\"r\", label=\"Training score\")\n",
    "#plt.plot(train_sizes, test_scores_mean, 'o-', color=\"g\", label=\"Cross-validation score\")\n",
    "\n",
    "plt.legend(loc='lower right')\n",
    "plt.ylim(0.9, 1.01)\n",
    "plt.title(\"Pruning by max_depth (Cancer)\")\n",
    "plt.xlabel('max_depth')\n",
    "plt.ylabel('Accuracy');\n",
    "plt.xticks(np.arange(0,31,5))\n",
    "plt.show()"
   ]
  },
  {
   "cell_type": "code",
   "execution_count": 27,
   "metadata": {
    "collapsed": true
   },
   "outputs": [],
   "source": [
    "degree = range(1,31)\n",
    "train_score=0\n",
    "val_score=0\n",
    "repeat=10\n",
    "for i in range(repeat):\n",
    "    train_scores, val_scores = validation_curve(DecisionTreeClassifier(criterion='entropy',min_samples_split = 9), train_X, train_Y,\n",
    "                                          'max_depth', degree, cv=10)\n",
    "    train_score += np.mean(train_scores,1)\n",
    "    val_score += np.mean(val_scores,1)\n",
    "train_score /= repeat\n",
    "val_score /= repeat"
   ]
  },
  {
   "cell_type": "code",
   "execution_count": 28,
   "metadata": {
    "collapsed": false
   },
   "outputs": [
    {
     "data": {
      "image/png": "[encoded data removed]",
      "text/plain": [
       "<matplotlib.figure.Figure at 0x116a31390>"
      ]
     },
     "metadata": {},
     "output_type": "display_data"
    }
   ],
   "source": [
    "plt.plot(degree, train_score,color='blue', label='training')\n",
    "plt.plot(degree, val_score, color='red', label='cross validation')\n",
    "\n",
    "plt.legend(loc='lower right')\n",
    "plt.ylim(0.85, 1.01)\n",
    "plt.title(\"Pruning by max_depth (Cancer)\")\n",
    "plt.xlabel('max_depth')\n",
    "plt.ylabel('Accuracy');\n",
    "plt.xticks(np.arange(0,31,5))\n",
    "plt.show()"
   ]
  },
  {
   "cell_type": "markdown",
   "metadata": {},
   "source": [
    "### change max_depth"
   ]
  },
  {
   "cell_type": "code",
   "execution_count": 30,
   "metadata": {
    "collapsed": false
   },
   "outputs": [
    {
     "data": {
      "image/png": "[encoded data removed]",
      "text/plain": [
       "<matplotlib.figure.Figure at 0x1163b5490>"
      ]
     },
     "metadata": {},
     "output_type": "display_data"
    }
   ],
   "source": [
    "dtc_paras={\"max_depth\":[1,2,4,6,9,12,15,20,25,30]}\n",
    "resTreepd = pd.DataFrame(dtc_paras)\n",
    "resTreepd[\"train\"] = resTreepd[\"cv\"] = np.zeros(len(dtc_paras[\"max_depth\"]))\n",
    "repeat = 10\n",
    "for _ in range(repeat):\n",
    "    dtc=DecisionTreeClassifier(criterion = \"entropy\",min_samples_split = 9)\n",
    "    gscvTree=GridSearchCV(dtc, dtc_paras,cv=5,n_jobs=2)\n",
    "    gscvTree.fit(train_X, train_Y)\n",
    "    resTree = gscvTree.cv_results_\n",
    "    resTreepd[\"train\"] += 1-np.array(resTree['mean_train_score'])\n",
    "    resTreepd[\"cv\"] += 1-np.array(resTree['mean_test_score'])\n",
    "resTreepd[\"train\"] /= repeat\n",
    "resTreepd[\"cv\"] /= repeat\n",
    "resTreepd.max_depth = resTreepd.max_depth.astype(str)\n",
    "resTreepd=resTreepd.set_index([\"max_depth\"])\n",
    "ax=resTreepd.plot(title=\"Performances of train and cross validation\\n when changing max_depth for Decision Tree\")\n",
    "ax.set_ylabel(\"Mean Error\")\n",
    "idxmin = [i for i in range(resTreepd.shape[0]) if resTreepd.index[i] == resTreepd.idxmin()['cv']]\n",
    "ax.axvline(x=idxmin[0],color='r',ls='--',alpha=0.5)\n",
    "plt.show()"
   ]
  },
  {
   "cell_type": "markdown",
   "metadata": {},
   "source": [
    "### change min split\n",
    "The minimum number of samples required to split an internal node"
   ]
  },
  {
   "cell_type": "code",
   "execution_count": 45,
   "metadata": {
    "collapsed": true
   },
   "outputs": [],
   "source": [
    "degree = range(2,100)\n",
    "train_scores, val_scores = validation_curve(DecisionTreeClassifier(max_depth=5,random_state=42), train_X, train_Y,\n",
    "                                          'min_samples_split', degree, cv=10)"
   ]
  },
  {
   "cell_type": "code",
   "execution_count": 46,
   "metadata": {
    "collapsed": false,
    "scrolled": true
   },
   "outputs": [
    {
     "data": {
      "image/png": "[encoded data removed]",
      "text/plain": [
       "<matplotlib.figure.Figure at 0x1154848d0>"
      ]
     },
     "metadata": {},
     "output_type": "display_data"
    }
   ],
   "source": [
    "plt.plot(degree, np.mean(train_scores, 1), color='blue', label='training score')\n",
    "plt.plot(degree, np.mean(val_scores, 1), color='red', label='validation score')\n",
    "plt.legend(loc='lower right')\n",
    "plt.ylim(0.85, 1.01)\n",
    "plt.title(\"Pruning by min_samples_split (Cancer)\")\n",
    "plt.xlabel('min_samples_split')\n",
    "plt.ylabel('Accuracy');\n",
    "plt.show()"
   ]
  },
  {
   "cell_type": "markdown",
   "metadata": {},
   "source": [
    "### Grid search to find best parameter"
   ]
  },
  {
   "cell_type": "code",
   "execution_count": 72,
   "metadata": {
    "collapsed": false
   },
   "outputs": [
    {
     "data": {
      "text/plain": [
       "GridSearchCV(cv=3, error_score='raise',\n",
       "       estimator=DecisionTreeClassifier(class_weight=None, criterion='gini', max_depth=None,\n",
       "            max_features=None, max_leaf_nodes=None,\n",
       "            min_impurity_decrease=0.0, min_impurity_split=None,\n",
       "            min_samples_leaf=1, min_samples_split=2,\n",
       "            min_weight_fraction_leaf=0.0, presort=False, random_state=42,\n",
       "            splitter='best'),\n",
       "       fit_params=None, iid=True, n_jobs=1,\n",
       "       param_grid={'min_samples_split': [2, 3, 4, 5, 6, 10, 20], 'criterion': ['gini', 'entropy'], 'max_depth': [2, 3, 4, 5, 6, 7, 10, 15, 20]},\n",
       "       pre_dispatch='2*n_jobs', refit=True, return_train_score=True,\n",
       "       scoring=None, verbose=0)"
      ]
     },
     "execution_count": 72,
     "metadata": {},
     "output_type": "execute_result"
    }
   ],
   "source": [
    "# determine optimal pruning for the decision trees using cross-validation grid-search\n",
    "\n",
    "# set of parameters to test\n",
    "param_grid = {\"criterion\": [\"gini\", \"entropy\"],\n",
    "              \"min_samples_split\": [2,3,4, 5,6, 10, 20],\n",
    "              \"max_depth\": [2, 3,4,5,6,7, 10, 15, 20],\n",
    "              }\n",
    "\n",
    "tree_gs = GridSearchCV(DecisionTreeClassifier(random_state=42),\n",
    "                       param_grid=param_grid, cv=3)\n",
    "\n",
    "tree_gs.fit(train_X, train_Y)"
   ]
  },
  {
   "cell_type": "code",
   "execution_count": 73,
   "metadata": {
    "collapsed": false
   },
   "outputs": [
    {
     "data": {
      "text/plain": [
       "{'criterion': 'entropy', 'max_depth': 4, 'min_samples_split': 2}"
      ]
     },
     "execution_count": 73,
     "metadata": {},
     "output_type": "execute_result"
    }
   ],
   "source": [
    "tree_gs.best_params_"
   ]
  },
  {
   "cell_type": "markdown",
   "metadata": {},
   "source": [
    "### statistics for best parameter"
   ]
  },
  {
   "cell_type": "code",
   "execution_count": 83,
   "metadata": {
    "collapsed": false
   },
   "outputs": [
    {
     "name": "stdout",
     "output_type": "stream",
     "text": [
      "tree size:  21\n",
      "train acc:  0.982417582418\n",
      "test acc:  0.964912280702\n",
      "train time:  0.00795197486877\n",
      "test time:  0.000230073928833\n"
     ]
    }
   ],
   "source": [
    "tree_final_model = tree_gs.best_estimator_\n",
    "start = timeit.default_timer()\n",
    "clf = tree_final_model.fit(train_X, train_Y)\n",
    "stop = timeit.default_timer()\n",
    "train_time = stop - start\n",
    "treeObj = clf.tree_\n",
    "\n",
    "# train\n",
    "train_Y_predict = clf.predict(train_X)\n",
    "train_acc = accuracy_score(train_Y, train_Y_predict)\n",
    "\n",
    "# test\n",
    "start = timeit.default_timer()\n",
    "test_Y_predict = clf.predict(test_X)\n",
    "stop = timeit.default_timer()\n",
    "test_time = stop - start\n",
    "test_acc = accuracy_score(test_Y, test_Y_predict)\n",
    "\n",
    "# print result\n",
    "print 'tree size: ', treeObj.node_count\n",
    "print 'train acc: ', train_acc\n",
    "print 'test acc: ', test_acc\n",
    "print 'train time: ', train_time\n",
    "print 'test time: ', test_time"
   ]
  },
  {
   "cell_type": "markdown",
   "metadata": {},
   "source": [
    "### statistics for default parameter"
   ]
  },
  {
   "cell_type": "code",
   "execution_count": 317,
   "metadata": {
    "collapsed": false
   },
   "outputs": [
    {
     "name": "stdout",
     "output_type": "stream",
     "text": [
      "tree size:  37\n",
      "train acc:  1.0\n",
      "test acc:  0.938596491228\n",
      "train time:  0.0111398696899\n",
      "test time:  0.000326156616211\n"
     ]
    }
   ],
   "source": [
    "clf = DecisionTreeClassifier()\n",
    "start = timeit.default_timer()\n",
    "clf = clf.fit(train_X, train_Y)\n",
    "stop = timeit.default_timer()\n",
    "train_time = stop - start\n",
    "treeObj = clf.tree_\n",
    "\n",
    "# train\n",
    "train_Y_predict = clf.predict(train_X)\n",
    "train_acc = accuracy_score(train_Y, train_Y_predict)\n",
    "\n",
    "# test\n",
    "start = timeit.default_timer()\n",
    "test_Y_predict = clf.predict(test_X)\n",
    "stop = timeit.default_timer()\n",
    "test_time = stop - start\n",
    "test_acc = accuracy_score(test_Y, test_Y_predict)\n",
    "\n",
    "# print result\n",
    "print 'tree size: ', treeObj.node_count\n",
    "print 'train acc: ', train_acc\n",
    "print 'test acc: ', test_acc\n",
    "print 'train time: ', train_time\n",
    "print 'test time: ', test_time"
   ]
  },
  {
   "cell_type": "markdown",
   "metadata": {},
   "source": [
    "### learning curve on best parameter"
   ]
  },
  {
   "cell_type": "code",
   "execution_count": 63,
   "metadata": {
    "collapsed": true
   },
   "outputs": [],
   "source": [
    "training_size, train_lc, val_lc = learning_curve(tree_final_model,\n",
    "                                         train_X, train_Y, cv=10,\n",
    "                                         #train_sizes=np.arange(1, 409), n_jobs=1)\n",
    "                                         train_sizes=np.linspace(0.001, 1, 50), n_jobs=1)"
   ]
  },
  {
   "cell_type": "code",
   "execution_count": 64,
   "metadata": {
    "collapsed": false
   },
   "outputs": [
    {
     "data": {
      "image/png": "[encoded data removed]",
      "text/plain": [
       "<matplotlib.figure.Figure at 0x11582dbd0>"
      ]
     },
     "metadata": {},
     "output_type": "display_data"
    }
   ],
   "source": [
    "plt.plot(training_size, np.mean(train_lc, 1), color='blue', label='training')\n",
    "plt.plot(training_size, np.mean(val_lc, 1), color='red', label='cross validation')\n",
    "plt.hlines(np.mean([train_lc[-1], val_lc[-1]]), training_size[0], training_size[-1],\n",
    "                 color='gray', linestyle='dashed')\n",
    "\n",
    "plt.legend(loc='lower right')\n",
    "plt.ylim(0.6, 1.05)\n",
    "plt.xlim(training_size[0], training_size[-1])\n",
    "plt.title(\"DT Learning curve (Cancer)\")\n",
    "plt.xlabel('training size')\n",
    "plt.ylabel('Accuracy');\n",
    "plt.show()"
   ]
  },
  {
   "cell_type": "markdown",
   "metadata": {},
   "source": [
    "### learning curve on a unprune tree"
   ]
  },
  {
   "cell_type": "code",
   "execution_count": 65,
   "metadata": {
    "collapsed": true
   },
   "outputs": [],
   "source": [
    "training_size, train_lc, val_lc = learning_curve(DecisionTreeClassifier(),\n",
    "                                         train_X, train_Y, cv=10,\n",
    "                                         train_sizes=np.linspace(0.001, 1, 50), n_jobs=1)"
   ]
  },
  {
   "cell_type": "code",
   "execution_count": 67,
   "metadata": {
    "collapsed": false
   },
   "outputs": [
    {
     "data": {
      "image/png": "[encoded data removed]",
      "text/plain": [
       "<matplotlib.figure.Figure at 0x1194db810>"
      ]
     },
     "metadata": {},
     "output_type": "display_data"
    }
   ],
   "source": [
    "plt.plot(training_size, np.mean(train_lc, 1), color='blue', label='training')\n",
    "plt.plot(training_size, np.mean(val_lc, 1), color='red', label='cross validation')\n",
    "plt.hlines(np.mean([train_lc[-1], val_lc[-1]]), training_size[0], training_size[-1],\n",
    "                 color='gray', linestyle='dashed')\n",
    "\n",
    "plt.legend(loc='lower right')\n",
    "plt.ylim(0.5, 1.05)\n",
    "plt.xlim(training_size[0], training_size[-1])\n",
    "plt.title(\"DT Learning curve (Cancer)\")\n",
    "plt.xlabel('training size')\n",
    "plt.ylabel('Accuracy');\n",
    "plt.show()"
   ]
  },
  {
   "cell_type": "markdown",
   "metadata": {},
   "source": [
    "## 2.2 AdaBoosting\n",
    "hyperparameters:\n",
    "\n",
    "1) n_estimators\n",
    "\n",
    "2) learning_rate"
   ]
  },
  {
   "cell_type": "markdown",
   "metadata": {},
   "source": [
    "### iterations / n_estimators"
   ]
  },
  {
   "cell_type": "code",
   "execution_count": 80,
   "metadata": {
    "collapsed": false
   },
   "outputs": [
    {
     "data": {
      "image/png": "[encoded data removed]",
      "text/plain": [
       "<matplotlib.figure.Figure at 0x115df0e50>"
      ]
     },
     "metadata": {},
     "output_type": "display_data"
    }
   ],
   "source": [
    "plt.plot(degree, np.mean(train_scores, 1), color='blue', label='training')\n",
    "plt.plot(degree, np.mean(val_scores, 1), color='red', label='cross validation')\n",
    "plt.legend(loc='lower right')\n",
    "plt.ylim(0.85, 1.1)\n",
    "plt.title(\"Boosting of pruned tree (Cancer)\")\n",
    "plt.xlabel('# of iteration')\n",
    "plt.ylabel('Accuracy');\n",
    "plt.show()"
   ]
  },
  {
   "cell_type": "markdown",
   "metadata": {},
   "source": [
    "### show boosting works for a simple tree"
   ]
  },
  {
   "cell_type": "code",
   "execution_count": 84,
   "metadata": {
    "collapsed": true
   },
   "outputs": [],
   "source": [
    "degree = range(1,51)\n",
    "train_scores, val_scores = validation_curve(AdaBoostClassifier(DecisionTreeClassifier(max_depth=5)), train_X, train_Y,\n",
    "                                          'n_estimators', degree, cv=10)"
   ]
  },
  {
   "cell_type": "code",
   "execution_count": 85,
   "metadata": {
    "collapsed": false
   },
   "outputs": [
    {
     "data": {
      "image/png": "[encoded data removed]",
      "text/plain": [
       "<matplotlib.figure.Figure at 0x116450f50>"
      ]
     },
     "metadata": {},
     "output_type": "display_data"
    }
   ],
   "source": [
    "plt.plot(degree, np.mean(train_scores, 1), color='blue', label='training')\n",
    "plt.plot(degree, np.mean(val_scores, 1), color='red', label='cross validation')\n",
    "plt.legend(loc='lower right')\n",
    "plt.ylim(0.85, 1.1)\n",
    "plt.title(\"Boosting of pruned tree (Cancer)\")\n",
    "plt.xlabel('# of iteration (n_estimators)')\n",
    "plt.ylabel('Accuracy');\n",
    "plt.show()"
   ]
  },
  {
   "cell_type": "markdown",
   "metadata": {},
   "source": [
    "### boosting - varying tree size and iteration"
   ]
  },
  {
   "cell_type": "code",
   "execution_count": 332,
   "metadata": {
    "collapsed": true,
    "scrolled": true
   },
   "outputs": [],
   "source": [
    "# don't change!!!\n",
    "\n",
    "#degree = range(1,51,5)\n",
    "degree = [1,2,5,10,20,50,100,200]\n",
    "train_scoresb1, val_scoresb1 = validation_curve(AdaBoostClassifier(DecisionTreeClassifier(max_depth=2, min_samples_split=2)), train_X, train_Y,\n",
    "                                          'n_estimators', degree, cv=10)\n",
    "train_scoresb2, val_scoresb2 = validation_curve(AdaBoostClassifier(DecisionTreeClassifier(max_depth=5,min_samples_split=2)), train_X, train_Y,\n",
    "                                          'n_estimators', degree, cv=10)\n",
    "train_scoresb3, val_scoresb3 = validation_curve(AdaBoostClassifier(DecisionTreeClassifier(max_depth=10,min_samples_split=2)), train_X, train_Y,\n",
    "                                          'n_estimators', degree, cv=10)\n",
    "train_scoresb4, val_scoresb4 = validation_curve(AdaBoostClassifier(DecisionTreeClassifier(min_samples_split=2)), train_X, train_Y,\n",
    "                                          'n_estimators', degree, cv=10)\n"
   ]
  },
  {
   "cell_type": "code",
   "execution_count": 333,
   "metadata": {
    "collapsed": false
   },
   "outputs": [
    {
     "data": {
      "image/png": "[encoded data removed]",
      "text/plain": [
       "<matplotlib.figure.Figure at 0x12108b550>"
      ]
     },
     "metadata": {},
     "output_type": "display_data"
    }
   ],
   "source": [
    "\n",
    "plt.plot(degree, np.mean(val_scoresb1, 1), color='green', label='max_depth=2')\n",
    "plt.plot(degree, np.mean(val_scoresb2, 1), color='blue', label='max_depth=5')\n",
    "#plt.plot(degree, np.mean(val_scoresb3, 1), color='purple', label='max_depth=10')\n",
    "plt.plot(degree, np.mean(val_scoresb4, 1), color='red', label='unpruned')\n",
    "\n",
    "plt.legend(loc='upper right')\n",
    "plt.ylim(0.9, 1.05)\n",
    "plt.title(\"Boosting: varying tree size (Cancer)\")\n",
    "plt.xlabel('# of iterations')\n",
    "plt.ylabel('Cross-Validation Accuracy');\n",
    "plt.show()\n"
   ]
  },
  {
   "cell_type": "markdown",
   "metadata": {},
   "source": [
    "### boosting - vary learning rate"
   ]
  },
  {
   "cell_type": "code",
   "execution_count": 296,
   "metadata": {
    "collapsed": true
   },
   "outputs": [],
   "source": [
    "degree = np.arange(0.1,3,0.2)\n",
    "train_scores, val_scores = validation_curve(AdaBoostClassifier(DecisionTreeClassifier(max_depth=4, min_samples_split=2)), train_X, train_Y,\n",
    "                                          'learning_rate', degree, cv=10)"
   ]
  },
  {
   "cell_type": "code",
   "execution_count": 301,
   "metadata": {
    "collapsed": false
   },
   "outputs": [
    {
     "data": {
      "image/png": "[encoded data removed]",
      "text/plain": [
       "<matplotlib.figure.Figure at 0x11bb9c3d0>"
      ]
     },
     "metadata": {},
     "output_type": "display_data"
    }
   ],
   "source": [
    "plt.plot(degree, np.mean(train_scores, 1), color='blue', label='training')\n",
    "plt.plot(degree, np.mean(val_scores, 1), color='red', label='cross validation')\n",
    "\n",
    "plt.legend(loc='lower right')\n",
    "plt.ylim(0.7, 1.02)\n",
    "plt.title(\"Boosting: varying learning rate \\n on pruned tree (Cancer)\")\n",
    "plt.xlabel('learning rate')\n",
    "plt.ylabel('Accuracy');\n",
    "#plt.xticks(np.arange(0,2.1,0.5))\n",
    "plt.show()"
   ]
  },
  {
   "cell_type": "markdown",
   "metadata": {},
   "source": [
    "### grid search"
   ]
  },
  {
   "cell_type": "code",
   "execution_count": 302,
   "metadata": {
    "collapsed": false
   },
   "outputs": [
    {
     "data": {
      "text/plain": [
       "GridSearchCV(cv=10, error_score='raise',\n",
       "       estimator=AdaBoostClassifier(algorithm='SAMME.R',\n",
       "          base_estimator=DecisionTreeClassifier(class_weight=None, criterion='entropy', max_depth=4,\n",
       "            max_features=None, max_leaf_nodes=None,\n",
       "            min_impurity_split=1e-07, min_samples_leaf=1,\n",
       "            min_samples_split=2, min_weight_fraction_leaf=0.0,\n",
       "            presort=False, random_state=42, splitter='best'),\n",
       "          learning_rate=1.0, n_estimators=50, random_state=None),\n",
       "       fit_params={}, iid=True, n_jobs=1,\n",
       "       param_grid={'n_estimators': [1, 5, 10, 15, 30, 40, 50], 'learning_rate': [0.1, 0.5, 1.0, 1.2, 1.5]},\n",
       "       pre_dispatch='2*n_jobs', refit=True, return_train_score=True,\n",
       "       scoring=None, verbose=0)"
      ]
     },
     "execution_count": 302,
     "metadata": {},
     "output_type": "execute_result"
    }
   ],
   "source": [
    "param_grid = {\"n_estimators\": [1,5,10,15,30,40,50],\n",
    "              \"learning_rate\": [.1, .5, 1.,1.2,1.5]\n",
    "              }\n",
    "\n",
    "tree_boost_gs = GridSearchCV(AdaBoostClassifier(tree_final_model),\n",
    "                       param_grid=param_grid, cv=10)\n",
    "\n",
    "tree_boost_gs.fit(train_X, train_Y)"
   ]
  },
  {
   "cell_type": "code",
   "execution_count": 303,
   "metadata": {
    "collapsed": false
   },
   "outputs": [
    {
     "data": {
      "text/plain": [
       "{'learning_rate': 1.2, 'n_estimators': 40}"
      ]
     },
     "execution_count": 303,
     "metadata": {},
     "output_type": "execute_result"
    }
   ],
   "source": [
    "tree_boost_gs.best_params_"
   ]
  },
  {
   "cell_type": "code",
   "execution_count": 343,
   "metadata": {
    "collapsed": false
   },
   "outputs": [
    {
     "name": "stdout",
     "output_type": "stream",
     "text": [
      "train acc:  1.0\n",
      "test acc:  0.973684210526\n"
     ]
    }
   ],
   "source": [
    "boost_final_model = tree_boost_gs.best_estimator_\n",
    "clf = boost_final_model.fit(train_X, train_Y)\n",
    "\n",
    "# train\n",
    "train_Y_predict = clf.predict(train_X)\n",
    "train_acc = accuracy_score(train_Y, train_Y_predict)\n",
    "\n",
    "# test\n",
    "test_Y_predict = clf.predict(test_X)\n",
    "test_acc = accuracy_score(test_Y, test_Y_predict)\n",
    "\n",
    "# print result\n",
    "print 'train acc: ', train_acc\n",
    "print 'test acc: ', test_acc"
   ]
  },
  {
   "cell_type": "code",
   "execution_count": 106,
   "metadata": {
    "collapsed": false
   },
   "outputs": [
    {
     "name": "stdout",
     "output_type": "stream",
     "text": [
      "train acc:  1.0\n",
      "test acc:  0.973684210526\n",
      "train time:  0.376419067383\n",
      "test time:  0.00397491455078\n"
     ]
    }
   ],
   "source": [
    "boost_temp_model = AdaBoostClassifier(DecisionTreeClassifier(criterion='entropy',max_depth=4, min_samples_split=2),\n",
    "                                     n_estimators=50, learning_rate=1.2)\n",
    "clf = boost_temp_model.fit(train_X, train_Y)\n",
    "\n",
    "start = timeit.default_timer()\n",
    "clf = clf.fit(train_X, train_Y)\n",
    "stop = timeit.default_timer()\n",
    "train_time = stop - start\n",
    "\n",
    "# train\n",
    "train_Y_predict = clf.predict(train_X)\n",
    "train_acc = accuracy_score(train_Y, train_Y_predict)\n",
    "\n",
    "# test\n",
    "start = timeit.default_timer()\n",
    "test_Y_predict = clf.predict(test_X)\n",
    "stop = timeit.default_timer()\n",
    "test_time = stop - start\n",
    "test_acc = accuracy_score(test_Y, test_Y_predict)\n",
    "\n",
    "# print result\n",
    "print 'train acc: ', train_acc\n",
    "print 'test acc: ', test_acc\n",
    "print 'train time: ', train_time\n",
    "print 'test time: ', test_time"
   ]
  },
  {
   "cell_type": "markdown",
   "metadata": {},
   "source": [
    "### boosting time vs iterations"
   ]
  },
  {
   "cell_type": "code",
   "execution_count": 309,
   "metadata": {
    "collapsed": true
   },
   "outputs": [],
   "source": [
    "time=[]\n",
    "iteration=[]\n",
    "for i in range(1,200,5):\n",
    "    start = timeit.default_timer()\n",
    "    clf = AdaBoostClassifier(tree_final_model, n_estimators=i)\n",
    "    clf = clf.fit(train_X, train_Y)\n",
    "    stop = timeit.default_timer()\n",
    "    time.append(stop - start)\n",
    "    iteration.append(i)"
   ]
  },
  {
   "cell_type": "code",
   "execution_count": 312,
   "metadata": {
    "collapsed": false
   },
   "outputs": [
    {
     "data": {
      "image/png": "[encoded data removed]",
      "text/plain": [
       "<matplotlib.figure.Figure at 0x11b59d2d0>"
      ]
     },
     "metadata": {},
     "output_type": "display_data"
    }
   ],
   "source": [
    "plt.plot(iteration, time)\n",
    "plt.legend(loc='lower right')\n",
    "#plt.ylim(0.7, 1.02)\n",
    "plt.title(\"Boosting: training time vs iterations \\n(Cancer)\")\n",
    "plt.xlabel('# of iterations')\n",
    "plt.ylabel('Training Time (s)');\n",
    "#plt.xticks(np.arange(0,2.1,0.5))\n",
    "plt.show()"
   ]
  },
  {
   "cell_type": "markdown",
   "metadata": {
    "collapsed": true
   },
   "source": [
    "## 2.3 KNN\n",
    "\n",
    "hyperparameters:\n",
    "\n",
    "k\n",
    "\n",
    "weight/unweight"
   ]
  },
  {
   "cell_type": "markdown",
   "metadata": {},
   "source": [
    "### A simple run"
   ]
  },
  {
   "cell_type": "code",
   "execution_count": 108,
   "metadata": {
    "collapsed": false,
    "scrolled": true
   },
   "outputs": [
    {
     "name": "stdout",
     "output_type": "stream",
     "text": [
      "Train acc: 0.975824175824\n",
      "Test acc: 0.947368421053\n"
     ]
    }
   ],
   "source": [
    "from sklearn.neighbors import KNeighborsClassifier\n",
    "clf = KNeighborsClassifier(n_neighbors=5, weights='uniform', p=1)\n",
    "clf.fit(train_X, train_Y)\n",
    "train_acc = clf.score(train_X, train_Y)\n",
    "test_acc = clf.score(test_X, test_Y)\n",
    "print \"Train acc:\", train_acc\n",
    "print \"Test acc:\", test_acc"
   ]
  },
  {
   "cell_type": "markdown",
   "metadata": {},
   "source": [
    "### knn - change k unweighted"
   ]
  },
  {
   "cell_type": "code",
   "execution_count": 101,
   "metadata": {
    "collapsed": true
   },
   "outputs": [],
   "source": [
    "degree = range(1,51)\n",
    "train_scores, val_scores = validation_curve(KNeighborsClassifier(), train_X, train_Y,\n",
    "                                          'n_neighbors', degree, cv=10)"
   ]
  },
  {
   "cell_type": "code",
   "execution_count": 108,
   "metadata": {
    "collapsed": false
   },
   "outputs": [
    {
     "data": {
      "image/png": "[encoded data removed]",
      "text/plain": [
       "<matplotlib.figure.Figure at 0x11c44e610>"
      ]
     },
     "metadata": {},
     "output_type": "display_data"
    }
   ],
   "source": [
    "plt.plot(degree, np.mean(train_scores, 1), color='blue', label='training')\n",
    "plt.plot(degree, np.mean(val_scores, 1), color='red', label='cross validation')\n",
    "plt.legend(loc='lower right')\n",
    "plt.ylim(0.92, 1.01)\n",
    "plt.title(\"KNN: unweighted (Cancer)\")\n",
    "plt.xlabel('k (n_neighbors)')\n",
    "plt.ylabel('Accuracy');\n",
    "plt.show()"
   ]
  },
  {
   "cell_type": "markdown",
   "metadata": {},
   "source": [
    "### knn - change k weighted by distance"
   ]
  },
  {
   "cell_type": "code",
   "execution_count": 103,
   "metadata": {
    "collapsed": true
   },
   "outputs": [],
   "source": [
    "degree = range(1,51)\n",
    "train_scores_w, val_scores_w = validation_curve(KNeighborsClassifier(weights = 'distance'), train_X, train_Y,\n",
    "                                          'n_neighbors', degree, cv=10)"
   ]
  },
  {
   "cell_type": "code",
   "execution_count": 113,
   "metadata": {
    "collapsed": false
   },
   "outputs": [
    {
     "data": {
      "image/png": "[encoded data removed]",
      "text/plain": [
       "<matplotlib.figure.Figure at 0x118dabb50>"
      ]
     },
     "metadata": {},
     "output_type": "display_data"
    }
   ],
   "source": [
    "plt.plot(degree, np.mean(train_scores_w, 1), color='blue', label='training')\n",
    "plt.plot(degree, np.mean(val_scores_w, 1), color='red', label='cross validation')\n",
    "plt.legend(loc='lower right')\n",
    "plt.ylim(0.92, 1.01)\n",
    "plt.title(\"KNN: weighted (Cancer)\")\n",
    "plt.xlabel('k (n_neighbors)')\n",
    "plt.ylabel('Accuracy');\n",
    "plt.show()"
   ]
  },
  {
   "cell_type": "markdown",
   "metadata": {},
   "source": [
    "### knn - unweighted vs weighted"
   ]
  },
  {
   "cell_type": "code",
   "execution_count": 109,
   "metadata": {
    "collapsed": false
   },
   "outputs": [
    {
     "data": {
      "image/png": "[encoded data removed]",
      "text/plain": [
       "<matplotlib.figure.Figure at 0x118dabe10>"
      ]
     },
     "metadata": {},
     "output_type": "display_data"
    }
   ],
   "source": [
    "plt.plot(degree, np.mean(train_scores, 1), color='blue', label='training')\n",
    "plt.plot(degree, np.mean(val_scores, 1), color='red', label='cross validation')\n",
    "plt.plot(degree, np.mean(train_scores_w, 1), color='blue', label='w training')\n",
    "plt.plot(degree, np.mean(val_scores_w, 1), color='red', label='w cross validation')\n",
    "plt.legend(loc='lower right')\n",
    "plt.ylim(0.92, 1.01)\n",
    "plt.title(\"KNN: weighted vs unweighted (Cancer)\")\n",
    "plt.xlabel('k (n_neighbors)')\n",
    "plt.ylabel('Accuracy');\n",
    "plt.show()"
   ]
  },
  {
   "cell_type": "markdown",
   "metadata": {},
   "source": [
    "### knn grid search"
   ]
  },
  {
   "cell_type": "code",
   "execution_count": 110,
   "metadata": {
    "collapsed": false
   },
   "outputs": [
    {
     "data": {
      "text/plain": [
       "GridSearchCV(cv=10, error_score='raise',\n",
       "       estimator=KNeighborsClassifier(algorithm='auto', leaf_size=30, metric='minkowski',\n",
       "           metric_params=None, n_jobs=1, n_neighbors=5, p=2,\n",
       "           weights='uniform'),\n",
       "       fit_params={}, iid=True, n_jobs=1,\n",
       "       param_grid={'n_neighbors': [1, 2, 3, 4, 5, 6, 7, 8, 9, 10, 11, 12, 13, 14, 15, 16, 17, 18, 19, 20, 25, 30, 40, 45, 50], 'weights': ['uniform', 'distance'], 'p': [1, 2]},\n",
       "       pre_dispatch='2*n_jobs', refit=True, return_train_score=True,\n",
       "       scoring=None, verbose=0)"
      ]
     },
     "execution_count": 110,
     "metadata": {},
     "output_type": "execute_result"
    }
   ],
   "source": [
    "param_grid = {\"n_neighbors\": [1, 2, 3, 4, 5, 6, 7, 8, 9, 10, 11, 12, 13, 14, 15, 16, 17, 18, 19, 20,25,30,40,45,50],\n",
    "              \"p\": [1, 2],\n",
    "              \"weights\": ['uniform', 'distance']\n",
    "              }\n",
    "\n",
    "knn_gs = GridSearchCV(KNeighborsClassifier(),\n",
    "                       param_grid=param_grid, cv=10)\n",
    "\n",
    "knn_gs.fit(train_X, train_Y)"
   ]
  },
  {
   "cell_type": "code",
   "execution_count": 111,
   "metadata": {
    "collapsed": false
   },
   "outputs": [
    {
     "data": {
      "text/plain": [
       "KNeighborsClassifier(algorithm='auto', leaf_size=30, metric='minkowski',\n",
       "           metric_params=None, n_jobs=1, n_neighbors=3, p=1,\n",
       "           weights='uniform')"
      ]
     },
     "execution_count": 111,
     "metadata": {},
     "output_type": "execute_result"
    }
   ],
   "source": [
    "knn_gs.best_estimator_"
   ]
  },
  {
   "cell_type": "code",
   "execution_count": 112,
   "metadata": {
    "collapsed": false
   },
   "outputs": [
    {
     "data": {
      "text/plain": [
       "0.94736842105263153"
      ]
     },
     "execution_count": 112,
     "metadata": {},
     "output_type": "execute_result"
    }
   ],
   "source": [
    "knn_final_model = knn_gs.best_estimator_\n",
    "test_Y_predict = knn_final_model.fit(train_X, train_Y).predict(test_X)\n",
    "accuracy_score(test_Y, test_Y_predict)"
   ]
  },
  {
   "cell_type": "code",
   "execution_count": 115,
   "metadata": {
    "collapsed": false
   },
   "outputs": [
    {
     "data": {
      "text/plain": [
       "0.94736842105263153"
      ]
     },
     "execution_count": 115,
     "metadata": {},
     "output_type": "execute_result"
    }
   ],
   "source": [
    "knn_weighted_model = KNeighborsClassifier(n_neighbors=3, p=1, weights='distance')\n",
    "test_Y_predict = knn_final_model.fit(train_X, train_Y).predict(test_X)\n",
    "accuracy_score(test_Y, test_Y_predict)"
   ]
  },
  {
   "cell_type": "code",
   "execution_count": 112,
   "metadata": {
    "collapsed": false
   },
   "outputs": [
    {
     "name": "stdout",
     "output_type": "stream",
     "text": [
      "train acc:  0.986813186813\n",
      "test acc:  0.947368421053\n",
      "train time:  0.00123286247253\n",
      "test time:  0.0043671131134\n"
     ]
    }
   ],
   "source": [
    "knn_temp_model = KNeighborsClassifier(n_neighbors=3, p=1, weights='uniform')\n",
    "clf = knn_temp_model.fit(train_X, train_Y)\n",
    "\n",
    "start = timeit.default_timer()\n",
    "clf = clf.fit(train_X, train_Y)\n",
    "stop = timeit.default_timer()\n",
    "train_time = stop - start\n",
    "\n",
    "# train\n",
    "train_Y_predict = clf.predict(train_X)\n",
    "train_acc = accuracy_score(train_Y, train_Y_predict)\n",
    "\n",
    "# test\n",
    "start = timeit.default_timer()\n",
    "test_Y_predict = clf.predict(test_X)\n",
    "stop = timeit.default_timer()\n",
    "test_time = stop - start\n",
    "test_acc = accuracy_score(test_Y, test_Y_predict)\n",
    "\n",
    "# print result\n",
    "print 'train acc: ', train_acc\n",
    "print 'test acc: ', test_acc\n",
    "print 'train time: ', train_time\n",
    "print 'test time: ', test_time"
   ]
  },
  {
   "cell_type": "markdown",
   "metadata": {},
   "source": [
    "### knn - learning curve on best model"
   ]
  },
  {
   "cell_type": "code",
   "execution_count": 116,
   "metadata": {
    "collapsed": true
   },
   "outputs": [],
   "source": [
    "training_size, train_lc, val_lc = learning_curve(knn_final_model,\n",
    "                                         train_X, train_Y, cv=10,\n",
    "                                         train_sizes=np.arange(10,409,5), n_jobs=5)"
   ]
  },
  {
   "cell_type": "code",
   "execution_count": 118,
   "metadata": {
    "collapsed": false
   },
   "outputs": [
    {
     "data": {
      "image/png": "[encoded data removed]",
      "text/plain": [
       "<matplotlib.figure.Figure at 0x11b0092d0>"
      ]
     },
     "metadata": {},
     "output_type": "display_data"
    }
   ],
   "source": [
    "plt.plot(training_size, np.mean(train_lc, 1), color='blue', label='training score')\n",
    "plt.plot(training_size, np.mean(val_lc, 1), color='red', label='validation score')\n",
    "plt.hlines(np.mean([train_lc[-1], val_lc[-1]]), training_size[0], training_size[-1],\n",
    "                 color='gray', linestyle='dashed')\n",
    "\n",
    "plt.legend(loc='lower right')\n",
    "plt.ylim(0.75, 1.05)\n",
    "plt.xlim(training_size[0], training_size[-1])\n",
    "plt.title(\"KNN: Learning curve (Cancer)\")\n",
    "plt.xlabel('training size')\n",
    "plt.ylabel('Accuracy');\n",
    "plt.show()"
   ]
  },
  {
   "cell_type": "markdown",
   "metadata": {},
   "source": [
    "### knn: time vs iterations"
   ]
  },
  {
   "cell_type": "code",
   "execution_count": 153,
   "metadata": {
    "collapsed": true
   },
   "outputs": [],
   "source": [
    "train_time=[]\n",
    "test_time=[]\n",
    "iteration=[]\n",
    "for i in range(1,51):\n",
    "    start = timeit.default_timer()\n",
    "    clf = KNeighborsClassifier(n_neighbors=i, weights='distance')\n",
    "    clf = clf.fit(train_X, train_Y)\n",
    "    stop = timeit.default_timer()\n",
    "    train_time.append(stop - start)\n",
    "    start = timeit.default_timer()\n",
    "    test_Y_predict = clf.predict(test_X)\n",
    "    stop = timeit.default_timer()\n",
    "    test_time.append(stop - start)\n",
    "    iteration.append(i)"
   ]
  },
  {
   "cell_type": "code",
   "execution_count": 155,
   "metadata": {
    "collapsed": false
   },
   "outputs": [
    {
     "data": {
      "image/png": "[encoded data removed]",
      "text/plain": [
       "<matplotlib.figure.Figure at 0x118e44910>"
      ]
     },
     "metadata": {},
     "output_type": "display_data"
    }
   ],
   "source": [
    "plt.plot(iteration, train_time, color='blue', label='training time')\n",
    "plt.plot(iteration, test_time, color='red', label='testing time')\n",
    "plt.legend(loc='upper left')\n",
    "#plt.ylim(0.7, 1.02)\n",
    "plt.title(\"KNN: training time vs testing time \\n weighted (Cancer)\")\n",
    "plt.xlabel('k (n_neighbors)')\n",
    "plt.ylabel('Time (s)');\n",
    "#plt.xticks(np.arange(0,2.1,0.5))\n",
    "plt.show()"
   ]
  },
  {
   "cell_type": "code",
   "execution_count": 138,
   "metadata": {
    "collapsed": true
   },
   "outputs": [],
   "source": [
    "time=[]\n",
    "iteration=[]\n",
    "for i in range(1,51):\n",
    "    start = timeit.default_timer()\n",
    "    clf = KNeighborsClassifier(n_neighbors=i, weights='distance')\n",
    "    clf = clf.fit(train_X, train_Y)\n",
    "    stop = timeit.default_timer()\n",
    "    time.append(stop - start)\n",
    "    iteration.append(i)"
   ]
  },
  {
   "cell_type": "code",
   "execution_count": 139,
   "metadata": {
    "collapsed": false
   },
   "outputs": [
    {
     "data": {
      "image/png": "[encoded data removed]",
      "text/plain": [
       "<matplotlib.figure.Figure at 0x11a5add90>"
      ]
     },
     "metadata": {},
     "output_type": "display_data"
    }
   ],
   "source": [
    "plt.plot(iteration, time)\n",
    "plt.legend(loc='lower right')\n",
    "#plt.ylim(0.7, 1.02)\n",
    "plt.title(\"KNN: training time vs k \\n weighted (Cancer)\")\n",
    "plt.xlabel('k (n_neighbors)')\n",
    "plt.ylabel('Training Time (s)');\n",
    "#plt.xticks(np.arange(0,2.1,0.5))\n",
    "plt.show()"
   ]
  },
  {
   "cell_type": "markdown",
   "metadata": {},
   "source": [
    "## 2.4 SVM\n",
    "\n",
    "hyperparameters:\n",
    "\n",
    "kernal: linear (c), poly(degree-c), rbf (c-gamma)\n",
    "\n",
    "Linear Kernel: No parameters\n",
    "\n",
    "Polynomial: (gamma*u'*v + coef0)^degree (using libsvm's nomenclature) Degree is the main parameter here, but you can also vary gamma & coef0 to make the kernel non-symmetric. If you are just starting out, I recommend you stick to varying degree.\n",
    "\n",
    "RBF: exp(-gamma*|u-v|^2) Gamma is the main parameter."
   ]
  },
  {
   "cell_type": "markdown",
   "metadata": {},
   "source": [
    "### a simple run"
   ]
  },
  {
   "cell_type": "code",
   "execution_count": 26,
   "metadata": {
    "collapsed": false
   },
   "outputs": [
    {
     "name": "stdout",
     "output_type": "stream",
     "text": [
      "Train acc: 0.991208791209\n",
      "Test acc: 0.947368421053\n"
     ]
    }
   ],
   "source": [
    "from sklearn import svm\n",
    "clf = svm.SVC(kernel='linear')\n",
    "clf.fit(train_X, train_Y)\n",
    "train_acc = clf.score(train_X, train_Y)\n",
    "test_acc = clf.score(test_X, test_Y)\n",
    "print \"Train acc:\", train_acc\n",
    "print \"Test acc:\", test_acc"
   ]
  },
  {
   "cell_type": "code",
   "execution_count": 26,
   "metadata": {
    "collapsed": false
   },
   "outputs": [
    {
     "name": "stdout",
     "output_type": "stream",
     "text": [
      "Train acc: 0.986813186813\n",
      "Test acc: 0.956140350877\n"
     ]
    }
   ],
   "source": [
    "clf = svm.SVC(kernel='rbf')\n",
    "clf.fit(train_X, train_Y)\n",
    "train_acc = clf.score(train_X, train_Y)\n",
    "test_acc = clf.score(test_X, test_Y)\n",
    "print \"Train acc:\", train_acc\n",
    "print \"Test acc:\", test_acc"
   ]
  },
  {
   "cell_type": "code",
   "execution_count": 27,
   "metadata": {
    "collapsed": false
   },
   "outputs": [
    {
     "name": "stdout",
     "output_type": "stream",
     "text": [
      "Train acc: 0.916483516484\n",
      "Test acc: 0.912280701754\n"
     ]
    }
   ],
   "source": [
    "clf = svm.SVC(kernel='poly')\n",
    "clf.fit(train_X, train_Y)\n",
    "train_acc = clf.score(train_X, train_Y)\n",
    "test_acc = clf.score(test_X, test_Y)\n",
    "print \"Train acc:\", train_acc\n",
    "print \"Test acc:\", test_acc"
   ]
  },
  {
   "cell_type": "markdown",
   "metadata": {},
   "source": [
    "### svm - poly kernel, degree vs C"
   ]
  },
  {
   "cell_type": "code",
   "execution_count": 40,
   "metadata": {
    "collapsed": true
   },
   "outputs": [],
   "source": [
    "degree = range(1,11)\n",
    "#degree = [1,2,3,4,5,7,10]\n",
    "train_scores_svm1, val_scores_svm1 = validation_curve(svm.SVC(kernel='poly', C=0.01), train_X, train_Y,\n",
    "                                          'degree', degree, cv=10)\n",
    "train_scores_svm2, val_scores_svm2 = validation_curve(svm.SVC(kernel='poly', C=0.1), train_X, train_Y,\n",
    "                                          'degree', degree, cv=10)\n",
    "train_scores_svm3, val_scores_svm3 = validation_curve(svm.SVC(kernel='poly', C=1), train_X, train_Y,\n",
    "                                          'degree', degree, cv=10)\n",
    "train_scores_svm4, val_scores_svm4 = validation_curve(svm.SVC(kernel='poly', C=10), train_X, train_Y,\n",
    "                                          'degree', degree, cv=10)"
   ]
  },
  {
   "cell_type": "code",
   "execution_count": 54,
   "metadata": {
    "collapsed": false
   },
   "outputs": [
    {
     "data": {
      "image/png": "[encoded data removed]",
      "text/plain": [
       "<matplotlib.figure.Figure at 0x1041e0d50>"
      ]
     },
     "metadata": {},
     "output_type": "display_data"
    }
   ],
   "source": [
    "plt.plot(degree, np.mean(val_scores_svm4, 1), color='red', label='C=10')\n",
    "plt.plot(degree, np.mean(val_scores_svm3, 1), color='purple', label='C=1.0')\n",
    "plt.plot(degree, np.mean(val_scores_svm2, 1), color='green', label='C=0.1')\n",
    "plt.plot(degree, np.mean(val_scores_svm1, 1), color='blue', label='C=0.01')\n",
    "\n",
    "plt.legend(loc='upper right')\n",
    "plt.ylim(0.6, 1.1)\n",
    "plt.title(\"SVM: polynomial kernel (Cancer) \\n varying poly degree and C\")\n",
    "plt.xlabel('polynomial degree')\n",
    "plt.ylabel('Cross-Validation Accuracy');\n",
    "plt.show()"
   ]
  },
  {
   "cell_type": "code",
   "execution_count": 55,
   "metadata": {
    "collapsed": false
   },
   "outputs": [
    {
     "data": {
      "image/png": "[encoded data removed]",
      "text/plain": [
       "<matplotlib.figure.Figure at 0x1042bf090>"
      ]
     },
     "metadata": {},
     "output_type": "display_data"
    }
   ],
   "source": [
    "# plot validation curve\n",
    "plt.plot(degree, np.mean(train_scores_svm1, 1), color='blue', label='C=0.01, train')\n",
    "plt.plot(degree, np.mean(val_scores_svm1, 1), color='purple', label='C=0.01, validation')\n",
    "plt.plot(degree, np.mean(train_scores_svm4, 1), color='green', label='C=10, train')\n",
    "plt.plot(degree, np.mean(val_scores_svm4, 1), color='red', label='C=10, validation')\n",
    "\n",
    "plt.legend(loc='lower right')\n",
    "plt.ylim(0, 1.2)\n",
    "plt.title(\"SVM: polynomial kernel (Cancer)\")\n",
    "plt.xlabel('polynomial degree')\n",
    "plt.ylabel('Accuracy');\n",
    "plt.show()"
   ]
  },
  {
   "cell_type": "markdown",
   "metadata": {},
   "source": [
    "### svm - rbf, change C"
   ]
  },
  {
   "cell_type": "code",
   "execution_count": 68,
   "metadata": {
    "collapsed": true
   },
   "outputs": [],
   "source": [
    "#degree = [0.03,0.1,0.3,1.0,3.0,10.0,30.0,100.0,300]\n",
    "degree = np.logspace(-1.5, 3, 10)\n",
    "train_scores, val_scores = validation_curve(svm.SVC(kernel='rbf'), train_X, train_Y,\n",
    "                                          'C', degree, cv=10)"
   ]
  },
  {
   "cell_type": "code",
   "execution_count": 69,
   "metadata": {
    "collapsed": false
   },
   "outputs": [
    {
     "data": {
      "image/png": "[encoded data removed]",
      "text/plain": [
       "<matplotlib.figure.Figure at 0x118f6ea10>"
      ]
     },
     "metadata": {},
     "output_type": "display_data"
    }
   ],
   "source": [
    "plt.plot(degree, np.median(train_scores, 1), 'o-',color='blue', label='training')\n",
    "plt.plot(degree, np.median(val_scores, 1), 'o-', color='red', label='cross validation')\n",
    "\n",
    "plt.legend(loc='upper right')\n",
    "plt.ylim(0.9, 1.1)\n",
    "plt.title(\"SVM: RBF kernel (Cancer)\\n gamma=1/30, varying C\")\n",
    "plt.xlabel('C')\n",
    "plt.ylabel('Accuracy');\n",
    "plt.xscale('log')\n",
    "plt.show()"
   ]
  },
  {
   "cell_type": "markdown",
   "metadata": {},
   "source": [
    "### svm - rbf change gamma"
   ]
  },
  {
   "cell_type": "code",
   "execution_count": 70,
   "metadata": {
    "collapsed": true
   },
   "outputs": [],
   "source": [
    "#degree = [0.0001,0.0003,0.001,0.003,0.01,0.03,0.1,0.3]\n",
    "degree = np.logspace(-4, 1, 11)\n",
    "\n",
    "train_scores, val_scores = validation_curve(svm.SVC(kernel='rbf'), train_X, train_Y,\n",
    "                                          'gamma', degree, cv=10)"
   ]
  },
  {
   "cell_type": "code",
   "execution_count": 71,
   "metadata": {
    "collapsed": false
   },
   "outputs": [
    {
     "data": {
      "image/png": "[encoded data removed]",
      "text/plain": [
       "<matplotlib.figure.Figure at 0x11c4c1ad0>"
      ]
     },
     "metadata": {},
     "output_type": "display_data"
    }
   ],
   "source": [
    "plt.plot(degree, np.median(train_scores, 1), 'o-',color='blue', label='training')\n",
    "plt.plot(degree, np.median(val_scores, 1), 'o-', color='red', label='cross validation')\n",
    "\n",
    "plt.legend(loc='upper right')\n",
    "plt.ylim(0.6, 1.2)\n",
    "plt.title(\"SVM: RBF kernel (Cancer)\\n C=1.0, varying gamma\")\n",
    "plt.xlabel('gamma')\n",
    "plt.ylabel('Accuracy');\n",
    "plt.xscale('log')\n",
    "plt.show()"
   ]
  },
  {
   "cell_type": "markdown",
   "metadata": {},
   "source": [
    "### svm - rbf find best C/gamma combination"
   ]
  },
  {
   "cell_type": "code",
   "execution_count": 31,
   "metadata": {
    "collapsed": false
   },
   "outputs": [
    {
     "data": {
      "text/plain": [
       "GridSearchCV(cv=5, error_score='raise',\n",
       "       estimator=SVC(C=1.0, cache_size=200, class_weight=None, coef0=0.0,\n",
       "  decision_function_shape=None, degree=3, gamma='auto', kernel='rbf',\n",
       "  max_iter=-1, probability=False, random_state=None, shrinking=True,\n",
       "  tol=0.001, verbose=False),\n",
       "       fit_params={}, iid=True, n_jobs=1,\n",
       "       param_grid={'C': [0.01, 0.03, 0.1, 0.3, 1, 3, 10, 30, 100, 300, 1000], 'gamma': [0.0001, 0.0003, 0.001, 0.003, 0.01, 0.03, 1]},\n",
       "       pre_dispatch='2*n_jobs', refit=True, return_train_score=True,\n",
       "       scoring=None, verbose=0)"
      ]
     },
     "execution_count": 31,
     "metadata": {},
     "output_type": "execute_result"
    }
   ],
   "source": [
    "# For an initial search, a logarithmic grid with basis\n",
    "# 10 is often helpful. Using a basis of 2, a finer\n",
    "# tuning can be achieved but at a much higher cost.\n",
    "\n",
    "#C_range = 10. ** np.arange(-3, 5)\n",
    "#gamma_range = 10. ** np.arange(-5, 1)\n",
    "#C_range = np.logspace(-2, 10, 13)\n",
    "#gamma_range = np.logspace(-9, 3, 13)\n",
    "\n",
    "#C_range = np.logspace(-2, 3, 6)\n",
    "#gamma_range = np.logspace(-4, 1, 6)\n",
    "\n",
    "C_range = [0.01,0.03,0.1,0.3,1,3,10,30,100,300,1000]\n",
    "gamma_range = [0.0001,0.0003,0.001,0.003,0.01,0.03,1]\n",
    "\n",
    "param_grid = dict(gamma=gamma_range, C=C_range)\n",
    "\n",
    "grid = GridSearchCV(svm.SVC(kernel='rbf'), param_grid=param_grid, cv=5)\n",
    "grid.fit(train_X, train_Y)"
   ]
  },
  {
   "cell_type": "code",
   "execution_count": 32,
   "metadata": {
    "collapsed": false,
    "scrolled": true
   },
   "outputs": [
    {
     "name": "stdout",
     "output_type": "stream",
     "text": [
      "('The best classifier is: ', SVC(C=3, cache_size=200, class_weight=None, coef0=0.0,\n",
      "  decision_function_shape=None, degree=3, gamma=0.03, kernel='rbf',\n",
      "  max_iter=-1, probability=False, random_state=None, shrinking=True,\n",
      "  tol=0.001, verbose=False))\n"
     ]
    }
   ],
   "source": [
    "print(\"The best classifier is: \", grid.best_estimator_)"
   ]
  },
  {
   "cell_type": "code",
   "execution_count": 33,
   "metadata": {
    "collapsed": false
   },
   "outputs": [
    {
     "data": {
      "text/plain": [
       "0.94736842105263153"
      ]
     },
     "execution_count": 33,
     "metadata": {},
     "output_type": "execute_result"
    }
   ],
   "source": [
    "svm_final_model = grid.best_estimator_\n",
    "test_Y_predict = svm_final_model.fit(train_X, train_Y).predict(test_X)\n",
    "accuracy_score(test_Y, test_Y_predict)"
   ]
  },
  {
   "cell_type": "code",
   "execution_count": 34,
   "metadata": {
    "collapsed": false
   },
   "outputs": [
    {
     "data": {
      "image/png": "[encoded data removed]",
      "text/plain": [
       "<matplotlib.figure.Figure at 0x11f770b90>"
      ]
     },
     "metadata": {},
     "output_type": "display_data"
    }
   ],
   "source": [
    "import pylab as pl\n",
    "# plot the scores of the grid\n",
    "# grid_scores_ contains parameter settings and scores\n",
    "score_dict = grid.grid_scores_\n",
    "\n",
    "# We extract just the scores\n",
    "scores = [x[1] for x in score_dict]\n",
    "scores = np.array(scores).reshape(len(C_range), len(gamma_range))\n",
    "\n",
    "# Make a nice figure\n",
    "pl.figure(figsize=(8, 6))\n",
    "pl.subplots_adjust(left=0.15, right=0.95, bottom=0.15, top=0.95)\n",
    "pl.imshow(scores, interpolation='nearest', cmap=pl.cm.spectral)\n",
    "pl.title('SVM: Select C & gamma \\nof RBF kernel (Cancer)')\n",
    "pl.xlabel('gamma')\n",
    "pl.ylabel('C')\n",
    "pl.colorbar()\n",
    "pl.xticks(np.arange(len(gamma_range)), gamma_range, rotation=45)\n",
    "pl.yticks(np.arange(len(C_range)), C_range)\n",
    "pl.show()"
   ]
  },
  {
   "cell_type": "code",
   "execution_count": 65,
   "metadata": {
    "collapsed": false
   },
   "outputs": [
    {
     "name": "stdout",
     "output_type": "stream",
     "text": [
      "('The best classifier is: ', SVC(C=10.0, cache_size=200, class_weight=None, coef0=0.0,\n",
      "  decision_function_shape=None, degree=3, gamma=0.01, kernel='rbf',\n",
      "  max_iter=-1, probability=False, random_state=None, shrinking=True,\n",
      "  tol=0.001, verbose=False))\n"
     ]
    }
   ],
   "source": [
    "#another range\n",
    "C_range = np.logspace(-2, 10, 13)\n",
    "gamma_range = np.logspace(-9, 3, 13)\n",
    "\n",
    "param_grid = dict(gamma=gamma_range, C=C_range)\n",
    "\n",
    "grid = GridSearchCV(svm.SVC(kernel='rbf'), param_grid=param_grid, cv=5)\n",
    "grid.fit(train_X, train_Y)\n",
    "print(\"The best classifier is: \", grid.best_estimator_)"
   ]
  },
  {
   "cell_type": "code",
   "execution_count": 66,
   "metadata": {
    "collapsed": false
   },
   "outputs": [
    {
     "data": {
      "image/png": "[encoded data removed]",
      "text/plain": [
       "<matplotlib.figure.Figure at 0x11c56b790>"
      ]
     },
     "metadata": {},
     "output_type": "display_data"
    }
   ],
   "source": [
    "# plot the scores of the grid\n",
    "# grid_scores_ contains parameter settings and scores\n",
    "score_dict = grid.grid_scores_\n",
    "\n",
    "# We extract just the scores\n",
    "scores = [x[1] for x in score_dict]\n",
    "scores = np.array(scores).reshape(len(C_range), len(gamma_range))\n",
    "\n",
    "# Make a nice figure\n",
    "pl.figure(figsize=(8, 6))\n",
    "pl.subplots_adjust(left=0.15, right=0.95, bottom=0.15, top=0.95)\n",
    "pl.imshow(scores, interpolation='nearest', cmap=pl.cm.spectral)\n",
    "pl.title('SVM: Select C & gamma \\nof RBF kernel (Cancer)')\n",
    "pl.xlabel('gamma')\n",
    "pl.ylabel('C')\n",
    "pl.colorbar()\n",
    "pl.xticks(np.arange(len(gamma_range)), gamma_range, rotation=45)\n",
    "pl.yticks(np.arange(len(C_range)), C_range)\n",
    "pl.show()"
   ]
  },
  {
   "cell_type": "code",
   "execution_count": 67,
   "metadata": {
    "collapsed": false
   },
   "outputs": [
    {
     "name": "stdout",
     "output_type": "stream",
     "text": [
      "train acc:  0.991208791209\n",
      "test acc:  0.964912280702\n",
      "train time:  0.00654911994934\n",
      "test time:  0.000943899154663\n"
     ]
    }
   ],
   "source": [
    "clf = svm.SVC(kernel='rbf', C=10, gamma=0.01)\n",
    "#clf = grid.best_estimator_\n",
    "start = timeit.default_timer()\n",
    "clf = clf.fit(train_X, train_Y)\n",
    "stop = timeit.default_timer()\n",
    "train_time = stop - start\n",
    "\n",
    "# train\n",
    "train_Y_predict = clf.predict(train_X)\n",
    "train_acc = accuracy_score(train_Y, train_Y_predict)\n",
    "\n",
    "# test\n",
    "start = timeit.default_timer()\n",
    "test_Y_predict = clf.predict(test_X)\n",
    "stop = timeit.default_timer()\n",
    "test_time = stop - start\n",
    "test_acc = accuracy_score(test_Y, test_Y_predict)\n",
    "\n",
    "# print result\n",
    "print 'train acc: ', train_acc\n",
    "print 'test acc: ', test_acc\n",
    "print 'train time: ', train_time\n",
    "print 'test time: ', test_time"
   ]
  },
  {
   "cell_type": "markdown",
   "metadata": {},
   "source": [
    "### svm - linear learning curve"
   ]
  },
  {
   "cell_type": "code",
   "execution_count": 77,
   "metadata": {
    "collapsed": false
   },
   "outputs": [
    {
     "data": {
      "image/png": "[encoded data removed]",
      "text/plain": [
       "<matplotlib.figure.Figure at 0x11be56dd0>"
      ]
     },
     "metadata": {},
     "output_type": "display_data"
    }
   ],
   "source": [
    "# use linear kernel\n",
    "training_size, train_lc, val_lc = learning_curve(svm.SVC(kernel='linear'),\n",
    "                                         train_X, train_Y, cv=10,\n",
    "                                         train_sizes=np.linspace(0.1, 1, 50), n_jobs=1)\n",
    "\n",
    "plt.plot(training_size, np.mean(train_lc, 1), color='blue', label='training score')\n",
    "plt.plot(training_size, np.mean(val_lc, 1), color='red', label='validation score')\n",
    "plt.hlines(np.mean([train_lc[-1], val_lc[-1]]), training_size[0], training_size[-1],\n",
    "                 color='gray', linestyle='dashed')\n",
    "\n",
    "plt.legend(loc='best')\n",
    "plt.ylim(0.9, 1.1)\n",
    "plt.xlim(training_size[0], training_size[-1])\n",
    "plt.title(\"svm: learning curve\")\n",
    "plt.xlabel('training size')\n",
    "plt.ylabel('Accuracy');\n",
    "plt.show()"
   ]
  },
  {
   "cell_type": "code",
   "execution_count": 81,
   "metadata": {
    "collapsed": true
   },
   "outputs": [],
   "source": [
    "# use best rbf kernel\n",
    "training_size, train_lc, val_lc = learning_curve(svm.SVC(kernel='rbf', C=10, gamma=0.01),\n",
    "                                         train_X, train_Y, cv=10,\n",
    "                                         train_sizes=np.arange(10,409,10), n_jobs=1)"
   ]
  },
  {
   "cell_type": "code",
   "execution_count": 85,
   "metadata": {
    "collapsed": false
   },
   "outputs": [
    {
     "data": {
      "image/png": "[encoded data removed]",
      "text/plain": [
       "<matplotlib.figure.Figure at 0x11c8d7190>"
      ]
     },
     "metadata": {},
     "output_type": "display_data"
    }
   ],
   "source": [
    "plt.plot(training_size, np.mean(train_lc, 1), color='blue', label='training')\n",
    "plt.plot(training_size, np.mean(val_lc, 1), color='red', label='cross validation')\n",
    "plt.hlines(np.mean([train_lc[-1], val_lc[-1]]), training_size[0], training_size[-1],\n",
    "                 color='gray', linestyle='dashed')\n",
    "\n",
    "plt.legend(loc='lower right')\n",
    "plt.ylim(0.8, 1.01)\n",
    "plt.xlim(training_size[0], training_size[-1])\n",
    "plt.title(\"SVM: Learning curve (Cancer)\")\n",
    "plt.xlabel('training size')\n",
    "plt.ylabel('Accuracy');\n",
    "plt.show()"
   ]
  },
  {
   "cell_type": "markdown",
   "metadata": {},
   "source": [
    "## 2.5 Neural Networks\n",
    "\n",
    "the number of hidden nodes/layers, momentum and learning rates in a Neural Network are hyperparameters"
   ]
  },
  {
   "cell_type": "markdown",
   "metadata": {},
   "source": [
    "### a simple mlp nn"
   ]
  },
  {
   "cell_type": "code",
   "execution_count": 25,
   "metadata": {
    "collapsed": false
   },
   "outputs": [
    {
     "name": "stdout",
     "output_type": "stream",
     "text": [
      "Train acc: 0.995604395604\n",
      "Test acc: 0.947368421053\n"
     ]
    }
   ],
   "source": [
    "from sklearn.neural_network import MLPClassifier\n",
    "clf = MLPClassifier()\n",
    "clf.fit(train_X, train_Y)\n",
    "train_acc = clf.score(train_X, train_Y)\n",
    "test_acc = clf.score(test_X, test_Y)\n",
    "print \"Train acc:\", train_acc\n",
    "print \"Test acc:\", test_acc"
   ]
  },
  {
   "cell_type": "markdown",
   "metadata": {},
   "source": [
    "### mlp - hidden layer "
   ]
  },
  {
   "cell_type": "markdown",
   "metadata": {},
   "source": [
    "### MLP: # layers & # nodes"
   ]
  },
  {
   "cell_type": "code",
   "execution_count": 50,
   "metadata": {
    "collapsed": true
   },
   "outputs": [],
   "source": [
    "degree1 = [(10,),(10,10),(10,10,10)]\n",
    "degree2 = [(20,),(20,20),(20,20,20)]\n",
    "degree3 = [(50,),(50,50),(50,50,50)]\n",
    "degree = np.concatenate([degree1,degree2,degree3])\n",
    "train_scores, val_scores = validation_curve(MLPClassifier(), train_X, train_Y,\n",
    "                                          'hidden_layer_sizes', degree, cv=3)"
   ]
  },
  {
   "cell_type": "code",
   "execution_count": 51,
   "metadata": {
    "collapsed": false
   },
   "outputs": [
    {
     "data": {
      "text/plain": [
       "array([ 0.98681677,  0.99010987,  0.99010625,  0.98791327,  0.99669967,\n",
       "        0.99889989,  0.99340296,  1.        ,  1.        ])"
      ]
     },
     "execution_count": 51,
     "metadata": {},
     "output_type": "execute_result"
    }
   ],
   "source": [
    "np.mean(train_scores,1)"
   ]
  },
  {
   "cell_type": "code",
   "execution_count": 52,
   "metadata": {
    "collapsed": false
   },
   "outputs": [
    {
     "data": {
      "text/plain": [
       "array([ 0.97359707,  0.98020507,  0.97802661,  0.97583362,  0.98239805,\n",
       "        0.97799756,  0.98242709,  0.98020507,  0.9758191 ])"
      ]
     },
     "execution_count": 52,
     "metadata": {},
     "output_type": "execute_result"
    }
   ],
   "source": [
    "np.mean(val_scores,1)"
   ]
  },
  {
   "cell_type": "markdown",
   "metadata": {},
   "source": [
    "### mlp hidden layer units (1 layer)\n",
    "\n",
    "https://stats.stackexchange.com/questions/181/how-to-choose-the-number-of-hidden-layers-and-nodes-in-a-feedforward-neural-netw\n",
    "\n",
    "There are many rule-of-thumb methods for determining the correct number of neurons to use in the hidden layers, such as the following:\n",
    "\n",
    "The number of hidden neurons should be between the size of the input layer and the size of the output layer.\n",
    "\n",
    "The number of hidden neurons should be 2/3 the size of the input layer, plus the size of the output layer.\n",
    "\n",
    "The number of hidden neurons should be less than twice the size of the input layer."
   ]
  },
  {
   "cell_type": "markdown",
   "metadata": {},
   "source": [
    "### MLP: change # of nodes (1 layer)"
   ]
  },
  {
   "cell_type": "code",
   "execution_count": 40,
   "metadata": {
    "collapsed": true
   },
   "outputs": [],
   "source": [
    "degree = [(2,),(5,),(10,),(20,),(50,),(100,),(200,)]\n",
    "train_scores, val_scores = validation_curve(MLPClassifier(), train_X, train_Y,\n",
    "                                          'hidden_layer_sizes', degree, cv=10, n_jobs=3)"
   ]
  },
  {
   "cell_type": "code",
   "execution_count": 45,
   "metadata": {
    "collapsed": false
   },
   "outputs": [
    {
     "data": {
      "image/png": "[encoded data removed]",
      "text/plain": [
       "<matplotlib.figure.Figure at 0x11e85b850>"
      ]
     },
     "metadata": {},
     "output_type": "display_data"
    }
   ],
   "source": [
    "plt.plot(degree, np.mean(train_scores, 1), 'o-',color='blue', label='training')\n",
    "plt.plot(degree, np.mean(val_scores, 1), 'o-', color='red', label='cross validation')\n",
    "\n",
    "plt.legend(loc='lower right')\n",
    "plt.ylim(0.85, 1.01)\n",
    "plt.title(\"MLP: varying hidden layer nodes \\n1 hidden layer (Cancer)\")\n",
    "plt.xlabel('# of hidden layer nodes')\n",
    "plt.ylabel('Accuracy');\n",
    "plt.show()"
   ]
  },
  {
   "cell_type": "code",
   "execution_count": 68,
   "metadata": {
    "collapsed": false
   },
   "outputs": [
    {
     "name": "stdout",
     "output_type": "stream",
     "text": [
      "(20,) 0.993406593407 0.947368421053 0.0474140644073 0.000450134277344\n",
      "(50,) 0.993406593407 0.947368421053 0.0336589813232 0.000200986862183\n",
      "(100,) 0.993406593407 0.947368421053 0.0714800357819 0.000443935394287\n",
      "(50, 50) 0.993406593407 0.947368421053 0.0266489982605 0.000214099884033\n",
      "(50, 50, 50) 0.993406593407 0.947368421053 0.0742859840393 0.0002121925354\n",
      "degree|train acc|test acc|train time|test time\n",
      "(20,) 0.993406593407 0.947368421053 0.0474140644073 0.000450134277344\n",
      "(50,) 0.993406593407 0.947368421053 0.0336589813232 0.000200986862183\n",
      "(100,) 0.993406593407 0.947368421053 0.0714800357819 0.000443935394287\n",
      "(50, 50) 0.993406593407 0.947368421053 0.0266489982605 0.000214099884033\n",
      "(50, 50, 50) 0.993406593407 0.947368421053 0.0742859840393 0.0002121925354\n"
     ]
    }
   ],
   "source": [
    "degree = [(20,),(50,),(100,),(50,50),(50,50,50)]\n",
    "\n",
    "mlps=[]\n",
    "train_times=[]\n",
    "test_times=[]\n",
    "train_accs=[]\n",
    "test_accs=[]\n",
    "\n",
    "for i in range(len(degree)):\n",
    "    # train\n",
    "    mlp = MLPClassifier(max_iter=10000, early_stopping=True,hidden_layer_sizes=degree[i])\n",
    "    start = timeit.default_timer()\n",
    "    mlp.fit(train_X, train_Y)\n",
    "    stop = timeit.default_timer()\n",
    "    train_time = stop - start\n",
    "    # train result\n",
    "    train_Y_predict = clf.predict(train_X)\n",
    "    train_acc = accuracy_score(train_Y, train_Y_predict)\n",
    "    # test\n",
    "    start = timeit.default_timer()\n",
    "    test_Y_predict = clf.predict(test_X)\n",
    "    stop = timeit.default_timer()\n",
    "    test_time = stop - start\n",
    "    test_acc = accuracy_score(test_Y, test_Y_predict)\n",
    "    # save results\n",
    "    mlps.append(mlp)\n",
    "    train_times.append(train_time)\n",
    "    test_times.append(test_time)\n",
    "    train_accs.append(train_acc)\n",
    "    test_accs.append(test_acc)\n",
    "    print degree[i], train_acc,test_acc,train_time,test_time\n",
    "\n",
    "print \"degree|train acc|test acc|train time|test time\"\n",
    "for i in range(len(degree)):\n",
    "    print degree[i], train_accs[i],test_accs[i],train_times[i],test_times[i]"
   ]
  },
  {
   "cell_type": "markdown",
   "metadata": {},
   "source": [
    "### mlp momentum"
   ]
  },
  {
   "cell_type": "markdown",
   "metadata": {},
   "source": [
    "### ann: change L and M"
   ]
  },
  {
   "cell_type": "code",
   "execution_count": 72,
   "metadata": {
    "collapsed": true
   },
   "outputs": [],
   "source": [
    "params = [{'solver': 'sgd', 'learning_rate': 'constant', 'momentum': 0,\n",
    "           'learning_rate_init': 0.001},\n",
    "          {'solver': 'sgd', 'learning_rate': 'constant', 'momentum': .9,\n",
    "           'learning_rate_init': 0.001},\n",
    "          {'solver': 'sgd', 'learning_rate': 'constant', 'momentum': 0.5,\n",
    "           'learning_rate_init': 0.001},\n",
    "          {'solver': 'sgd', 'learning_rate': 'constant', 'momentum': 0.5,\n",
    "           'learning_rate_init': 0.01},\n",
    "          {'solver': 'sgd', 'learning_rate': 'constant', 'momentum': 0.5,\n",
    "           'learning_rate_init': 0.1},\n",
    "         ]\n",
    "\n",
    "mlps=[]\n",
    "\n",
    "for param in params:\n",
    "    mlp = MLPClassifier(hidden_layer_sizes=(22,),verbose=0, max_iter=10000, **param)\n",
    "    mlp.fit(train_X, train_Y)\n",
    "    mlps.append(mlp)"
   ]
  },
  {
   "cell_type": "code",
   "execution_count": 77,
   "metadata": {
    "collapsed": false
   },
   "outputs": [
    {
     "data": {
      "image/png": "[encoded data removed]",
      "text/plain": [
       "<matplotlib.figure.Figure at 0x118a142d0>"
      ]
     },
     "metadata": {},
     "output_type": "display_data"
    }
   ],
   "source": [
    "labels = [\"L=0.001, M=0\", \n",
    "          \"L=0.001, M=0.9\", \n",
    "          \"L=0.001, M=0.5\", \n",
    "          \"L=0.01, M=0.5\", \n",
    "          \"L=0.1, M=0.5\", \n",
    "         ]\n",
    "\n",
    "plot_args = [{'c': 'red'},\n",
    "             {'c': 'purple'},\n",
    "             {'c': 'blue'},\n",
    "             {'c': 'green'},\n",
    "             {'c': 'black'}]   \n",
    "\n",
    "for mlp, label, args in zip(mlps, labels, plot_args):\n",
    "    plt.plot(mlp.loss_curve_, label=label, **args)\n",
    "\n",
    "plt.legend(loc='upper right')\n",
    "plt.ylim(-0.1, 0.9)\n",
    "plt.title(\"MLP: varying learning_rate (L)\\nand momentum (M)\\n1 hidden layer, 22 nodes (Cancer)\")\n",
    "plt.xlabel('# of epochs')\n",
    "plt.ylabel('Training Loss');\n",
    "plt.show()"
   ]
  },
  {
   "cell_type": "markdown",
   "metadata": {},
   "source": [
    "### grid search for L and M"
   ]
  },
  {
   "cell_type": "code",
   "execution_count": 47,
   "metadata": {
    "collapsed": false
   },
   "outputs": [
    {
     "data": {
      "text/plain": [
       "GridSearchCV(cv=10, error_score='raise',\n",
       "       estimator=MLPClassifier(activation='relu', alpha=0.0001, batch_size='auto', beta_1=0.9,\n",
       "       beta_2=0.999, early_stopping=True, epsilon=1e-08,\n",
       "       hidden_layer_sizes=(22,), learning_rate='constant',\n",
       "       learning_rate_init=0.001, max_iter=10000, momentum=0.9,\n",
       "       nesterovs_momentum=True, power_t=0.5, random_state=65, shuffle=True,\n",
       "       solver='sgd', tol=0.0001, validation_fraction=0.1, verbose=False,\n",
       "       warm_start=False),\n",
       "       fit_params={}, iid=True, n_jobs=1,\n",
       "       param_grid={'learning_rate_init': [0.001, 0.01, 0.1, 1.0], 'momentum': array([ 0.1,  0.2,  0.3,  0.4,  0.5,  0.6,  0.7,  0.8,  0.9])},\n",
       "       pre_dispatch='2*n_jobs', refit=True, return_train_score=True,\n",
       "       scoring=None, verbose=0)"
      ]
     },
     "execution_count": 47,
     "metadata": {},
     "output_type": "execute_result"
    }
   ],
   "source": [
    "param_grid = {\"momentum\": np.arange(0.1,1,0.1),\n",
    "              \"learning_rate_init\": [.001, .01, 0.1, 1.],\n",
    "              }\n",
    "\n",
    "ann_gs = GridSearchCV(MLPClassifier(hidden_layer_sizes=(22,),solver='sgd',max_iter=10000,early_stopping=True,\n",
    "                                   random_state=65),\n",
    "                       param_grid=param_grid, cv=10)\n",
    "\n",
    "ann_gs.fit(train_X, train_Y)"
   ]
  },
  {
   "cell_type": "code",
   "execution_count": 48,
   "metadata": {
    "collapsed": false
   },
   "outputs": [
    {
     "data": {
      "text/plain": [
       "MLPClassifier(activation='relu', alpha=0.0001, batch_size='auto', beta_1=0.9,\n",
       "       beta_2=0.999, early_stopping=True, epsilon=1e-08,\n",
       "       hidden_layer_sizes=(22,), learning_rate='constant',\n",
       "       learning_rate_init=1.0, max_iter=10000,\n",
       "       momentum=0.80000000000000004, nesterovs_momentum=True, power_t=0.5,\n",
       "       random_state=65, shuffle=True, solver='sgd', tol=0.0001,\n",
       "       validation_fraction=0.1, verbose=False, warm_start=False)"
      ]
     },
     "execution_count": 48,
     "metadata": {},
     "output_type": "execute_result"
    }
   ],
   "source": [
    "ann_gs.best_estimator_"
   ]
  },
  {
   "cell_type": "code",
   "execution_count": 49,
   "metadata": {
    "collapsed": false
   },
   "outputs": [
    {
     "data": {
      "text/plain": [
       "0.92105263157894735"
      ]
     },
     "execution_count": 49,
     "metadata": {},
     "output_type": "execute_result"
    }
   ],
   "source": [
    "mlp_final_model = ann_gs.best_estimator_\n",
    "test_Y_predict = mlp_final_model.fit(train_X, train_Y).predict(test_X)\n",
    "accuracy_score(test_Y, test_Y_predict)"
   ]
  },
  {
   "cell_type": "markdown",
   "metadata": {
    "collapsed": true
   },
   "source": [
    "### a sample run"
   ]
  },
  {
   "cell_type": "code",
   "execution_count": 120,
   "metadata": {
    "collapsed": false
   },
   "outputs": [
    {
     "name": "stdout",
     "output_type": "stream",
     "text": [
      "train acc:  0.993406593407\n",
      "test acc:  0.947368421053\n",
      "train time:  0.374462127686\n",
      "test time:  0.00040602684021\n"
     ]
    }
   ],
   "source": [
    "#clf = MLPClassifier(hidden_layer_sizes=(22,),learning_rate_init=0.001,\n",
    "#                    max_iter=10000)\n",
    "mlp_temp_model = MLPClassifier(hidden_layer_sizes=(22,),solver='sgd',learning_rate_init=1, \n",
    "                               momentum=0.8, max_iter=10000)\n",
    "start = timeit.default_timer()\n",
    "clf = clf.fit(train_X, train_Y)\n",
    "stop = timeit.default_timer()\n",
    "train_time = stop - start\n",
    "\n",
    "# train\n",
    "train_Y_predict = clf.predict(train_X)\n",
    "train_acc = accuracy_score(train_Y, train_Y_predict)\n",
    "\n",
    "# test\n",
    "start = timeit.default_timer()\n",
    "test_Y_predict = clf.predict(test_X)\n",
    "stop = timeit.default_timer()\n",
    "test_time = stop - start\n",
    "test_acc = accuracy_score(test_Y, test_Y_predict)\n",
    "\n",
    "# print result\n",
    "print 'train acc: ', train_acc\n",
    "print 'test acc: ', test_acc\n",
    "print 'train time: ', train_time\n",
    "print 'test time: ', test_time"
   ]
  }
 ],
 "metadata": {
  "anaconda-cloud": {},
  "kernelspec": {
   "display_name": "Python [default]",
   "language": "python",
   "name": "python2"
  },
  "language_info": {
   "codemirror_mode": {
    "name": "ipython",
    "version": 2
   },
   "file_extension": ".py",
   "mimetype": "text/x-python",
   "name": "python",
   "nbconvert_exporter": "python",
   "pygments_lexer": "ipython2",
   "version": "2.7.12"
  }
 },
 "nbformat": 4,
 "nbformat_minor": 1
}
