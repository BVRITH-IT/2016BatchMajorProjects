{
  "nbformat": 4,
  "nbformat_minor": 0,
  "metadata": {
    "kernelspec": {
      "display_name": "Python 3",
      "language": "python",
      "name": "python3"
    },
    "language_info": {
      "codemirror_mode": {
        "name": "ipython",
        "version": 3
      },
      "file_extension": ".py",
      "mimetype": "text/x-python",
      "name": "python",
      "nbconvert_exporter": "python",
      "pygments_lexer": "ipython3",
      "version": "3.7.4"
    },
    "colab": {
      "name": "BiLSTM.ipynb",
      "provenance": [],
      "collapsed_sections": [],
      "toc_visible": true
    }
  },
  "cells": [
    {
      "cell_type": "code",
      "metadata": {
        "id": "K-AaCksPPDOm",
        "colab_type": "code",
        "outputId": "6bc65142-3cd2-4cd0-faec-b9daa15efe80",
        "colab": {
          "base_uri": "https://localhost:8080/",
          "height": 34
        }
      },
      "source": [
        "from google.colab import drive\n",
        "drive.mount('/content/drive')\n"
      ],
      "execution_count": 105,
      "outputs": [
        {
          "output_type": "stream",
          "text": [
            "Drive already mounted at /content/drive; to attempt to forcibly remount, call drive.mount(\"/content/drive\", force_remount=True).\n"
          ],
          "name": "stdout"
        }
      ]
    },
    {
      "cell_type": "code",
      "metadata": {
        "id": "N1sC7B2cOuxM",
        "colab_type": "code",
        "colab": {}
      },
      "source": [
        "import pandas as pd\n",
        "from nltk.corpus import stopwords\n",
        "\n",
        "import numpy as np\n",
        "from keras.preprocessing.sequence import pad_sequences\n",
        "import tensorflow as tf\n",
        "import keras.backend as K\n",
        "from keras.preprocessing.text import Tokenizer, text_to_word_sequence\n",
        "from keras.layers import GRU, LSTM, Bidirectional, Conv1D\n",
        "import re"
      ],
      "execution_count": 0,
      "outputs": []
    },
    {
      "cell_type": "code",
      "metadata": {
        "id": "03ohyKF-QwR3",
        "colab_type": "code",
        "colab": {
          "base_uri": "https://localhost:8080/",
          "height": 50
        },
        "outputId": "28f9d4d5-35c1-4a28-c683-d598109e71d9"
      },
      "source": [
        "import nltk\n",
        "nltk.download(\"stopwords\")\n",
        "stop = stopwords.words('english')"
      ],
      "execution_count": 107,
      "outputs": [
        {
          "output_type": "stream",
          "text": [
            "[nltk_data] Downloading package stopwords to /root/nltk_data...\n",
            "[nltk_data]   Package stopwords is already up-to-date!\n"
          ],
          "name": "stdout"
        }
      ]
    },
    {
      "cell_type": "code",
      "metadata": {
        "id": "b87UhxEmQxJq",
        "colab_type": "code",
        "colab": {}
      },
      "source": [
        "\n",
        "def clean(text, remove_stopwords=True, stem_words=True):\n",
        "    text = str(text)\n",
        "    text = text.lower()\n",
        "    # Optionally, remove stop words\n",
        "    if remove_stopwords:\n",
        "        stops = set(stopwords.words(\"english\"))\n",
        "        text = [w for w in text.split() if not w in stops]\n",
        "        text = \" \".join(text)\n",
        "    # Clean the text\n",
        "    text = re.sub(r\"[^A-Za-z0-9,.\\/'\\\"]\", \" \", text)\n",
        "    text = re.sub(r\"[0-9]\",\" \", text )\n",
        "    text = re.sub(r'http[s]?://\\S+', '<URL>', text)\n",
        "    text = re.sub(r\".aspx\",\" \", text)\n",
        "    text = re.sub(r\"xap\",\"silverlight application package \", text)\n",
        "    text = re.sub(r\"v=vs.105\", \" \", text);\n",
        "    text = re.sub(r\"appreslib.dll.xxxx.mui\",\" \", text)\n",
        "    #text = re.sub(r\"ru\",\"russia\", text)\n",
        "    #text = re.sub(r\"ru-ru\",\"russia\",text)\n",
        "    #text = re.sub(r\"de\",\"german\", text)\n",
        "    #text = re.sub(r\"de-de\",\"german\", text)\n",
        "    text = re.sub(r\"wich\",\"which\",text)\n",
        "    text = re.sub(r\"what's\", \"what is \", text)\n",
        "    text = re.sub(r\"supportedcultures\", \"supported cultures\", text)\n",
        "    text = re.sub(r\"calenderidentifier\", \"calender identifier\", text)\n",
        "    text = re.sub(r\"futureaccesslist\", \"future access list\", text)\n",
        "    text = re.sub(r\"wp7\", \"windows phone\", text)\n",
        "    text = re.sub(r\"wp8\", \"windows phone\", text)\n",
        "    text = re.sub(r\"'re\", \" are \", text)\n",
        "    text = re.sub(r\"isn't\", \" is not \", text)\n",
        "    text = re.sub(r\"doesn't\", \" does not \", text)\n",
        "    text = re.sub(r\"i'm\", \" i am \", text)\n",
        "    text = re.sub(r\"there's\", \"there is \", text)\n",
        "    text = re.sub(r\"can't\", \" can not \", text)\n",
        "    text = re.sub(r\"webview\", \"web view \", text)\n",
        "    text = re.sub(r\"mediaplayer\", \"media player \", text)\n",
        "    text = re.sub(r\"onedrive\", \"one drive \", text)\n",
        "    text = re.sub(r\"contentdialog\", \"content dialog \", text)\n",
        "    text = re.sub(r\"mapcontrol\", \"map control \", text)\n",
        "    text = re.sub(r\"applicationmodel\", \"application model \", text)\n",
        "    text = re.sub(r\"it's\", \" it is \", text)\n",
        "    text = re.sub(r\"\\'ve\", \" have \", text)\n",
        "    text = re.sub(r\"\\'d\", \" would \", text)\n",
        "    text = re.sub(r\"don't\", \"do not\", text)\n",
        "    text = re.sub(r\"\\'ll\", \" will \", text)\n",
        "    \n",
        "    text = re.sub(r\"shouldn't\", \" should not \", text)\n",
        "    text = re.sub(r\"didn't\", \" did not \", text)\n",
        "    text = re.sub(r\"couldn't\", \"could not \", text)\n",
        "    text = re.sub(r\"don't\", \"do not\", text)\n",
        "    text = re.sub(r\"autoscaling\", \"auto scaling\", text)\n",
        "    text = re.sub(r\"abillity\", \"ability \", text)\n",
        "    text = re.sub(r\"photocamera\", \"photo camera \", text)\n",
        "    text = re.sub(r\"standardtiledata\", \"standard tile data \", text)\n",
        "    text = re.sub(r\"batterysaver\", \"battery saver\", text)\n",
        "    \n",
        "    text = re.sub(r\"menuitems\", \"menu items\", text)\n",
        "    text = re.sub(r\"keyup\", \" key up \", text)\n",
        "    text = re.sub(r\"manualy\", \"manually\", text)\n",
        "    text = re.sub(r\"samplerate\", \"sample rate\", text)\n",
        "    text = re.sub(r\"applicationid\", \"application id\", text)\n",
        "    text = re.sub(r\"isolatedstoragesettings\", \"isolated storage settings \", text)\n",
        "    text = re.sub(r\"funtionality\", \"functionality \", text)\n",
        "    text = re.sub(r\"selectedindex\", \"selected index\", text)\n",
        "    text = re.sub(r\"multiscaleimage\", \"multiscale image\", text)\n",
        "    \n",
        "    text = re.sub(r\"isolatedstorage\", \"isolated storage \", text)\n",
        "    text = re.sub(r\"andriod\", \"android \", text)\n",
        "    text = re.sub(r\"don't\", \"do not\", text)\n",
        "    text = re.sub(r\"autoscaling\", \"auto scaling\", text)\n",
        "    text = re.sub(r\"xmlnsdefinitionattribute\", \" xml ns definition attribute \", text)\n",
        "    text = re.sub(r\"scheduledtoastnotification\", \"scheduled toast notification\", text)\n",
        "    text = re.sub(r\"wrapgrid\", \"wrap grid\", text)\n",
        "    text = re.sub(r\"stackpanel\", \"stack panel\", text)\n",
        "    text = re.sub(r\"reader'\", \"reader\", text)\n",
        "    text = re.sub(r\"designcapacityinmilliwatthours\", \"design capacity in milli watt hours \", text)\n",
        "    \n",
        "    text = re.sub(r\"designcapacityinmilliwatthours\", \"full charge capacity in milli watt hours\", text)\n",
        "    text = re.sub(r\"featureset\", \"feature set\", text)\n",
        "    text = re.sub(r\"currentappsimulator\", \"current app simulator\", text)\n",
        "    text = re.sub(r\"'old'\", \"old \", text)\n",
        "    text = re.sub(r\"carrige\", \"carriage \", text)\n",
        "    text = re.sub(r\"screenmirroring\", \"screen mirroring\", text)\n",
        "    text = re.sub(r\"loggingchannel\", \"logging channel\", text)\n",
        "    \n",
        "    text = re.sub(r\"actualheight\",\"actual height\", text)\n",
        "    text = re.sub(r\"devicetype\",\"device type\",text)\n",
        "    text = re.sub(r\"uisplitviewcontroller\",\"user interface split view controller\", text)\n",
        "    text = re.sub(r\"phonecallorigin\",\"phone call origin\", text)\n",
        "    text = re.sub(r\"onlineidauthenticator\",\"online id authenticator\", text)\n",
        "    text = re.sub(r\"credentialprompttype\",\"credential prompt type\",text)\n",
        "    text = re.sub(r\"retypecredentials\",\"retype credentials\", text)\n",
        "    text = re.sub(r\"backgroundtask\",\"background task\", text)    \n",
        "    text = re.sub(r\"scheduledtask\",\"scheduled task\", text)\n",
        "    text = re.sub(r\"contactstore\",\"contact store\",text)\n",
        "    text = re.sub(r\"resourcedictionary\",\"resource dictionary\",text)\n",
        "    text = re.sub(r\"medialibraryextensions\",\"media library extensions\", text)\n",
        "    text = re.sub(r\"navigationservice\",\"navigation service\",text)\n",
        "    text = re.sub(r\"fontfamily\",\"font family\", text)\n",
        "    text = re.sub(r\"frameworkelement\",\"framework element\", text)    \n",
        "    \n",
        "    text = re.sub(r\"connectioninterval\",\" connection interval\", text)\n",
        "    text = re.sub(r\"backgroundtransferrequest\",\"background transfer request\",text)\n",
        "    text = re.sub(r\"datasource\",\"data source\", text)\n",
        "    text = re.sub(r\"swipecontrol\",\"swipe control\", text)\n",
        "    \n",
        "    \n",
        "    \n",
        "    text = re.sub(r\"listview\", \"list view\", text)\n",
        "    text = re.sub(r\"windowsphone\",\"windows phone\", text )\n",
        "    text = re.sub(r\"uservoice\", \"user voice\", text)\n",
        "    text = re.sub(r\"treeview\",\"tree view\", text)\n",
        "    text = re.sub(r\"datatemplate\",\"data template \", text)\n",
        "    text = re.sub(r\"scrollbar\", \"scroll bar\", text);\n",
        "    text = re.sub(r\"ainputpane\",\"input pane\", text)\n",
        "    text = re.sub(r\"splitview\",\"split view\", text)\n",
        "    text = re.sub(r\"lockscreen\",\"lock screen\",text)\n",
        "    text = re.sub(r\"suggestedstartlocation\",\"suggested start location\", text)\n",
        "    text = re.sub(r\"combobox\",\"combo box\", text)\n",
        "    text = re.sub(r\"scrollviewer\",\"scroll viewer\",text)\n",
        "    text = re.sub(r\"calendarview\", \"calendar view \", text)\n",
        "    text = re.sub(r\"commandbar\", \"command bar\", text)\n",
        "    text = re.sub(r\"mediaelement\", \"media element\", text)\n",
        "    text = re.sub(r\"gridview\", \"grid view\", text)\n",
        "    text = re.sub(r\"firstname\", \"first name\", text)\n",
        "    text = re.sub(r\"richeditbox\", \"rich edit box\", text)\n",
        "    text = re.sub(r\"winappdriver\", \" windows application driver \", text)\n",
        "    text = re.sub(r\"itemtemplate\", \"item template \", text)\n",
        "    text = re.sub(r\"applicationbar\", \"application bar \", text)\n",
        "    text = re.sub(r\"pixelwidth\", \"pixel width\", text)\n",
        "    text = re.sub(r\"pixelheight\", \"pixel height \", text)\n",
        "    text = re.sub(r\"webservice\", \" web service \", text)\n",
        "    text = re.sub(r\"dependencyproperty\", \"dependency property \", text)\n",
        "    text = re.sub(r\"storagefolder\", \"storage folder \", text)\n",
        "    \n",
        "    text = re.sub(r\"onedrive\", \"one drive \", text)\n",
        "    text = re.sub(r\"contentdialog\", \"content dialog \", text)\n",
        "    text = re.sub(r\"mapcontrol\", \"map control \", text)\n",
        "    text = re.sub(r\"applicationmodel\", \"application model \", text)\n",
        "    text = re.sub(\"it's\", \" it is \", text)\n",
        "    text = re.sub(r\"\\'ve\", \" have \", text)\n",
        "    text = re.sub(r\"\\'d\", \" would \", text)\n",
        "    text = re.sub(r\"don't\", \"do not\", text)\n",
        "    text = re.sub(r\"\\'ll\", \" will \", text)\n",
        "    \n",
        "    text = re.sub(r\"shouldn't\", \" should not \", text)\n",
        "    text = re.sub(r\"didn't\", \" did not \", text)\n",
        "    text = re.sub(r\"couldn't\", \"could not \", text)\n",
        "    text = re.sub(r\"don't\", \"do not\", text)\n",
        "    text = re.sub(r\"autoscaling\", \"auto scaling\", text)\n",
        "    text = re.sub(r\"abillity\", \"ability \", text)\n",
        "    text = re.sub(r\"photocamera\", \"photo camera \", text)\n",
        "    text = re.sub(r\"standardtiledata\", \"standard tile data \", text)\n",
        "    text = re.sub(r\"batterysaver\", \"battery saver\", text)\n",
        "    \n",
        "    text = re.sub(r\"menuitems\", \"menu items\", text)\n",
        "    text = re.sub(r\"keyup\", \" key up \", text)\n",
        "    text = re.sub(r\"manualy\", \"manually\", text)\n",
        "    text = re.sub(r\"samplerate\", \"sample rate\", text)\n",
        "    text = re.sub(r\"applicationid\", \"application id\", text)\n",
        "    text = re.sub(r\"isolatedstoragesettings\", \"isolated storage settings \", text)\n",
        "    text = re.sub(r\"funtionality\", \"functionality \", text)\n",
        "    text = re.sub(r\"selectedindex\", \"selected index\", text)\n",
        "    text = re.sub(r\"multiscaleimage\", \"multiscale image\", text)\n",
        "    \n",
        "    text = re.sub(r\"isolatedstorage\", \"isolated storage \", text)\n",
        "    text = re.sub(r\"andriod\", \"android \", text)\n",
        "    text = re.sub(r\"don't\", \"do not\", text)\n",
        "    text = re.sub(r\"autoscaling\", \"auto scaling\", text)\n",
        "    text = re.sub(r\"xmlnsdefinitionattribute\", \" xml ns definition attribute \", text)\n",
        "    text = re.sub(r\"scheduledtoastnotification\", \"scheduled toast notification\", text)\n",
        "    text = re.sub(r\"wrapgrid\", \"wrap grid\", text)\n",
        "    text = re.sub(r\"stackpanel\", \"stack panel\", text)\n",
        "    text = re.sub(r\"reader'\", \"reader\", text)\n",
        "    text = re.sub(r\"designcapacityinmilliwatthours\", \"design capacity in milli watt hours \", text)\n",
        "    text = re.sub(r\"featureset\", \"feature set\", text)\n",
        "    text = re.sub(r\"currentappsimulator\", \"current app simulator\", text)\n",
        "    text = re.sub(r\"'old'\", \"old \", text)\n",
        "    text = re.sub(r\"carrige\", \"carriage \", text)\n",
        "    text = re.sub(r\"screenmirroring\", \"screen mirroring\", text)\n",
        "    text = re.sub(r\"loggingchannel\", \"logging channel\", text)\n",
        "    \n",
        "    text = re.sub(r\"actualheight\",\"actual height\", text)\n",
        "    text = re.sub(r\"devicetype\",\"device type\",text)\n",
        "    text = re.sub(r\"uisplitviewcontroller\",\"user interface split view controller\", text)\n",
        "    text = re.sub(r\"phonecallorigin\",\"phone call origin\", text)\n",
        "    text = re.sub(r\"onlineidauthenticator\",\"online id authenticator\", text)\n",
        "    text = re.sub(r\"credentialprompttype\",\"credential prompt type\",text)\n",
        "    text = re.sub(r\"retypecredentials\",\"retype credentials\", text)\n",
        "    text = re.sub(r\"backgroundtask\",\"background task\", text)    \n",
        "    text = re.sub(r\"scheduledtask\",\"scheduled task\", text)\n",
        "    text = re.sub(r\"contactstore\",\"contact store\",text)\n",
        "    \n",
        "    \n",
        "    text = re.sub(r\"haven't\",\"have not\",text)\n",
        "    text = re.sub(r\"stackoverflow\",\"stack overflow\", text)\n",
        "    text = re.sub(r\"hasn't\",\"has not\",text)\n",
        "    text = re.sub(r\"async\",\" asynchronous \", text)\n",
        "    text = re.sub(r\"wouldn't\",\"would not\", text)    \n",
        "    text = re.sub(r\"visualstudio\",\" visual studio\", text)\n",
        "    text = re.sub(r\"let's\",\"let us\",text)\n",
        "    text = re.sub(r\"that's\",\"that is\", text)\n",
        "    text = re.sub(r\"aren't\",\"are not\", text)\n",
        "    text = re.sub(r\"(\\d+)(k)\", r\"\\g<1>000\", text)\n",
        "    text = re.sub(r\"e - mail\", \"email\", text)\n",
        "    text = re.sub(r\"en-us\", \"english\", text)\n",
        "    text = re.sub(r\"\\s{2,}\", \" \", text)\n",
        "    return(text)"
      ],
      "execution_count": 0,
      "outputs": []
    },
    {
      "cell_type": "code",
      "metadata": {
        "id": "zidI80AvOuxZ",
        "colab_type": "code",
        "colab": {}
      },
      "source": [
        "from numpy import array\n",
        "df = pd.read_csv(\"/content/drive/My Drive/train - train.csv\")\n",
        "#df['review'] = df['review'].str.replace('[^a-zA-Z.\\ ]', '')\n",
        "docs = df['review'].str.lower()\n",
        "labels = array(df['label'])"
      ],
      "execution_count": 0,
      "outputs": []
    },
    {
      "cell_type": "code",
      "metadata": {
        "id": "VvXuu3UGRDhe",
        "colab_type": "code",
        "colab": {}
      },
      "source": [
        "docs = df.apply(lambda x: clean(x.review), axis=1)"
      ],
      "execution_count": 0,
      "outputs": []
    },
    {
      "cell_type": "code",
      "metadata": {
        "id": "9-t8NJvKOuxr",
        "colab_type": "code",
        "colab": {}
      },
      "source": [
        "\n",
        "max_features = 1\n",
        "tokenizer = Tokenizer(oov_token=None)\n",
        "tokenizer.fit_on_texts(docs)\n",
        "encoded_docs = tokenizer.texts_to_sequences(docs)\n",
        "pdocs = pad_sequences(encoded_docs, maxlen=100,padding=\"post\")\n",
        "word_index = tokenizer.word_index\n",
        "\n"
      ],
      "execution_count": 0,
      "outputs": []
    },
    {
      "cell_type": "code",
      "metadata": {
        "id": "SihCOidZOuxw",
        "colab_type": "code",
        "outputId": "4565800b-59b2-4a1a-84e3-ff8b2c6ce344",
        "colab": {
          "base_uri": "https://localhost:8080/",
          "height": 34
        }
      },
      "source": [
        "embeddings_index = {}\n",
        "f = open('/content/drive/My Drive/glove.6B.100d.txt', encoding=\"utf8\")\n",
        "for line in f:\n",
        "    try:\n",
        "        values = line.split()\n",
        "        word = values[0]\n",
        "        coefs = np.asarray(values[1:], dtype='float32')\n",
        "        embeddings_index[word] = coefs\n",
        "    except:\n",
        "        print(word)\n",
        "        pass\n",
        "f.close()\n",
        "embed_size = 100\n",
        "embedding_matrix = np.zeros((len(word_index) + 1, embed_size))\n",
        "absent =[]\n",
        "absent_words = 0\n",
        "for word, i in word_index.items():\n",
        "    embedding_vector = embeddings_index.get(word)\n",
        "    if embedding_vector is not None:\n",
        "        embedding_matrix[i] = embedding_vector\n",
        "    else:\n",
        "        absent_words += 1\n",
        "        absent.append(word)\n",
        "print('Total absent words are', absent_words, 'which is', \"%0.2f\" % (absent_words * 100 / len(word_index)), '% of total words')"
      ],
      "execution_count": 136,
      "outputs": [
        {
          "output_type": "stream",
          "text": [
            "Total absent words are 2887 which is 29.90 % of total words\n"
          ],
          "name": "stdout"
        }
      ]
    },
    {
      "cell_type": "code",
      "metadata": {
        "id": "Cqn6DrrqOux1",
        "colab_type": "code",
        "colab": {}
      },
      "source": [
        "from keras.layers import Embedding\n",
        "vocab_size = len(tokenizer.word_index)+1\n",
        "e = Embedding(vocab_size, 100, weights=[embedding_matrix],input_length=100, trainable=True)"
      ],
      "execution_count": 0,
      "outputs": []
    },
    {
      "cell_type": "code",
      "metadata": {
        "id": "GVn0phrj-AS2",
        "colab_type": "code",
        "colab": {}
      },
      "source": [
        "from keras import initializers,regularizers,constraints\n",
        "\n",
        "def dot_product(x, kernel):\n",
        "    if K.backend() == 'tensorflow':\n",
        "        return K.squeeze(K.dot(x, K.expand_dims(kernel)), axis=-1)\n",
        "    else:\n",
        "        return K.dot(x, kernel)\n",
        "    \n",
        "\n",
        "class AttentionWithContext(Layer):\n",
        "    def __init__(self,\n",
        "                 W_regularizer=None, u_regularizer=None, b_regularizer=None,\n",
        "                 W_constraint=None, u_constraint=None, b_constraint=None,\n",
        "                 bias=True, **kwargs):\n",
        "\n",
        "        self.supports_masking = True\n",
        "        self.init = initializers.get('glorot_uniform')\n",
        "\n",
        "        self.W_regularizer = regularizers.get(W_regularizer)\n",
        "        self.u_regularizer = regularizers.get(u_regularizer)\n",
        "        self.b_regularizer = regularizers.get(b_regularizer)\n",
        "\n",
        "        self.W_constraint = constraints.get(W_constraint)\n",
        "        self.u_constraint = constraints.get(u_constraint)\n",
        "        self.b_constraint = constraints.get(b_constraint)\n",
        "\n",
        "        self.bias = bias\n",
        "        super(AttentionWithContext, self).__init__(**kwargs)\n",
        "\n",
        "    def build(self, input_shape):\n",
        "        assert len(input_shape) == 3\n",
        "\n",
        "        self.W = self.add_weight((input_shape[-1], input_shape[-1],),\n",
        "                                 initializer=self.init,\n",
        "                                 name='{}_W'.format(self.name),\n",
        "                                 regularizer=self.W_regularizer,\n",
        "                                 constraint=self.W_constraint)\n",
        "        if self.bias:\n",
        "            self.b = self.add_weight((input_shape[-1],),\n",
        "                                     initializer='zero',\n",
        "                                     name='{}_b'.format(self.name),\n",
        "                                     regularizer=self.b_regularizer,\n",
        "                                     constraint=self.b_constraint)\n",
        "\n",
        "        self.u = self.add_weight((input_shape[-1],),\n",
        "                                 initializer=self.init,\n",
        "                                 name='{}_u'.format(self.name),\n",
        "                                 regularizer=self.u_regularizer,\n",
        "                                 constraint=self.u_constraint)\n",
        "\n",
        "        super(AttentionWithContext, self).build(input_shape)\n",
        "\n",
        "    def compute_mask(self, input, input_mask=None):\n",
        "        return None\n",
        "\n",
        "    def call(self, x, mask=None):\n",
        "        uit = dot_product(x, self.W)\n",
        "\n",
        "        if self.bias:\n",
        "            uit += self.b\n",
        "\n",
        "        uit = K.tanh(uit)\n",
        "        ait = dot_product(uit, self.u)\n",
        "\n",
        "        a = K.exp(ait)\n",
        "\n",
        "        if mask is not None:\n",
        "            a *= K.cast(mask, K.floatx())\n",
        "\n",
        "        a /= K.cast(K.sum(a, axis=1, keepdims=True) + K.epsilon(), K.floatx())\n",
        "\n",
        "        a = K.expand_dims(a)\n",
        "        weighted_input = x * a\n",
        "        return K.sum(weighted_input, axis=1)\n",
        "\n",
        "    def compute_output_shape(self, input_shape):\n",
        "        return input_shape[0], input_shape[-1]"
      ],
      "execution_count": 0,
      "outputs": []
    },
    {
      "cell_type": "code",
      "metadata": {
        "id": "oR9bCsVYOux8",
        "colab_type": "code",
        "outputId": "0577860d-a02d-460f-ae69-86d766175a54",
        "colab": {
          "base_uri": "https://localhost:8080/",
          "height": 588
        }
      },
      "source": [
        "from keras.models import Model\n",
        "from keras.layers import *\n",
        "from keras.preprocessing.sequence import pad_sequences\n",
        "from keras.regularizers import l2 as l2_reg\n",
        "\n",
        "def create_models():\n",
        "    maxlen = 100\n",
        "    inp = Input((None,))\n",
        "    x = e(inp)\n",
        "    x = Bidirectional(LSTM(128, return_sequences=True))(x)\n",
        "    x = Bidirectional(LSTM(64, return_sequences=True))(x)\n",
        "    x = Dropout(0.4)(x)\n",
        "    x = AttentionWithContext()(x)\n",
        "    x = Dense(64, activation=\"relu\")(x)\n",
        "    x = Dense(1, activation=\"sigmoid\")(x)\n",
        "    model = Model(inputs=inp, outputs=x)\n",
        "    model.compile(loss='binary_crossentropy', optimizer='adam', metrics=['accuracy'])\n",
        "    return model\n",
        "\n",
        "model = create_models()\n",
        "print(model.summary())\n",
        "\n",
        "model.fit(pdocs, np.array(labels),validation_split=0.1, epochs = 3,batch_size=100)\n",
        "\n",
        "#model.save(\"m.hdf5\")\n",
        "loss, accuracy = model.evaluate(pdocs,labels , verbose=1)\n",
        "print('Training Accuracy is {}'.format(accuracy*100))"
      ],
      "execution_count": 139,
      "outputs": [
        {
          "output_type": "stream",
          "text": [
            "Model: \"model_6\"\n",
            "_________________________________________________________________\n",
            "Layer (type)                 Output Shape              Param #   \n",
            "=================================================================\n",
            "input_7 (InputLayer)         (None, None)              0         \n",
            "_________________________________________________________________\n",
            "embedding_4 (Embedding)      (None, 100, 100)          965700    \n",
            "_________________________________________________________________\n",
            "bidirectional_13 (Bidirectio (None, 100, 256)          234496    \n",
            "_________________________________________________________________\n",
            "bidirectional_14 (Bidirectio (None, 100, 128)          164352    \n",
            "_________________________________________________________________\n",
            "dropout_2 (Dropout)          (None, 100, 128)          0         \n",
            "_________________________________________________________________\n",
            "attention_with_context_6 (At (None, 128)               16640     \n",
            "_________________________________________________________________\n",
            "dense_11 (Dense)             (None, 64)                8256      \n",
            "_________________________________________________________________\n",
            "dense_12 (Dense)             (None, 1)                 65        \n",
            "=================================================================\n",
            "Total params: 1,389,509\n",
            "Trainable params: 1,389,509\n",
            "Non-trainable params: 0\n",
            "_________________________________________________________________\n",
            "None\n",
            "Train on 7619 samples, validate on 847 samples\n",
            "Epoch 1/3\n",
            "7619/7619 [==============================] - 89s 12ms/step - loss: 0.4687 - acc: 0.7959 - val_loss: 0.4486 - val_acc: 0.7993\n",
            "Epoch 2/3\n",
            "7619/7619 [==============================] - 82s 11ms/step - loss: 0.3633 - acc: 0.8466 - val_loss: 0.4480 - val_acc: 0.7957\n",
            "Epoch 3/3\n",
            "7619/7619 [==============================] - 83s 11ms/step - loss: 0.3039 - acc: 0.8699 - val_loss: 0.4054 - val_acc: 0.8205\n",
            "8466/8466 [==============================] - 26s 3ms/step\n",
            "Training Accuracy is 89.4401133947555\n"
          ],
          "name": "stdout"
        }
      ]
    },
    {
      "cell_type": "code",
      "metadata": {
        "id": "wVSAjeFijWbp",
        "colab_type": "code",
        "colab": {}
      },
      "source": [
        "class_idx = np.argmax(labels[0])\n",
        "class_output = model.output[:, class_idx]\n",
        "last_layer = model.get_layer(\"bidirectional_12\")"
      ],
      "execution_count": 0,
      "outputs": []
    },
    {
      "cell_type": "code",
      "metadata": {
        "id": "ebefoccwUR7U",
        "colab_type": "code",
        "colab": {}
      },
      "source": [
        "\n",
        "test = pd.read_csv(\"/content/drive/My Drive/Colab Notebooks/test - test.csv\")\n",
        "tokenizer = Tokenizer(oov_token=None)\n",
        "tokenizer.fit_on_texts(test['sentence'])\n",
        "encoded_Testdocs = tokenizer.texts_to_sequences(test['sentence'])\n",
        "Testdocs = pad_sequences(encoded_Testdocs, maxlen=100,padding=\"post\")"
      ],
      "execution_count": 0,
      "outputs": []
    },
    {
      "cell_type": "code",
      "metadata": {
        "id": "aLYSclUCjbKS",
        "colab_type": "code",
        "colab": {}
      },
      "source": [
        "grads = K.gradients(class_output, last_layer.output)[0]\n",
        "pooled_grads = K.mean(grads)\n",
        "iterate = K.function([model.input], [pooled_grads, last_layer.output[0]])\n",
        "pooled_grads_value, lstm_layer_output_value = iterate([Testdocs])"
      ],
      "execution_count": 0,
      "outputs": []
    },
    {
      "cell_type": "code",
      "metadata": {
        "id": "C74xhzvEAju9",
        "colab_type": "code",
        "colab": {}
      },
      "source": [
        "heatmap = np.mean(lstm_layer_output_value, axis=0)\n",
        "heatmap = np.maximum(heatmap,0)\n",
        "heatmap /= np.max(heatmap)#normalise values in the prediction"
      ],
      "execution_count": 0,
      "outputs": []
    },
    {
      "cell_type": "code",
      "metadata": {
        "id": "ovBA1dyMCuVO",
        "colab_type": "code",
        "colab": {}
      },
      "source": [
        "norm_len = 100/last_layer.output_shape[1] # find the ratio of the text vs the lstm layer length"
      ],
      "execution_count": 0,
      "outputs": []
    },
    {
      "cell_type": "code",
      "metadata": {
        "id": "2DjacF7sCy35",
        "colab_type": "code",
        "outputId": "67bd7384-27b7-421f-a2c4-61fffe8d7474",
        "colab": {
          "base_uri": "https://localhost:8080/",
          "height": 34
        }
      },
      "source": [
        "\n",
        "import math\n",
        "from IPython.display import HTML\n",
        "html = \"\"\n",
        "\n",
        "for j,i in enumerate(tokenizer.sequences_to_texts(Testdocs)[3].split()):\n",
        "  html += \"<span style='background-color:rgba({},0,150,{})'>{} </span>\".format(heatmap[math.floor(j/norm_len)]*255,heatmap[math.floor(j/norm_len)]-0.3,i)\n",
        "HTML(html)"
      ],
      "execution_count": 131,
      "outputs": [
        {
          "output_type": "execute_result",
          "data": {
            "text/html": [
              "<span style='background-color:rgba(0.0,0,150,-0.3)'>allow </span><span style='background-color:rgba(118.60715478658676,0,150,0.16512609720230104)'>rearranging </span><span style='background-color:rgba(0.0,0,150,-0.3)'>if </span><span style='background-color:rgba(140.20870685577393,0,150,0.24983806610107423)'>the </span><span style='background-color:rgba(0.0,0,150,-0.3)'>user </span><span style='background-color:rgba(0.0,0,150,-0.3)'>wants </span><span style='background-color:rgba(0.0,0,150,-0.3)'>to </span><span style='background-color:rgba(0.0,0,150,-0.3)'>change </span><span style='background-color:rgba(179.41035211086273,0,150,0.4035700082778931)'>them </span>"
            ],
            "text/plain": [
              "<IPython.core.display.HTML object>"
            ]
          },
          "metadata": {
            "tags": []
          },
          "execution_count": 131
        }
      ]
    },
    {
      "cell_type": "code",
      "metadata": {
        "id": "yAIjNP4y7dO_",
        "colab_type": "code",
        "outputId": "dff8aaaa-bd44-4b53-9a15-dc615fd2d807",
        "colab": {
          "base_uri": "https://localhost:8080/",
          "height": 67
        }
      },
      "source": [
        "from sklearn.metrics import confusion_matrix, f1_score, precision_score, recall_score, accuracy_score\n",
        "\n",
        "yhat_probs = model.predict(pdocs, verbose=0)\n",
        "yhat_classes = yhat_probs.argmax(axis=-1)\n",
        "yhat_probs = yhat_probs[:,0]\n",
        "yhat_classes = yhat_classes[:850]\n",
        "\n",
        "\n",
        "precision = precision_score(labels[:850], yhat_classes,zero_division=1,average='weighted')\n",
        "print('Precision: %f' % precision)\n",
        "recall = recall_score(labels[:850], yhat_classes,average='weighted')\n",
        "print('Recall: %f' % recall)\n",
        "f1 = f1_score(labels[:850], yhat_classes,average='weighted')\n",
        "print('F1 score: %f' % f1)"
      ],
      "execution_count": 104,
      "outputs": [
        {
          "output_type": "stream",
          "text": [
            "Precision: 0.845009\n",
            "Recall: 0.808235\n",
            "F1 score: 0.722521\n"
          ],
          "name": "stdout"
        }
      ]
    },
    {
      "cell_type": "code",
      "metadata": {
        "id": "u1UFvjY83DB3",
        "colab_type": "code",
        "colab": {}
      },
      "source": [
        ""
      ],
      "execution_count": 0,
      "outputs": []
    }
  ]
}