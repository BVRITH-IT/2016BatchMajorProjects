{
  "nbformat": 4,
  "nbformat_minor": 0,
  "metadata": {
    "colab": {
      "name": "Copy of Attn+lstm.ipynb",
      "provenance": [],
      "collapsed_sections": [],
      "toc_visible": true
    },
    "kernelspec": {
      "display_name": "TensorFlow-GPU",
      "language": "python",
      "name": "laskari"
    },
    "language_info": {
      "codemirror_mode": {
        "name": "ipython",
        "version": 3
      },
      "file_extension": ".py",
      "mimetype": "text/x-python",
      "name": "python",
      "nbconvert_exporter": "python",
      "pygments_lexer": "ipython3",
      "version": "3.7.3"
    }
  },
  "cells": [
    {
      "cell_type": "code",
      "metadata": {
        "id": "u0CmQK2VAxz2",
        "colab_type": "code",
        "colab": {}
      },
      "source": [
        ""
      ],
      "execution_count": 0,
      "outputs": []
    },
    {
      "cell_type": "code",
      "metadata": {
        "id": "IXENuMyjAzYc",
        "colab_type": "code",
        "outputId": "f99fa306-8b3e-4fad-e6e9-341bf1c00009",
        "colab": {
          "base_uri": "https://localhost:8080/",
          "height": 121
        }
      },
      "source": [
        "from google.colab import drive\n",
        "drive.mount('/content/drive')\n"
      ],
      "execution_count": 2,
      "outputs": [
        {
          "output_type": "stream",
          "text": [
            "Go to this URL in a browser: https://accounts.google.com/o/oauth2/auth?client_id=947318989803-6bn6qk8qdgf4n4g3pfee6491hc0brc4i.apps.googleusercontent.com&redirect_uri=urn%3aietf%3awg%3aoauth%3a2.0%3aoob&response_type=code&scope=email%20https%3a%2f%2fwww.googleapis.com%2fauth%2fdocs.test%20https%3a%2f%2fwww.googleapis.com%2fauth%2fdrive%20https%3a%2f%2fwww.googleapis.com%2fauth%2fdrive.photos.readonly%20https%3a%2f%2fwww.googleapis.com%2fauth%2fpeopleapi.readonly\n",
            "\n",
            "Enter your authorization code:\n",
            "··········\n",
            "Mounted at /content/drive\n"
          ],
          "name": "stdout"
        }
      ]
    },
    {
      "cell_type": "code",
      "metadata": {
        "colab_type": "code",
        "id": "N1sC7B2cOuxM",
        "outputId": "29e8df19-7323-4577-c0ff-68955c894715",
        "colab": {
          "base_uri": "https://localhost:8080/",
          "height": 79
        }
      },
      "source": [
        "import pandas as pd\n",
        "from nltk.corpus import stopwords\n",
        "import re\n",
        "import numpy as np\n",
        "from keras.preprocessing.sequence import pad_sequences\n",
        "import tensorflow as tf\n",
        "import keras.backend as K\n",
        "from keras.engine.topology import Layer\n",
        "from keras.preprocessing.text import Tokenizer, text_to_word_sequence\n",
        "from keras.layers import GRU, LSTM, Bidirectional, Conv1D"
      ],
      "execution_count": 3,
      "outputs": [
        {
          "output_type": "stream",
          "text": [
            "Using TensorFlow backend.\n"
          ],
          "name": "stderr"
        },
        {
          "output_type": "display_data",
          "data": {
            "text/html": [
              "<p style=\"color: red;\">\n",
              "The default version of TensorFlow in Colab will soon switch to TensorFlow 2.x.<br>\n",
              "We recommend you <a href=\"https://www.tensorflow.org/guide/migrate\" target=\"_blank\">upgrade</a> now \n",
              "or ensure your notebook will continue to use TensorFlow 1.x via the <code>%tensorflow_version 1.x</code> magic:\n",
              "<a href=\"https://colab.research.google.com/notebooks/tensorflow_version.ipynb\" target=\"_blank\">more info</a>.</p>\n"
            ],
            "text/plain": [
              "<IPython.core.display.HTML object>"
            ]
          },
          "metadata": {
            "tags": []
          }
        }
      ]
    },
    {
      "cell_type": "code",
      "metadata": {
        "id": "GHAjdhjdAnFk",
        "colab_type": "code",
        "outputId": "af157285-876f-44df-c0f0-5170ee9185f2",
        "colab": {
          "base_uri": "https://localhost:8080/",
          "height": 50
        }
      },
      "source": [
        "import nltk\n",
        "nltk.download(\"stopwords\")\n",
        "stop = stopwords.words('english')"
      ],
      "execution_count": 4,
      "outputs": [
        {
          "output_type": "stream",
          "text": [
            "[nltk_data] Downloading package stopwords to /root/nltk_data...\n",
            "[nltk_data]   Unzipping corpora/stopwords.zip.\n"
          ],
          "name": "stdout"
        }
      ]
    },
    {
      "cell_type": "code",
      "metadata": {
        "id": "rj8_-CTIAnFs",
        "colab_type": "code",
        "colab": {}
      },
      "source": [
        "def clean(text, remove_stopwords=True, stem_words=True):\n",
        "    text = str(text)\n",
        "    text = text.lower()\n",
        "    # Optionally, remove stop words\n",
        "    if remove_stopwords:\n",
        "        stops = set(stopwords.words(\"english\"))\n",
        "        text = [w for w in text.split() if not w in stops]\n",
        "        text = \" \".join(text)\n",
        "    # Clean the text\n",
        "    text = re.sub(r\"[^A-Za-z0-9,.\\/'\\\"]\", \" \", text)\n",
        "    text = re.sub(r\"[0-9]\",\" \", text )\n",
        "    text = re.sub(r'http[s]?://\\S+', '<URL>', text)\n",
        "    text = re.sub(r\".aspx\",\" \", text)\n",
        "    text = re.sub(r\"xap\",\"silverlight application package \", text)\n",
        "    text = re.sub(r\"v=vs.105\", \" \", text);\n",
        "    text = re.sub(r\"appreslib.dll.xxxx.mui\",\" \", text)\n",
        "    #text = re.sub(r\"ru\",\"russia\", text)\n",
        "    #text = re.sub(r\"ru-ru\",\"russia\",text)\n",
        "    #text = re.sub(r\"de\",\"german\", text)\n",
        "    #text = re.sub(r\"de-de\",\"german\", text)\n",
        "    text = re.sub(r\"wich\",\"which\",text)\n",
        "    text = re.sub(r\"what's\", \"what is \", text)\n",
        "    text = re.sub(r\"supportedcultures\", \"supported cultures\", text)\n",
        "    text = re.sub(r\"calenderidentifier\", \"calender identifier\", text)\n",
        "    text = re.sub(r\"futureaccesslist\", \"future access list\", text)\n",
        "    text = re.sub(r\"wp7\", \"windows phone\", text)\n",
        "    text = re.sub(r\"wp8\", \"windows phone\", text)\n",
        "    text = re.sub(r\"'re\", \" are \", text)\n",
        "    text = re.sub(r\"isn't\", \" is not \", text)\n",
        "    text = re.sub(r\"doesn't\", \" does not \", text)\n",
        "    text = re.sub(r\"i'm\", \" i am \", text)\n",
        "    text = re.sub(r\"there's\", \"there is \", text)\n",
        "    text = re.sub(r\"can't\", \" can not \", text)\n",
        "    text = re.sub(r\"webview\", \"web view \", text)\n",
        "    text = re.sub(r\"mediaplayer\", \"media player \", text)\n",
        "    text = re.sub(r\"onedrive\", \"one drive \", text)\n",
        "    text = re.sub(r\"contentdialog\", \"content dialog \", text)\n",
        "    text = re.sub(r\"mapcontrol\", \"map control \", text)\n",
        "    text = re.sub(r\"applicationmodel\", \"application model \", text)\n",
        "    text = re.sub(r\"it's\", \" it is \", text)\n",
        "    text = re.sub(r\"\\'ve\", \" have \", text)\n",
        "    text = re.sub(r\"\\'d\", \" would \", text)\n",
        "    text = re.sub(r\"don't\", \"do not\", text)\n",
        "    text = re.sub(r\"\\'ll\", \" will \", text)\n",
        "    \n",
        "    text = re.sub(r\"shouldn't\", \" should not \", text)\n",
        "    text = re.sub(r\"didn't\", \" did not \", text)\n",
        "    text = re.sub(r\"couldn't\", \"could not \", text)\n",
        "    text = re.sub(r\"don't\", \"do not\", text)\n",
        "    text = re.sub(r\"autoscaling\", \"auto scaling\", text)\n",
        "    text = re.sub(r\"abillity\", \"ability \", text)\n",
        "    text = re.sub(r\"photocamera\", \"photo camera \", text)\n",
        "    text = re.sub(r\"standardtiledata\", \"standard tile data \", text)\n",
        "    text = re.sub(r\"batterysaver\", \"battery saver\", text)\n",
        "    \n",
        "    text = re.sub(r\"menuitems\", \"menu items\", text)\n",
        "    text = re.sub(r\"keyup\", \" key up \", text)\n",
        "    text = re.sub(r\"manualy\", \"manually\", text)\n",
        "    text = re.sub(r\"samplerate\", \"sample rate\", text)\n",
        "    text = re.sub(r\"applicationid\", \"application id\", text)\n",
        "    text = re.sub(r\"isolatedstoragesettings\", \"isolated storage settings \", text)\n",
        "    text = re.sub(r\"funtionality\", \"functionality \", text)\n",
        "    text = re.sub(r\"selectedindex\", \"selected index\", text)\n",
        "    text = re.sub(r\"multiscaleimage\", \"multiscale image\", text)\n",
        "    \n",
        "    text = re.sub(r\"isolatedstorage\", \"isolated storage \", text)\n",
        "    text = re.sub(r\"andriod\", \"android \", text)\n",
        "    text = re.sub(r\"don't\", \"do not\", text)\n",
        "    text = re.sub(r\"autoscaling\", \"auto scaling\", text)\n",
        "    text = re.sub(r\"xmlnsdefinitionattribute\", \" xml ns definition attribute \", text)\n",
        "    text = re.sub(r\"scheduledtoastnotification\", \"scheduled toast notification\", text)\n",
        "    text = re.sub(r\"wrapgrid\", \"wrap grid\", text)\n",
        "    text = re.sub(r\"stackpanel\", \"stack panel\", text)\n",
        "    text = re.sub(r\"reader'\", \"reader\", text)\n",
        "    text = re.sub(r\"designcapacityinmilliwatthours\", \"design capacity in milli watt hours \", text)\n",
        "    \n",
        "    text = re.sub(r\"designcapacityinmilliwatthours\", \"full charge capacity in milli watt hours\", text)\n",
        "    text = re.sub(r\"featureset\", \"feature set\", text)\n",
        "    text = re.sub(r\"currentappsimulator\", \"current app simulator\", text)\n",
        "    text = re.sub(r\"'old'\", \"old \", text)\n",
        "    text = re.sub(r\"carrige\", \"carriage \", text)\n",
        "    text = re.sub(r\"screenmirroring\", \"screen mirroring\", text)\n",
        "    text = re.sub(r\"loggingchannel\", \"logging channel\", text)\n",
        "    \n",
        "    text = re.sub(r\"actualheight\",\"actual height\", text)\n",
        "    text = re.sub(r\"devicetype\",\"device type\",text)\n",
        "    text = re.sub(r\"uisplitviewcontroller\",\"user interface split view controller\", text)\n",
        "    text = re.sub(r\"phonecallorigin\",\"phone call origin\", text)\n",
        "    text = re.sub(r\"onlineidauthenticator\",\"online id authenticator\", text)\n",
        "    text = re.sub(r\"credentialprompttype\",\"credential prompt type\",text)\n",
        "    text = re.sub(r\"retypecredentials\",\"retype credentials\", text)\n",
        "    text = re.sub(r\"backgroundtask\",\"background task\", text)    \n",
        "    text = re.sub(r\"scheduledtask\",\"scheduled task\", text)\n",
        "    text = re.sub(r\"contactstore\",\"contact store\",text)\n",
        "    text = re.sub(r\"resourcedictionary\",\"resource dictionary\",text)\n",
        "    text = re.sub(r\"medialibraryextensions\",\"media library extensions\", text)\n",
        "    text = re.sub(r\"navigationservice\",\"navigation service\",text)\n",
        "    text = re.sub(r\"fontfamily\",\"font family\", text)\n",
        "    text = re.sub(r\"frameworkelement\",\"framework element\", text)    \n",
        "    \n",
        "    text = re.sub(r\"connectioninterval\",\" connection interval\", text)\n",
        "    text = re.sub(r\"backgroundtransferrequest\",\"background transfer request\",text)\n",
        "    text = re.sub(r\"datasource\",\"data source\", text)\n",
        "    text = re.sub(r\"swipecontrol\",\"swipe control\", text)\n",
        "    \n",
        "    \n",
        "    \n",
        "    text = re.sub(r\"listview\", \"list view\", text)\n",
        "    text = re.sub(r\"windowsphone\",\"windows phone\", text )\n",
        "    text = re.sub(r\"uservoice\", \"user voice\", text)\n",
        "    text = re.sub(r\"treeview\",\"tree view\", text)\n",
        "    text = re.sub(r\"datatemplate\",\"data template \", text)\n",
        "    text = re.sub(r\"scrollbar\", \"scroll bar\", text);\n",
        "    text = re.sub(r\"ainputpane\",\"input pane\", text)\n",
        "    text = re.sub(r\"splitview\",\"split view\", text)\n",
        "    text = re.sub(r\"lockscreen\",\"lock screen\",text)\n",
        "    text = re.sub(r\"suggestedstartlocation\",\"suggested start location\", text)\n",
        "    text = re.sub(r\"combobox\",\"combo box\", text)\n",
        "    text = re.sub(r\"scrollviewer\",\"scroll viewer\",text)\n",
        "    text = re.sub(r\"calendarview\", \"calendar view \", text)\n",
        "    text = re.sub(r\"commandbar\", \"command bar\", text)\n",
        "    text = re.sub(r\"mediaelement\", \"media element\", text)\n",
        "    text = re.sub(r\"gridview\", \"grid view\", text)\n",
        "    text = re.sub(r\"firstname\", \"first name\", text)\n",
        "    text = re.sub(r\"richeditbox\", \"rich edit box\", text)\n",
        "    text = re.sub(r\"winappdriver\", \" windows application driver \", text)\n",
        "    text = re.sub(r\"itemtemplate\", \"item template \", text)\n",
        "    text = re.sub(r\"applicationbar\", \"application bar \", text)\n",
        "    text = re.sub(r\"pixelwidth\", \"pixel width\", text)\n",
        "    text = re.sub(r\"pixelheight\", \"pixel height \", text)\n",
        "    text = re.sub(r\"webservice\", \" web service \", text)\n",
        "    text = re.sub(r\"dependencyproperty\", \"dependency property \", text)\n",
        "    text = re.sub(r\"storagefolder\", \"storage folder \", text)\n",
        "    \n",
        "    text = re.sub(r\"onedrive\", \"one drive \", text)\n",
        "    text = re.sub(r\"contentdialog\", \"content dialog \", text)\n",
        "    text = re.sub(r\"mapcontrol\", \"map control \", text)\n",
        "    text = re.sub(r\"applicationmodel\", \"application model \", text)\n",
        "    text = re.sub(\"it's\", \" it is \", text)\n",
        "    text = re.sub(r\"\\'ve\", \" have \", text)\n",
        "    text = re.sub(r\"\\'d\", \" would \", text)\n",
        "    text = re.sub(r\"don't\", \"do not\", text)\n",
        "    text = re.sub(r\"\\'ll\", \" will \", text)\n",
        "    \n",
        "    text = re.sub(r\"shouldn't\", \" should not \", text)\n",
        "    text = re.sub(r\"didn't\", \" did not \", text)\n",
        "    text = re.sub(r\"couldn't\", \"could not \", text)\n",
        "    text = re.sub(r\"don't\", \"do not\", text)\n",
        "    text = re.sub(r\"autoscaling\", \"auto scaling\", text)\n",
        "    text = re.sub(r\"abillity\", \"ability \", text)\n",
        "    text = re.sub(r\"photocamera\", \"photo camera \", text)\n",
        "    text = re.sub(r\"standardtiledata\", \"standard tile data \", text)\n",
        "    text = re.sub(r\"batterysaver\", \"battery saver\", text)\n",
        "    \n",
        "    text = re.sub(r\"menuitems\", \"menu items\", text)\n",
        "    text = re.sub(r\"keyup\", \" key up \", text)\n",
        "    text = re.sub(r\"manualy\", \"manually\", text)\n",
        "    text = re.sub(r\"samplerate\", \"sample rate\", text)\n",
        "    text = re.sub(r\"applicationid\", \"application id\", text)\n",
        "    text = re.sub(r\"isolatedstoragesettings\", \"isolated storage settings \", text)\n",
        "    text = re.sub(r\"funtionality\", \"functionality \", text)\n",
        "    text = re.sub(r\"selectedindex\", \"selected index\", text)\n",
        "    text = re.sub(r\"multiscaleimage\", \"multiscale image\", text)\n",
        "    \n",
        "    text = re.sub(r\"isolatedstorage\", \"isolated storage \", text)\n",
        "    text = re.sub(r\"andriod\", \"android \", text)\n",
        "    text = re.sub(r\"don't\", \"do not\", text)\n",
        "    text = re.sub(r\"autoscaling\", \"auto scaling\", text)\n",
        "    text = re.sub(r\"xmlnsdefinitionattribute\", \" xml ns definition attribute \", text)\n",
        "    text = re.sub(r\"scheduledtoastnotification\", \"scheduled toast notification\", text)\n",
        "    text = re.sub(r\"wrapgrid\", \"wrap grid\", text)\n",
        "    text = re.sub(r\"stackpanel\", \"stack panel\", text)\n",
        "    text = re.sub(r\"reader'\", \"reader\", text)\n",
        "    text = re.sub(r\"designcapacityinmilliwatthours\", \"design capacity in milli watt hours \", text)\n",
        "    text = re.sub(r\"featureset\", \"feature set\", text)\n",
        "    text = re.sub(r\"currentappsimulator\", \"current app simulator\", text)\n",
        "    text = re.sub(r\"'old'\", \"old \", text)\n",
        "    text = re.sub(r\"carrige\", \"carriage \", text)\n",
        "    text = re.sub(r\"screenmirroring\", \"screen mirroring\", text)\n",
        "    text = re.sub(r\"loggingchannel\", \"logging channel\", text)\n",
        "    \n",
        "    text = re.sub(r\"actualheight\",\"actual height\", text)\n",
        "    text = re.sub(r\"devicetype\",\"device type\",text)\n",
        "    text = re.sub(r\"uisplitviewcontroller\",\"user interface split view controller\", text)\n",
        "    text = re.sub(r\"phonecallorigin\",\"phone call origin\", text)\n",
        "    text = re.sub(r\"onlineidauthenticator\",\"online id authenticator\", text)\n",
        "    text = re.sub(r\"credentialprompttype\",\"credential prompt type\",text)\n",
        "    text = re.sub(r\"retypecredentials\",\"retype credentials\", text)\n",
        "    text = re.sub(r\"backgroundtask\",\"background task\", text)    \n",
        "    text = re.sub(r\"scheduledtask\",\"scheduled task\", text)\n",
        "    text = re.sub(r\"contactstore\",\"contact store\",text)\n",
        "    \n",
        "    \n",
        "    text = re.sub(r\"haven't\",\"have not\",text)\n",
        "    text = re.sub(r\"stackoverflow\",\"stack overflow\", text)\n",
        "    text = re.sub(r\"hasn't\",\"has not\",text)\n",
        "    text = re.sub(r\"async\",\" asynchronous \", text)\n",
        "    text = re.sub(r\"wouldn't\",\"would not\", text)    \n",
        "    text = re.sub(r\"visualstudio\",\" visual studio\", text)\n",
        "    text = re.sub(r\"let's\",\"let us\",text)\n",
        "    text = re.sub(r\"that's\",\"that is\", text)\n",
        "    text = re.sub(r\"aren't\",\"are not\", text)\n",
        "    text = re.sub(r\"(\\d+)(k)\", r\"\\g<1>000\", text)\n",
        "    text = re.sub(r\"e - mail\", \"email\", text)\n",
        "    text = re.sub(r\"en-us\", \"english\", text)\n",
        "    text = re.sub(r\"\\s{2,}\", \" \", text)\n",
        "    return(text)"
      ],
      "execution_count": 0,
      "outputs": []
    },
    {
      "cell_type": "code",
      "metadata": {
        "colab_type": "code",
        "id": "zidI80AvOuxZ",
        "colab": {}
      },
      "source": [
        "from numpy import array\n",
        "df = pd.read_csv(\"/content/drive/My Drive/train - train.csv\")\n",
        "labels = array(df['label'])"
      ],
      "execution_count": 0,
      "outputs": []
    },
    {
      "cell_type": "code",
      "metadata": {
        "id": "JIk9-QsBAnF9",
        "colab_type": "code",
        "colab": {
          "base_uri": "https://localhost:8080/",
          "height": 218
        },
        "outputId": "c05b9f33-5739-4d20-da7b-787bfa901335"
      },
      "source": [
        "docs = df.apply(lambda x: clean(x.review), axis=1)\n",
        "docs[8000:]"
      ],
      "execution_count": 41,
      "outputs": [
        {
          "output_type": "execute_result",
          "data": {
            "text/plain": [
              "8000                 say two menu items one home whatever\n",
              "8001                                   theres sane way eg\n",
              "8002          cancel boolean event args iteminvoked event\n",
              "8003        example would budgeting app currently working\n",
              "8004    youre editing transaction havent committed try...\n",
              "                              ...                        \n",
              "8461    following reliably throw flavor interop exception\n",
              "8462    reliably result bsod zero bytes returned clear...\n",
              "8463    possible set calender identifier property tell...\n",
              "8464    possible set hijri adjustment month ramadansha...\n",
              "8465    windows calender app show cases feature calend...\n",
              "Length: 466, dtype: object"
            ]
          },
          "metadata": {
            "tags": []
          },
          "execution_count": 41
        }
      ]
    },
    {
      "cell_type": "code",
      "metadata": {
        "colab_type": "code",
        "id": "9-t8NJvKOuxr",
        "colab": {}
      },
      "source": [
        "\n",
        "tokenizer = Tokenizer(oov_token=None)\n",
        "tokenizer.fit_on_texts(docs)\n",
        "encoded_docs = tokenizer.texts_to_sequences(docs)\n",
        "pdocs = pad_sequences(encoded_docs, maxlen=100,padding=\"post\")\n",
        "word_index = tokenizer.word_index"
      ],
      "execution_count": 0,
      "outputs": []
    },
    {
      "cell_type": "code",
      "metadata": {
        "colab_type": "code",
        "id": "SihCOidZOuxw",
        "outputId": "68b861ef-5f1a-4b5f-bffb-97205c483465",
        "colab": {
          "base_uri": "https://localhost:8080/",
          "height": 34
        }
      },
      "source": [
        "embeddings_index = {}\n",
        "f = open('/content/drive/My Drive/glove.6B.100d.txt', encoding=\"utf8\")\n",
        "for line in f:\n",
        "    try:\n",
        "        values = line.split()\n",
        "        word = values[0]\n",
        "        coefs = np.asarray(values[1:], dtype='float32')\n",
        "        embeddings_index[word] = coefs\n",
        "    except:\n",
        "        print(word)\n",
        "        pass\n",
        "f.close()\n",
        "embed_size = 100\n",
        "embedding_matrix = np.zeros((len(word_index) + 1, embed_size))\n",
        "absent =[]\n",
        "absent_words = 0\n",
        "for word, i in word_index.items():\n",
        "    embedding_vector = embeddings_index.get(word)\n",
        "    if embedding_vector is not None:\n",
        "        embedding_matrix[i] = embedding_vector\n",
        "    else:\n",
        "        absent_words += 1\n",
        "        absent.append(word)\n",
        "print('Total absent words are', absent_words, 'which is', \"%0.2f\" % (absent_words * 100 / len(word_index)), '% of total words')"
      ],
      "execution_count": 11,
      "outputs": [
        {
          "output_type": "stream",
          "text": [
            "Total absent words are 2887 which is 29.90 % of total words\n"
          ],
          "name": "stdout"
        }
      ]
    },
    {
      "cell_type": "code",
      "metadata": {
        "scrolled": false,
        "id": "KLxUbCwcAnGW",
        "colab_type": "code",
        "outputId": "1d21cac7-ffb0-4460-8046-80e803a12e21",
        "colab": {
          "base_uri": "https://localhost:8080/",
          "height": 34
        }
      },
      "source": [
        "print(len(word_index))"
      ],
      "execution_count": 10,
      "outputs": [
        {
          "output_type": "stream",
          "text": [
            "9137\n"
          ],
          "name": "stdout"
        }
      ]
    },
    {
      "cell_type": "code",
      "metadata": {
        "colab_type": "code",
        "id": "Cqn6DrrqOux1",
        "colab": {
          "base_uri": "https://localhost:8080/",
          "height": 70
        },
        "outputId": "d419b485-d924-411b-b93e-10ebb1454435"
      },
      "source": [
        "from keras.layers import Embedding\n",
        "vocab_size = len(tokenizer.word_index)+1\n",
        "e = Embedding(vocab_size, 100, weights=[embedding_matrix],input_length=100, trainable=True)"
      ],
      "execution_count": 16,
      "outputs": [
        {
          "output_type": "stream",
          "text": [
            "WARNING:tensorflow:From /usr/local/lib/python3.6/dist-packages/keras/backend/tensorflow_backend.py:66: The name tf.get_default_graph is deprecated. Please use tf.compat.v1.get_default_graph instead.\n",
            "\n"
          ],
          "name": "stdout"
        }
      ]
    },
    {
      "cell_type": "code",
      "metadata": {
        "id": "hSz4letxAnGj",
        "colab_type": "code",
        "colab": {}
      },
      "source": [
        "from keras import initializers,regularizers,constraints\n",
        "def dot_product(x, kernel):\n",
        "    if K.backend() == 'tensorflow':\n",
        "        return K.squeeze(K.dot(x, K.expand_dims(kernel)), axis=-1)\n",
        "    else:\n",
        "        return K.dot(x, kernel)\n",
        "\n",
        "class AttentionWithContext(Layer):\n",
        "    def __init__(self,\n",
        "                 W_regularizer=None, u_regularizer=None, b_regularizer=None,\n",
        "                 W_constraint=None, u_constraint=None, b_constraint=None,\n",
        "                 bias=True, **kwargs):\n",
        "\n",
        "        self.supports_masking = True\n",
        "        self.init = initializers.get('glorot_uniform')\n",
        "\n",
        "        self.W_regularizer = regularizers.get(W_regularizer)\n",
        "        self.u_regularizer = regularizers.get(u_regularizer)\n",
        "        self.b_regularizer = regularizers.get(b_regularizer)\n",
        "\n",
        "        self.W_constraint = constraints.get(W_constraint)\n",
        "        self.u_constraint = constraints.get(u_constraint)\n",
        "        self.b_constraint = constraints.get(b_constraint)\n",
        "\n",
        "        self.bias = bias\n",
        "        super(AttentionWithContext, self).__init__(**kwargs)\n",
        "\n",
        "    def build(self, input_shape):\n",
        "        assert len(input_shape) == 3\n",
        "\n",
        "        self.W = self.add_weight((input_shape[-1], input_shape[-1],),\n",
        "                                 initializer=self.init,\n",
        "                                 name='{}_W'.format(self.name),\n",
        "                                 regularizer=self.W_regularizer,\n",
        "                                 constraint=self.W_constraint)\n",
        "        if self.bias:\n",
        "            self.b = self.add_weight((input_shape[-1],),\n",
        "                                     initializer='zero',\n",
        "                                     name='{}_b'.format(self.name),\n",
        "                                     regularizer=self.b_regularizer,\n",
        "                                     constraint=self.b_constraint)\n",
        "\n",
        "        self.u = self.add_weight((input_shape[-1],),\n",
        "                                 initializer=self.init,\n",
        "                                 name='{}_u'.format(self.name),\n",
        "                                 regularizer=self.u_regularizer,\n",
        "                                 constraint=self.u_constraint)\n",
        "\n",
        "        super(AttentionWithContext, self).build(input_shape)\n",
        "\n",
        "    def compute_mask(self, input, input_mask=None):\n",
        "        # do not pass the mask to the next layers\n",
        "        return None\n",
        "\n",
        "    def call(self, x, mask=None):\n",
        "        uit = dot_product(x, self.W)\n",
        "\n",
        "        if self.bias:\n",
        "            uit += self.b\n",
        "\n",
        "        uit = K.tanh(uit)\n",
        "        ait = dot_product(uit, self.u)\n",
        "\n",
        "        a = K.exp(ait)\n",
        "\n",
        "        # apply mask after the exp. will be re-normalized next\n",
        "        if mask is not None:\n",
        "            # Cast the mask to floatX to avoid float64 upcasting in theano\n",
        "            a *= K.cast(mask, K.floatx())\n",
        "\n",
        "        # in some cases especially in the early stages of training the sum may be almost zero\n",
        "        # and this results in NaN's. A workaround is to add a very small positive number ε to the sum.\n",
        "        # a /= K.cast(K.sum(a, axis=1, keepdims=True), K.floatx())\n",
        "        a /= K.cast(K.sum(a, axis=1, keepdims=True) + K.epsilon(), K.floatx())\n",
        "\n",
        "        a = K.expand_dims(a)\n",
        "        weighted_input = x * a\n",
        "        return K.sum(weighted_input, axis=1)\n",
        "\n",
        "    def compute_output_shape(self, input_shape):\n",
        "        return input_shape[0], input_shape[-1]"
      ],
      "execution_count": 0,
      "outputs": []
    },
    {
      "cell_type": "code",
      "metadata": {
        "colab_type": "code",
        "id": "oR9bCsVYOux8",
        "outputId": "e0653af7-15c9-4284-e209-01436f057841",
        "scrolled": false,
        "colab": {
          "base_uri": "https://localhost:8080/",
          "height": 1000
        }
      },
      "source": [
        "from keras.models import Model\n",
        "from keras.layers import *\n",
        "from keras.preprocessing.sequence import pad_sequences\n",
        "from keras import regularizers\n",
        "from keras.utils.vis_utils import plot_model\n",
        "\n",
        "def create_models():\n",
        "    inp = Input((None,))\n",
        "    embs = e(inp)\n",
        "    lstm_1 = LSTM(128, return_sequences=True)(embs)\n",
        "    lstm_2 = LSTM(64, return_sequences=True)(lstm_1)\n",
        "    x = Dropout(0.4)(lstm_2)\n",
        "    lstm_3 = LSTM(32, return_sequences=True)(x)\n",
        "    attention = TimeDistributed(Dense(1))(lstm_3)\n",
        "    drop = Dropout(0.4)(attention)\n",
        "    attention_vals = Softmax(axis=1)(drop)\n",
        "    scaled_vecs = Multiply()([embs,attention_vals])\n",
        "    context_vector = Lambda(lambda x: K.sum(x,axis=1))(scaled_vecs)\n",
        "    out_att = AttentionWithContext()(attention_vals)\n",
        "    #drop = Dropout(0.2)(out_att)\n",
        "    out = Dense(1,activation='sigmoid')(out_att)\n",
        "    model = Model(inp, out)\n",
        "    model_with_attention_output = Model(inp, [out, attention_vals])\n",
        "    model.compile(optimizer='adam',loss='binary_crossentropy', metrics=['accuracy'])\n",
        "    return model, model_with_attention_output\n",
        "\n",
        "model,model_with_attention_output = create_models()\n",
        "print(model.summary())\n",
        "\n",
        "model.fit(pdocs, labels,epochs = 3)\n",
        "\n",
        "plot_model(model, to_file='model_plot.png', show_shapes=True, show_layer_names=True)\n",
        "\n",
        "#model.save(\"m.hdf5\")\n",
        "loss, accuracy = model.evaluate(pdocs,labels , verbose=1)\n",
        "print('Training Accuracy is {}'.format(accuracy*100))"
      ],
      "execution_count": 18,
      "outputs": [
        {
          "output_type": "stream",
          "text": [
            "WARNING:tensorflow:From /usr/local/lib/python3.6/dist-packages/keras/backend/tensorflow_backend.py:541: The name tf.placeholder is deprecated. Please use tf.compat.v1.placeholder instead.\n",
            "\n",
            "WARNING:tensorflow:From /usr/local/lib/python3.6/dist-packages/keras/backend/tensorflow_backend.py:4432: The name tf.random_uniform is deprecated. Please use tf.random.uniform instead.\n",
            "\n",
            "WARNING:tensorflow:From /usr/local/lib/python3.6/dist-packages/keras/backend/tensorflow_backend.py:190: The name tf.get_default_session is deprecated. Please use tf.compat.v1.get_default_session instead.\n",
            "\n",
            "WARNING:tensorflow:From /usr/local/lib/python3.6/dist-packages/keras/backend/tensorflow_backend.py:197: The name tf.ConfigProto is deprecated. Please use tf.compat.v1.ConfigProto instead.\n",
            "\n",
            "WARNING:tensorflow:From /usr/local/lib/python3.6/dist-packages/keras/backend/tensorflow_backend.py:203: The name tf.Session is deprecated. Please use tf.compat.v1.Session instead.\n",
            "\n",
            "WARNING:tensorflow:From /usr/local/lib/python3.6/dist-packages/keras/backend/tensorflow_backend.py:207: The name tf.global_variables is deprecated. Please use tf.compat.v1.global_variables instead.\n",
            "\n",
            "WARNING:tensorflow:From /usr/local/lib/python3.6/dist-packages/keras/backend/tensorflow_backend.py:216: The name tf.is_variable_initialized is deprecated. Please use tf.compat.v1.is_variable_initialized instead.\n",
            "\n",
            "WARNING:tensorflow:From /usr/local/lib/python3.6/dist-packages/keras/backend/tensorflow_backend.py:223: The name tf.variables_initializer is deprecated. Please use tf.compat.v1.variables_initializer instead.\n",
            "\n",
            "WARNING:tensorflow:From /usr/local/lib/python3.6/dist-packages/keras/backend/tensorflow_backend.py:148: The name tf.placeholder_with_default is deprecated. Please use tf.compat.v1.placeholder_with_default instead.\n",
            "\n",
            "WARNING:tensorflow:From /usr/local/lib/python3.6/dist-packages/keras/backend/tensorflow_backend.py:3733: calling dropout (from tensorflow.python.ops.nn_ops) with keep_prob is deprecated and will be removed in a future version.\n",
            "Instructions for updating:\n",
            "Please use `rate` instead of `keep_prob`. Rate should be set to `rate = 1 - keep_prob`.\n",
            "WARNING:tensorflow:From /usr/local/lib/python3.6/dist-packages/keras/optimizers.py:793: The name tf.train.Optimizer is deprecated. Please use tf.compat.v1.train.Optimizer instead.\n",
            "\n",
            "WARNING:tensorflow:From /usr/local/lib/python3.6/dist-packages/keras/backend/tensorflow_backend.py:3657: The name tf.log is deprecated. Please use tf.math.log instead.\n",
            "\n",
            "WARNING:tensorflow:From /tensorflow-1.15.0/python3.6/tensorflow_core/python/ops/nn_impl.py:183: where (from tensorflow.python.ops.array_ops) is deprecated and will be removed in a future version.\n",
            "Instructions for updating:\n",
            "Use tf.where in 2.0, which has the same broadcast rule as np.where\n",
            "Model: \"model_1\"\n",
            "_________________________________________________________________\n",
            "Layer (type)                 Output Shape              Param #   \n",
            "=================================================================\n",
            "input_1 (InputLayer)         (None, None)              0         \n",
            "_________________________________________________________________\n",
            "embedding_1 (Embedding)      (None, 100, 100)          965700    \n",
            "_________________________________________________________________\n",
            "lstm_1 (LSTM)                (None, 100, 128)          117248    \n",
            "_________________________________________________________________\n",
            "lstm_2 (LSTM)                (None, 100, 64)           49408     \n",
            "_________________________________________________________________\n",
            "dropout_1 (Dropout)          (None, 100, 64)           0         \n",
            "_________________________________________________________________\n",
            "lstm_3 (LSTM)                (None, 100, 32)           12416     \n",
            "_________________________________________________________________\n",
            "time_distributed_1 (TimeDist (None, 100, 1)            33        \n",
            "_________________________________________________________________\n",
            "dropout_2 (Dropout)          (None, 100, 1)            0         \n",
            "_________________________________________________________________\n",
            "softmax_1 (Softmax)          (None, 100, 1)            0         \n",
            "_________________________________________________________________\n",
            "attention_with_context_1 (At (None, 1)                 3         \n",
            "_________________________________________________________________\n",
            "dense_2 (Dense)              (None, 1)                 2         \n",
            "=================================================================\n",
            "Total params: 1,144,810\n",
            "Trainable params: 1,144,810\n",
            "Non-trainable params: 0\n",
            "_________________________________________________________________\n",
            "None\n",
            "WARNING:tensorflow:From /usr/local/lib/python3.6/dist-packages/keras/backend/tensorflow_backend.py:1033: The name tf.assign_add is deprecated. Please use tf.compat.v1.assign_add instead.\n",
            "\n",
            "WARNING:tensorflow:From /usr/local/lib/python3.6/dist-packages/keras/backend/tensorflow_backend.py:1020: The name tf.assign is deprecated. Please use tf.compat.v1.assign instead.\n",
            "\n",
            "Epoch 1/3\n",
            "8466/8466 [==============================] - 89s 10ms/step - loss: 0.6681 - acc: 0.7228\n",
            "Epoch 2/3\n",
            "8466/8466 [==============================] - 85s 10ms/step - loss: 0.6235 - acc: 0.7537\n",
            "Epoch 3/3\n",
            "8466/8466 [==============================] - 85s 10ms/step - loss: 0.5952 - acc: 0.7537\n",
            "8466/8466 [==============================] - 16s 2ms/step\n",
            "Training Accuracy is 75.37207654145995\n"
          ],
          "name": "stdout"
        }
      ]
    },
    {
      "cell_type": "code",
      "metadata": {
        "colab_type": "code",
        "id": "wVSAjeFijWbp",
        "colab": {}
      },
      "source": [
        "class_idx = np.argmax(labels) \n",
        "class_output = model.output[:, class_idx]\n",
        "last_layer = model.get_layer(\"lstm_3\")"
      ],
      "execution_count": 0,
      "outputs": []
    },
    {
      "cell_type": "code",
      "metadata": {
        "id": "gKyD47jhTI_m",
        "colab_type": "code",
        "colab": {}
      },
      "source": [
        "\n",
        "test = pd.read_csv(\"/content/drive/My Drive/Colab Notebooks/test - test.csv\")\n",
        "tokenizer = Tokenizer(oov_token=None)\n",
        "tokenizer.fit_on_texts(test['sentence'])\n",
        "encoded_Testdocs = tokenizer.texts_to_sequences(test['sentence'])\n",
        "Testdocs = pad_sequences(encoded_Testdocs, maxlen=100,padding=\"post\")"
      ],
      "execution_count": 0,
      "outputs": []
    },
    {
      "cell_type": "code",
      "metadata": {
        "colab_type": "code",
        "id": "aLYSclUCjbKS",
        "colab": {}
      },
      "source": [
        "grads = K.gradients(class_output, last_layer.output)[0]\n",
        "pooled_grads = K.mean(grads)\n",
        "iterate = K.function([model.input], [pooled_grads, last_layer.output[0]])\n",
        "pooled_grads_value, lstm_layer_output_value = iterate([Testdocs])"
      ],
      "execution_count": 0,
      "outputs": []
    },
    {
      "cell_type": "code",
      "metadata": {
        "colab_type": "code",
        "id": "C74xhzvEAju9",
        "colab": {}
      },
      "source": [
        "heatmap = np.mean(lstm_layer_output_value, axis=-1)\n",
        "heatmap = np.maximum(heatmap,1)\n",
        "heatmap /= np.max(heatmap)#normalise values in the prediction"
      ],
      "execution_count": 0,
      "outputs": []
    },
    {
      "cell_type": "code",
      "metadata": {
        "colab_type": "code",
        "id": "ovBA1dyMCuVO",
        "colab": {}
      },
      "source": [
        "norm_len = 100/last_layer.output_shape[1] # find the ratio of the text vs the lstm layer length"
      ],
      "execution_count": 0,
      "outputs": []
    },
    {
      "cell_type": "code",
      "metadata": {
        "colab_type": "code",
        "id": "2DjacF7sCy35",
        "outputId": "2a993684-353e-450b-d693-a80f9f2a1034",
        "colab": {
          "base_uri": "https://localhost:8080/",
          "height": 34
        }
      },
      "source": [
        "import math\n",
        "from IPython.display import HTML\n",
        "html = \" \"\n",
        "\n",
        "for j,i in enumerate(tokenizer.sequences_to_texts(Testdocs)[1].split()):\n",
        "    html += \"<span style='background-color:rgba({},0,150,{})'>{} </span>\".format(heatmap[math.floor(j/norm_len)]*255,heatmap[math.floor(j/norm_len)]-0.3,i)\n",
        "HTML(html)"
      ],
      "execution_count": 40,
      "outputs": [
        {
          "output_type": "execute_result",
          "data": {
            "text/html": [
              " <span style='background-color:rgba(255.0,0,150,0.7)'>please </span><span style='background-color:rgba(255.0,0,150,0.7)'>try </span><span style='background-color:rgba(255.0,0,150,0.7)'>other </span><span style='background-color:rgba(255.0,0,150,0.7)'>formatting </span><span style='background-color:rgba(255.0,0,150,0.7)'>like </span><span style='background-color:rgba(255.0,0,150,0.7)'>bold </span><span style='background-color:rgba(255.0,0,150,0.7)'>italics </span><span style='background-color:rgba(255.0,0,150,0.7)'>shadow </span><span style='background-color:rgba(255.0,0,150,0.7)'>to </span><span style='background-color:rgba(255.0,0,150,0.7)'>distinguish </span><span style='background-color:rgba(255.0,0,150,0.7)'>titlessubtitles </span><span style='background-color:rgba(255.0,0,150,0.7)'>from </span><span style='background-color:rgba(255.0,0,150,0.7)'>content </span>"
            ],
            "text/plain": [
              "<IPython.core.display.HTML object>"
            ]
          },
          "metadata": {
            "tags": []
          },
          "execution_count": 40
        }
      ]
    },
    {
      "cell_type": "code",
      "metadata": {
        "id": "3dbfHo-xAnHf",
        "colab_type": "code",
        "colab": {
          "base_uri": "https://localhost:8080/",
          "height": 67
        },
        "outputId": "d2bb1b6f-1687-4a5f-dd35-f85b9687f6b0"
      },
      "source": [
        "from sklearn.metrics import confusion_matrix, f1_score, precision_score, recall_score, accuracy_score\n",
        "\n",
        "yhat_probs = model.predict(pdocs, verbose=0)\n",
        "yhat_classes = yhat_probs.argmax(axis=1)\n",
        "yhat_probs = yhat_probs[:,0]\n",
        "\n",
        "\n",
        "precision = precision_score(labels, yhat_classes,zero_division=1,average='weighted')\n",
        "print('Precision: %f' % precision)\n",
        "recall = recall_score(labels, yhat_classes,average='weighted')\n",
        "print('Recall: %f' % recall)\n",
        "f1 = f1_score(labels, yhat_classes,average='weighted')\n",
        "print('F1 score: %f' % f1)"
      ],
      "execution_count": 53,
      "outputs": [
        {
          "output_type": "stream",
          "text": [
            "Precision: 0.814374\n",
            "Recall: 0.753721\n",
            "F1 score: 0.647874\n"
          ],
          "name": "stdout"
        }
      ]
    },
    {
      "cell_type": "code",
      "metadata": {
        "id": "VdT8y_g6PfrL",
        "colab_type": "code",
        "colab": {}
      },
      "source": [
        ""
      ],
      "execution_count": 0,
      "outputs": []
    }
  ]
}