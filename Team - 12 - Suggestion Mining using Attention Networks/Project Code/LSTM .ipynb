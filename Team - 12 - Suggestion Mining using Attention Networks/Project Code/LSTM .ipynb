{
  "nbformat": 4,
  "nbformat_minor": 0,
  "metadata": {
    "kernelspec": {
      "display_name": "Python 3",
      "language": "python",
      "name": "python3"
    },
    "language_info": {
      "codemirror_mode": {
        "name": "ipython",
        "version": 3
      },
      "file_extension": ".py",
      "mimetype": "text/x-python",
      "name": "python",
      "nbconvert_exporter": "python",
      "pygments_lexer": "ipython3",
      "version": "3.7.4"
    },
    "colab": {
      "name": "LSTM.ipynb",
      "provenance": [],
      "collapsed_sections": [],
      "toc_visible": true
    }
  },
  "cells": [
    {
      "cell_type": "code",
      "metadata": {
        "id": "N1sC7B2cOuxM",
        "colab_type": "code",
        "colab": {
          "base_uri": "https://localhost:8080/",
          "height": 79
        },
        "outputId": "fb1bd684-583b-455d-9c19-0a0366dc3b0a"
      },
      "source": [
        "import pandas as pd\n",
        "from nltk.corpus import stopwords\n",
        "from sklearn.feature_extraction.text import TfidfVectorizer, CountVectorizer\n",
        "import numpy as np\n",
        "from keras.preprocessing.sequence import pad_sequences\n",
        "import tensorflow as tf\n",
        "import keras.backend as K\n",
        "from keras.preprocessing.text import Tokenizer, text_to_word_sequence\n",
        "from keras.layers import GRU, LSTM, Bidirectional, Conv1D"
      ],
      "execution_count": 1,
      "outputs": [
        {
          "output_type": "stream",
          "text": [
            "Using TensorFlow backend.\n"
          ],
          "name": "stderr"
        },
        {
          "output_type": "display_data",
          "data": {
            "text/html": [
              "<p style=\"color: red;\">\n",
              "The default version of TensorFlow in Colab will soon switch to TensorFlow 2.x.<br>\n",
              "We recommend you <a href=\"https://www.tensorflow.org/guide/migrate\" target=\"_blank\">upgrade</a> now \n",
              "or ensure your notebook will continue to use TensorFlow 1.x via the <code>%tensorflow_version 1.x</code> magic:\n",
              "<a href=\"https://colab.research.google.com/notebooks/tensorflow_version.ipynb\" target=\"_blank\">more info</a>.</p>\n"
            ],
            "text/plain": [
              "<IPython.core.display.HTML object>"
            ]
          },
          "metadata": {
            "tags": []
          }
        }
      ]
    },
    {
      "cell_type": "code",
      "metadata": {
        "id": "K-AaCksPPDOm",
        "colab_type": "code",
        "outputId": "c332e261-bdbd-42e9-9249-bdab5c3bb58b",
        "colab": {
          "base_uri": "https://localhost:8080/",
          "height": 121
        }
      },
      "source": [
        "from google.colab import drive\n",
        "drive.mount('/content/drive')\n"
      ],
      "execution_count": 2,
      "outputs": [
        {
          "output_type": "stream",
          "text": [
            "Go to this URL in a browser: https://accounts.google.com/o/oauth2/auth?client_id=947318989803-6bn6qk8qdgf4n4g3pfee6491hc0brc4i.apps.googleusercontent.com&redirect_uri=urn%3aietf%3awg%3aoauth%3a2.0%3aoob&response_type=code&scope=email%20https%3a%2f%2fwww.googleapis.com%2fauth%2fdocs.test%20https%3a%2f%2fwww.googleapis.com%2fauth%2fdrive%20https%3a%2f%2fwww.googleapis.com%2fauth%2fdrive.photos.readonly%20https%3a%2f%2fwww.googleapis.com%2fauth%2fpeopleapi.readonly\n",
            "\n",
            "Enter your authorization code:\n",
            "··········\n",
            "Mounted at /content/drive\n"
          ],
          "name": "stdout"
        }
      ]
    },
    {
      "cell_type": "code",
      "metadata": {
        "id": "1Moeejp7UlPB",
        "colab_type": "code",
        "colab": {
          "base_uri": "https://localhost:8080/",
          "height": 50
        },
        "outputId": "d3eac983-c765-401b-a1e2-7cfcd7e818b8"
      },
      "source": [
        "import nltk\n",
        "import re\n",
        "nltk.download(\"stopwords\")\n",
        "stop = stopwords.words('english')"
      ],
      "execution_count": 10,
      "outputs": [
        {
          "output_type": "stream",
          "text": [
            "[nltk_data] Downloading package stopwords to /root/nltk_data...\n",
            "[nltk_data]   Package stopwords is already up-to-date!\n"
          ],
          "name": "stdout"
        }
      ]
    },
    {
      "cell_type": "code",
      "metadata": {
        "id": "PjU50UqrUK_e",
        "colab_type": "code",
        "colab": {}
      },
      "source": [
        "def clean(text, remove_stopwords=True, stem_words=True):\n",
        "    text = str(text)\n",
        "    text = text.lower()\n",
        "    # Optionally, remove stop words\n",
        "    if remove_stopwords:\n",
        "        stops = set(stopwords.words(\"english\"))\n",
        "        text = [w for w in text.split() if not w in stops]\n",
        "        text = \" \".join(text)\n",
        "    # Clean the text\n",
        "    text = re.sub(r\"[^A-Za-z0-9,.\\/'\\\"]\", \" \", text)\n",
        "    text = re.sub(r\"[0-9]\",\" \", text )\n",
        "    text = re.sub(r'http[s]?://\\S+', '<URL>', text)\n",
        "    text = re.sub(r\".aspx\",\" \", text)\n",
        "    text = re.sub(r\"xap\",\"silverlight application package \", text)\n",
        "    text = re.sub(r\"v=vs.105\", \" \", text);\n",
        "    text = re.sub(r\"appreslib.dll.xxxx.mui\",\" \", text)\n",
        "    #text = re.sub(r\"ru\",\"russia\", text)\n",
        "    #text = re.sub(r\"ru-ru\",\"russia\",text)\n",
        "    #text = re.sub(r\"de\",\"german\", text)\n",
        "    #text = re.sub(r\"de-de\",\"german\", text)\n",
        "    text = re.sub(r\"wich\",\"which\",text)\n",
        "    text = re.sub(r\"what's\", \"what is \", text)\n",
        "    text = re.sub(r\"supportedcultures\", \"supported cultures\", text)\n",
        "    text = re.sub(r\"calenderidentifier\", \"calender identifier\", text)\n",
        "    text = re.sub(r\"futureaccesslist\", \"future access list\", text)\n",
        "    text = re.sub(r\"wp7\", \"windows phone\", text)\n",
        "    text = re.sub(r\"wp8\", \"windows phone\", text)\n",
        "    text = re.sub(r\"'re\", \" are \", text)\n",
        "    text = re.sub(r\"isn't\", \" is not \", text)\n",
        "    text = re.sub(r\"doesn't\", \" does not \", text)\n",
        "    text = re.sub(r\"i'm\", \" i am \", text)\n",
        "    text = re.sub(r\"there's\", \"there is \", text)\n",
        "    text = re.sub(r\"can't\", \" can not \", text)\n",
        "    text = re.sub(r\"webview\", \"web view \", text)\n",
        "    text = re.sub(r\"mediaplayer\", \"media player \", text)\n",
        "    text = re.sub(r\"onedrive\", \"one drive \", text)\n",
        "    text = re.sub(r\"contentdialog\", \"content dialog \", text)\n",
        "    text = re.sub(r\"mapcontrol\", \"map control \", text)\n",
        "    text = re.sub(r\"applicationmodel\", \"application model \", text)\n",
        "    text = re.sub(r\"it's\", \" it is \", text)\n",
        "    text = re.sub(r\"\\'ve\", \" have \", text)\n",
        "    text = re.sub(r\"\\'d\", \" would \", text)\n",
        "    text = re.sub(r\"don't\", \"do not\", text)\n",
        "    text = re.sub(r\"\\'ll\", \" will \", text)\n",
        "    \n",
        "    text = re.sub(r\"shouldn't\", \" should not \", text)\n",
        "    text = re.sub(r\"didn't\", \" did not \", text)\n",
        "    text = re.sub(r\"couldn't\", \"could not \", text)\n",
        "    text = re.sub(r\"don't\", \"do not\", text)\n",
        "    text = re.sub(r\"autoscaling\", \"auto scaling\", text)\n",
        "    text = re.sub(r\"abillity\", \"ability \", text)\n",
        "    text = re.sub(r\"photocamera\", \"photo camera \", text)\n",
        "    text = re.sub(r\"standardtiledata\", \"standard tile data \", text)\n",
        "    text = re.sub(r\"batterysaver\", \"battery saver\", text)\n",
        "    \n",
        "    text = re.sub(r\"menuitems\", \"menu items\", text)\n",
        "    text = re.sub(r\"keyup\", \" key up \", text)\n",
        "    text = re.sub(r\"manualy\", \"manually\", text)\n",
        "    text = re.sub(r\"samplerate\", \"sample rate\", text)\n",
        "    text = re.sub(r\"applicationid\", \"application id\", text)\n",
        "    text = re.sub(r\"isolatedstoragesettings\", \"isolated storage settings \", text)\n",
        "    text = re.sub(r\"funtionality\", \"functionality \", text)\n",
        "    text = re.sub(r\"selectedindex\", \"selected index\", text)\n",
        "    text = re.sub(r\"multiscaleimage\", \"multiscale image\", text)\n",
        "    \n",
        "    text = re.sub(r\"isolatedstorage\", \"isolated storage \", text)\n",
        "    text = re.sub(r\"andriod\", \"android \", text)\n",
        "    text = re.sub(r\"don't\", \"do not\", text)\n",
        "    text = re.sub(r\"autoscaling\", \"auto scaling\", text)\n",
        "    text = re.sub(r\"xmlnsdefinitionattribute\", \" xml ns definition attribute \", text)\n",
        "    text = re.sub(r\"scheduledtoastnotification\", \"scheduled toast notification\", text)\n",
        "    text = re.sub(r\"wrapgrid\", \"wrap grid\", text)\n",
        "    text = re.sub(r\"stackpanel\", \"stack panel\", text)\n",
        "    text = re.sub(r\"reader'\", \"reader\", text)\n",
        "    text = re.sub(r\"designcapacityinmilliwatthours\", \"design capacity in milli watt hours \", text)\n",
        "    \n",
        "    text = re.sub(r\"designcapacityinmilliwatthours\", \"full charge capacity in milli watt hours\", text)\n",
        "    text = re.sub(r\"featureset\", \"feature set\", text)\n",
        "    text = re.sub(r\"currentappsimulator\", \"current app simulator\", text)\n",
        "    text = re.sub(r\"'old'\", \"old \", text)\n",
        "    text = re.sub(r\"carrige\", \"carriage \", text)\n",
        "    text = re.sub(r\"screenmirroring\", \"screen mirroring\", text)\n",
        "    text = re.sub(r\"loggingchannel\", \"logging channel\", text)\n",
        "    \n",
        "    text = re.sub(r\"actualheight\",\"actual height\", text)\n",
        "    text = re.sub(r\"devicetype\",\"device type\",text)\n",
        "    text = re.sub(r\"uisplitviewcontroller\",\"user interface split view controller\", text)\n",
        "    text = re.sub(r\"phonecallorigin\",\"phone call origin\", text)\n",
        "    text = re.sub(r\"onlineidauthenticator\",\"online id authenticator\", text)\n",
        "    text = re.sub(r\"credentialprompttype\",\"credential prompt type\",text)\n",
        "    text = re.sub(r\"retypecredentials\",\"retype credentials\", text)\n",
        "    text = re.sub(r\"backgroundtask\",\"background task\", text)    \n",
        "    text = re.sub(r\"scheduledtask\",\"scheduled task\", text)\n",
        "    text = re.sub(r\"contactstore\",\"contact store\",text)\n",
        "    text = re.sub(r\"resourcedictionary\",\"resource dictionary\",text)\n",
        "    text = re.sub(r\"medialibraryextensions\",\"media library extensions\", text)\n",
        "    text = re.sub(r\"navigationservice\",\"navigation service\",text)\n",
        "    text = re.sub(r\"fontfamily\",\"font family\", text)\n",
        "    text = re.sub(r\"frameworkelement\",\"framework element\", text)    \n",
        "    \n",
        "    text = re.sub(r\"connectioninterval\",\" connection interval\", text)\n",
        "    text = re.sub(r\"backgroundtransferrequest\",\"background transfer request\",text)\n",
        "    text = re.sub(r\"datasource\",\"data source\", text)\n",
        "    text = re.sub(r\"swipecontrol\",\"swipe control\", text)\n",
        "    \n",
        "    \n",
        "    \n",
        "    text = re.sub(r\"listview\", \"list view\", text)\n",
        "    text = re.sub(r\"windowsphone\",\"windows phone\", text )\n",
        "    text = re.sub(r\"uservoice\", \"user voice\", text)\n",
        "    text = re.sub(r\"treeview\",\"tree view\", text)\n",
        "    text = re.sub(r\"datatemplate\",\"data template \", text)\n",
        "    text = re.sub(r\"scrollbar\", \"scroll bar\", text);\n",
        "    text = re.sub(r\"ainputpane\",\"input pane\", text)\n",
        "    text = re.sub(r\"splitview\",\"split view\", text)\n",
        "    text = re.sub(r\"lockscreen\",\"lock screen\",text)\n",
        "    text = re.sub(r\"suggestedstartlocation\",\"suggested start location\", text)\n",
        "    text = re.sub(r\"combobox\",\"combo box\", text)\n",
        "    text = re.sub(r\"scrollviewer\",\"scroll viewer\",text)\n",
        "    text = re.sub(r\"calendarview\", \"calendar view \", text)\n",
        "    text = re.sub(r\"commandbar\", \"command bar\", text)\n",
        "    text = re.sub(r\"mediaelement\", \"media element\", text)\n",
        "    text = re.sub(r\"gridview\", \"grid view\", text)\n",
        "    text = re.sub(r\"firstname\", \"first name\", text)\n",
        "    text = re.sub(r\"richeditbox\", \"rich edit box\", text)\n",
        "    text = re.sub(r\"winappdriver\", \" windows application driver \", text)\n",
        "    text = re.sub(r\"itemtemplate\", \"item template \", text)\n",
        "    text = re.sub(r\"applicationbar\", \"application bar \", text)\n",
        "    text = re.sub(r\"pixelwidth\", \"pixel width\", text)\n",
        "    text = re.sub(r\"pixelheight\", \"pixel height \", text)\n",
        "    text = re.sub(r\"webservice\", \" web service \", text)\n",
        "    text = re.sub(r\"dependencyproperty\", \"dependency property \", text)\n",
        "    text = re.sub(r\"storagefolder\", \"storage folder \", text)\n",
        "    \n",
        "    text = re.sub(r\"onedrive\", \"one drive \", text)\n",
        "    text = re.sub(r\"contentdialog\", \"content dialog \", text)\n",
        "    text = re.sub(r\"mapcontrol\", \"map control \", text)\n",
        "    text = re.sub(r\"applicationmodel\", \"application model \", text)\n",
        "    text = re.sub(\"it's\", \" it is \", text)\n",
        "    text = re.sub(r\"\\'ve\", \" have \", text)\n",
        "    text = re.sub(r\"\\'d\", \" would \", text)\n",
        "    text = re.sub(r\"don't\", \"do not\", text)\n",
        "    text = re.sub(r\"\\'ll\", \" will \", text)\n",
        "    \n",
        "    text = re.sub(r\"shouldn't\", \" should not \", text)\n",
        "    text = re.sub(r\"didn't\", \" did not \", text)\n",
        "    text = re.sub(r\"couldn't\", \"could not \", text)\n",
        "    text = re.sub(r\"don't\", \"do not\", text)\n",
        "    text = re.sub(r\"autoscaling\", \"auto scaling\", text)\n",
        "    text = re.sub(r\"abillity\", \"ability \", text)\n",
        "    text = re.sub(r\"photocamera\", \"photo camera \", text)\n",
        "    text = re.sub(r\"standardtiledata\", \"standard tile data \", text)\n",
        "    text = re.sub(r\"batterysaver\", \"battery saver\", text)\n",
        "    \n",
        "    text = re.sub(r\"menuitems\", \"menu items\", text)\n",
        "    text = re.sub(r\"keyup\", \" key up \", text)\n",
        "    text = re.sub(r\"manualy\", \"manually\", text)\n",
        "    text = re.sub(r\"samplerate\", \"sample rate\", text)\n",
        "    text = re.sub(r\"applicationid\", \"application id\", text)\n",
        "    text = re.sub(r\"isolatedstoragesettings\", \"isolated storage settings \", text)\n",
        "    text = re.sub(r\"funtionality\", \"functionality \", text)\n",
        "    text = re.sub(r\"selectedindex\", \"selected index\", text)\n",
        "    text = re.sub(r\"multiscaleimage\", \"multiscale image\", text)\n",
        "    \n",
        "    text = re.sub(r\"isolatedstorage\", \"isolated storage \", text)\n",
        "    text = re.sub(r\"andriod\", \"android \", text)\n",
        "    text = re.sub(r\"don't\", \"do not\", text)\n",
        "    text = re.sub(r\"autoscaling\", \"auto scaling\", text)\n",
        "    text = re.sub(r\"xmlnsdefinitionattribute\", \" xml ns definition attribute \", text)\n",
        "    text = re.sub(r\"scheduledtoastnotification\", \"scheduled toast notification\", text)\n",
        "    text = re.sub(r\"wrapgrid\", \"wrap grid\", text)\n",
        "    text = re.sub(r\"stackpanel\", \"stack panel\", text)\n",
        "    text = re.sub(r\"reader'\", \"reader\", text)\n",
        "    text = re.sub(r\"designcapacityinmilliwatthours\", \"design capacity in milli watt hours \", text)\n",
        "    text = re.sub(r\"featureset\", \"feature set\", text)\n",
        "    text = re.sub(r\"currentappsimulator\", \"current app simulator\", text)\n",
        "    text = re.sub(r\"'old'\", \"old \", text)\n",
        "    text = re.sub(r\"carrige\", \"carriage \", text)\n",
        "    text = re.sub(r\"screenmirroring\", \"screen mirroring\", text)\n",
        "    text = re.sub(r\"loggingchannel\", \"logging channel\", text)\n",
        "    \n",
        "    text = re.sub(r\"actualheight\",\"actual height\", text)\n",
        "    text = re.sub(r\"devicetype\",\"device type\",text)\n",
        "    text = re.sub(r\"uisplitviewcontroller\",\"user interface split view controller\", text)\n",
        "    text = re.sub(r\"phonecallorigin\",\"phone call origin\", text)\n",
        "    text = re.sub(r\"onlineidauthenticator\",\"online id authenticator\", text)\n",
        "    text = re.sub(r\"credentialprompttype\",\"credential prompt type\",text)\n",
        "    text = re.sub(r\"retypecredentials\",\"retype credentials\", text)\n",
        "    text = re.sub(r\"backgroundtask\",\"background task\", text)    \n",
        "    text = re.sub(r\"scheduledtask\",\"scheduled task\", text)\n",
        "    text = re.sub(r\"contactstore\",\"contact store\",text)\n",
        "    \n",
        "    \n",
        "    text = re.sub(r\"haven't\",\"have not\",text)\n",
        "    text = re.sub(r\"stackoverflow\",\"stack overflow\", text)\n",
        "    text = re.sub(r\"hasn't\",\"has not\",text)\n",
        "    text = re.sub(r\"async\",\" asynchronous \", text)\n",
        "    text = re.sub(r\"wouldn't\",\"would not\", text)    \n",
        "    text = re.sub(r\"visualstudio\",\" visual studio\", text)\n",
        "    text = re.sub(r\"let's\",\"let us\",text)\n",
        "    text = re.sub(r\"that's\",\"that is\", text)\n",
        "    text = re.sub(r\"aren't\",\"are not\", text)\n",
        "    text = re.sub(r\"(\\d+)(k)\", r\"\\g<1>000\", text)\n",
        "    text = re.sub(r\"e - mail\", \"email\", text)\n",
        "    text = re.sub(r\"en-us\", \"english\", text)\n",
        "    text = re.sub(r\"\\s{2,}\", \" \", text)\n",
        "    return(text)"
      ],
      "execution_count": 0,
      "outputs": []
    },
    {
      "cell_type": "code",
      "metadata": {
        "id": "zidI80AvOuxZ",
        "colab_type": "code",
        "colab": {}
      },
      "source": [
        "from numpy import array\n",
        "df = pd.read_csv(\"/content/drive/My Drive/train - train.csv\")\n",
        "df['review'] = df['review'].str.replace('[^a-zA-Z.\\ ]', '')\n",
        "df['review'] = df['review'].str.lower()\n",
        "labels = array(df['label'])"
      ],
      "execution_count": 0,
      "outputs": []
    },
    {
      "cell_type": "code",
      "metadata": {
        "id": "xpzd21GZOuxf",
        "colab_type": "code",
        "colab": {}
      },
      "source": [
        "docs = df.apply(lambda x: clean(x.review), axis=1)"
      ],
      "execution_count": 0,
      "outputs": []
    },
    {
      "cell_type": "code",
      "metadata": {
        "id": "9-t8NJvKOuxr",
        "colab_type": "code",
        "outputId": "7d38d067-709c-4ae7-f0df-d4e3a85cd9d7",
        "colab": {
          "base_uri": "https://localhost:8080/",
          "height": 34
        }
      },
      "source": [
        "import numpy as np\n",
        "from keras.preprocessing.sequence import pad_sequences\n",
        "max_features = 1\n",
        "docs = df['review']\n",
        "tokenizer = Tokenizer(num_words=max_features, oov_token=True)\n",
        "tokenizer.fit_on_texts(docs)\n",
        "encoded_docs = tokenizer.texts_to_sequences(docs)\n",
        "pdocs = pad_sequences(encoded_docs, maxlen=100, padding='pre')\n",
        "word_index = tokenizer.word_index\n",
        "print(len(word_index))"
      ],
      "execution_count": 14,
      "outputs": [
        {
          "output_type": "stream",
          "text": [
            "9870\n"
          ],
          "name": "stdout"
        }
      ]
    },
    {
      "cell_type": "code",
      "metadata": {
        "id": "SihCOidZOuxw",
        "colab_type": "code",
        "outputId": "d0da527c-77cb-4446-8639-2b20ba621226",
        "colab": {
          "base_uri": "https://localhost:8080/",
          "height": 34
        }
      },
      "source": [
        "embeddings_index = {}\n",
        "f = open('/content/drive/My Drive/glove.6B.100d.txt', encoding=\"utf8\")\n",
        "for line in f:\n",
        "    try:\n",
        "        values = line.split()\n",
        "        word = values[0]\n",
        "        coefs = np.asarray(values[1:], dtype='float32')\n",
        "        embeddings_index[word] = coefs\n",
        "    except:\n",
        "        print(word)\n",
        "        pass\n",
        "f.close()\n",
        "embed_size = 100\n",
        "embedding_matrix = np.zeros((len(word_index) + 1, embed_size))\n",
        "absent_words = 0\n",
        "for word, i in word_index.items():\n",
        "    embedding_vector = embeddings_index.get(word)\n",
        "    if embedding_vector is not None:\n",
        "        embedding_matrix[i] = embedding_vector\n",
        "    else:\n",
        "        absent_words += 1\n",
        "print('Total absent words are', absent_words, 'which is', \"%0.2f\" % (absent_words * 100 / len(word_index)), '% of total words')"
      ],
      "execution_count": 15,
      "outputs": [
        {
          "output_type": "stream",
          "text": [
            "Total absent words are 2987 which is 30.26 % of total words\n"
          ],
          "name": "stdout"
        }
      ]
    },
    {
      "cell_type": "code",
      "metadata": {
        "id": "Cqn6DrrqOux1",
        "colab_type": "code",
        "colab": {
          "base_uri": "https://localhost:8080/",
          "height": 70
        },
        "outputId": "ebf51c56-9c73-4278-94e8-69c617a9ccca"
      },
      "source": [
        "from keras.layers import Embedding\n",
        "vocab_size = len(tokenizer.word_index)+1\n",
        "e = Embedding(vocab_size, 100, weights=[embedding_matrix],input_length=100, trainable=True)"
      ],
      "execution_count": 16,
      "outputs": [
        {
          "output_type": "stream",
          "text": [
            "WARNING:tensorflow:From /usr/local/lib/python3.6/dist-packages/keras/backend/tensorflow_backend.py:66: The name tf.get_default_graph is deprecated. Please use tf.compat.v1.get_default_graph instead.\n",
            "\n"
          ],
          "name": "stdout"
        }
      ]
    },
    {
      "cell_type": "code",
      "metadata": {
        "id": "eh-n2E1XOux5",
        "colab_type": "code",
        "outputId": "d9941f3a-3463-40cf-e615-9c9029db8365",
        "colab": {
          "base_uri": "https://localhost:8080/",
          "height": 34
        }
      },
      "source": [
        "print(e)"
      ],
      "execution_count": 0,
      "outputs": [
        {
          "output_type": "stream",
          "text": [
            "<keras.layers.embeddings.Embedding object at 0x7f71b4670e80>\n"
          ],
          "name": "stdout"
        }
      ]
    },
    {
      "cell_type": "code",
      "metadata": {
        "id": "oR9bCsVYOux8",
        "colab_type": "code",
        "outputId": "281d04c5-4179-4283-8ee6-c58e21ca85a4",
        "colab": {
          "base_uri": "https://localhost:8080/",
          "height": 1000
        }
      },
      "source": [
        "from keras.models import Model\n",
        "from keras.layers import *\n",
        "from keras.preprocessing.sequence import pad_sequences\n",
        "from keras import regularizers\n",
        "\n",
        "def create_models():\n",
        "    inp = Input((None,))\n",
        "    embs = e(inp)\n",
        "    lstm = LSTM(5, return_sequences=True)(embs)\n",
        "    attention = TimeDistributed(Dense(1))(lstm)\n",
        "    attention_vals = Softmax(axis=1)(attention)\n",
        "    scaled_vecs = Multiply()([embs,attention_vals])\n",
        "    context_vector = Lambda(lambda x: K.sum(x,axis=1))(scaled_vecs)\n",
        "    out = Dense(1,activation='sigmoid')(context_vector)\n",
        "    model = Model(inp, out)\n",
        "    model_with_attention_output = Model(inp, [out, attention_vals])\n",
        "    model.compile(optimizer='adam',loss='binary_crossentropy', metrics=['accuracy'])\n",
        "    return model, model_with_attention_output\n",
        "\n",
        "model,model_with_attention_output = create_models()\n",
        "print(model.summary())\n",
        "\n",
        "model.fit(pdocs, np.array(labels), validation_split=0.1, epochs = 3)\n",
        "\n",
        "#model.save(\"m.hdf5\")\n",
        "loss, accuracy = model.evaluate(pdocs,labels , verbose=0)\n",
        "print('Training Accuracy is {}'.format(accuracy*100))"
      ],
      "execution_count": 17,
      "outputs": [
        {
          "output_type": "stream",
          "text": [
            "WARNING:tensorflow:From /usr/local/lib/python3.6/dist-packages/keras/backend/tensorflow_backend.py:541: The name tf.placeholder is deprecated. Please use tf.compat.v1.placeholder instead.\n",
            "\n",
            "WARNING:tensorflow:From /usr/local/lib/python3.6/dist-packages/keras/backend/tensorflow_backend.py:4432: The name tf.random_uniform is deprecated. Please use tf.random.uniform instead.\n",
            "\n",
            "WARNING:tensorflow:From /usr/local/lib/python3.6/dist-packages/keras/backend/tensorflow_backend.py:190: The name tf.get_default_session is deprecated. Please use tf.compat.v1.get_default_session instead.\n",
            "\n",
            "WARNING:tensorflow:From /usr/local/lib/python3.6/dist-packages/keras/backend/tensorflow_backend.py:197: The name tf.ConfigProto is deprecated. Please use tf.compat.v1.ConfigProto instead.\n",
            "\n",
            "WARNING:tensorflow:From /usr/local/lib/python3.6/dist-packages/keras/backend/tensorflow_backend.py:203: The name tf.Session is deprecated. Please use tf.compat.v1.Session instead.\n",
            "\n",
            "WARNING:tensorflow:From /usr/local/lib/python3.6/dist-packages/keras/backend/tensorflow_backend.py:207: The name tf.global_variables is deprecated. Please use tf.compat.v1.global_variables instead.\n",
            "\n",
            "WARNING:tensorflow:From /usr/local/lib/python3.6/dist-packages/keras/backend/tensorflow_backend.py:216: The name tf.is_variable_initialized is deprecated. Please use tf.compat.v1.is_variable_initialized instead.\n",
            "\n",
            "WARNING:tensorflow:From /usr/local/lib/python3.6/dist-packages/keras/backend/tensorflow_backend.py:223: The name tf.variables_initializer is deprecated. Please use tf.compat.v1.variables_initializer instead.\n",
            "\n",
            "WARNING:tensorflow:From /usr/local/lib/python3.6/dist-packages/keras/optimizers.py:793: The name tf.train.Optimizer is deprecated. Please use tf.compat.v1.train.Optimizer instead.\n",
            "\n",
            "WARNING:tensorflow:From /usr/local/lib/python3.6/dist-packages/keras/backend/tensorflow_backend.py:3657: The name tf.log is deprecated. Please use tf.math.log instead.\n",
            "\n",
            "WARNING:tensorflow:From /tensorflow-1.15.0/python3.6/tensorflow_core/python/ops/nn_impl.py:183: where (from tensorflow.python.ops.array_ops) is deprecated and will be removed in a future version.\n",
            "Instructions for updating:\n",
            "Use tf.where in 2.0, which has the same broadcast rule as np.where\n",
            "Model: \"model_1\"\n",
            "__________________________________________________________________________________________________\n",
            "Layer (type)                    Output Shape         Param #     Connected to                     \n",
            "==================================================================================================\n",
            "input_1 (InputLayer)            (None, None)         0                                            \n",
            "__________________________________________________________________________________________________\n",
            "embedding_1 (Embedding)         (None, 100, 100)     987100      input_1[0][0]                    \n",
            "__________________________________________________________________________________________________\n",
            "lstm_1 (LSTM)                   (None, 100, 5)       2120        embedding_1[0][0]                \n",
            "__________________________________________________________________________________________________\n",
            "time_distributed_1 (TimeDistrib (None, 100, 1)       6           lstm_1[0][0]                     \n",
            "__________________________________________________________________________________________________\n",
            "softmax_1 (Softmax)             (None, 100, 1)       0           time_distributed_1[0][0]         \n",
            "__________________________________________________________________________________________________\n",
            "multiply_1 (Multiply)           (None, 100, 100)     0           embedding_1[0][0]                \n",
            "                                                                 softmax_1[0][0]                  \n",
            "__________________________________________________________________________________________________\n",
            "lambda_1 (Lambda)               (None, 100)          0           multiply_1[0][0]                 \n",
            "__________________________________________________________________________________________________\n",
            "dense_2 (Dense)                 (None, 1)            101         lambda_1[0][0]                   \n",
            "==================================================================================================\n",
            "Total params: 989,327\n",
            "Trainable params: 989,327\n",
            "Non-trainable params: 0\n",
            "__________________________________________________________________________________________________\n",
            "None\n",
            "WARNING:tensorflow:From /usr/local/lib/python3.6/dist-packages/keras/backend/tensorflow_backend.py:1033: The name tf.assign_add is deprecated. Please use tf.compat.v1.assign_add instead.\n",
            "\n",
            "WARNING:tensorflow:From /usr/local/lib/python3.6/dist-packages/keras/backend/tensorflow_backend.py:1020: The name tf.assign is deprecated. Please use tf.compat.v1.assign instead.\n",
            "\n",
            "Train on 7619 samples, validate on 847 samples\n",
            "Epoch 1/3\n",
            "7619/7619 [==============================] - 20s 3ms/step - loss: 0.5600 - acc: 0.7647 - val_loss: 0.6479 - val_acc: 0.6553\n",
            "Epoch 2/3\n",
            "7619/7619 [==============================] - 19s 2ms/step - loss: 0.5392 - acc: 0.7647 - val_loss: 0.6646 - val_acc: 0.6553\n",
            "Epoch 3/3\n",
            "7619/7619 [==============================] - 19s 2ms/step - loss: 0.5390 - acc: 0.7647 - val_loss: 0.6529 - val_acc: 0.6553\n",
            "Training Accuracy is 75.37207654145995\n"
          ],
          "name": "stdout"
        }
      ]
    },
    {
      "cell_type": "code",
      "metadata": {
        "id": "wVSAjeFijWbp",
        "colab_type": "code",
        "colab": {}
      },
      "source": [
        "class_idx = np.argmax(labels) \n",
        "class_output = model.output[:, class_idx]\n",
        "last_conv_layer = model.get_layer(\"lstm_1\")"
      ],
      "execution_count": 0,
      "outputs": []
    },
    {
      "cell_type": "code",
      "metadata": {
        "id": "5os5MLMqVObq",
        "colab_type": "code",
        "colab": {}
      },
      "source": [
        "\n",
        "test = pd.read_csv(\"/content/drive/My Drive/Colab Notebooks/test - test.csv\")\n",
        "tokenizer = Tokenizer(oov_token=None)\n",
        "tokenizer.fit_on_texts(test['sentence'])\n",
        "encoded_Testdocs = tokenizer.texts_to_sequences(test['sentence'])\n",
        "Testdocs = pad_sequences(encoded_Testdocs, maxlen=100,padding=\"post\")"
      ],
      "execution_count": 0,
      "outputs": []
    },
    {
      "cell_type": "code",
      "metadata": {
        "id": "aLYSclUCjbKS",
        "colab_type": "code",
        "colab": {}
      },
      "source": [
        "grads = K.gradients(class_output, last_conv_layer.output)[0]\n",
        "pooled_grads = K.mean(grads)\n",
        "iterate = K.function([model.input], [pooled_grads, last_conv_layer.output[0]])\n",
        "pooled_grads_value, conv_layer_output_value = iterate([Testdocs])"
      ],
      "execution_count": 0,
      "outputs": []
    },
    {
      "cell_type": "code",
      "metadata": {
        "id": "C74xhzvEAju9",
        "colab_type": "code",
        "colab": {}
      },
      "source": [
        "heatmap = np.mean(conv_layer_output_value, axis=-1)\n",
        "heatmap = np.maximum(heatmap,1)\n",
        "heatmap /= np.max(heatmap)#normalise values in the prediction"
      ],
      "execution_count": 0,
      "outputs": []
    },
    {
      "cell_type": "code",
      "metadata": {
        "id": "ovBA1dyMCuVO",
        "colab_type": "code",
        "colab": {}
      },
      "source": [
        "norm_len = 100/last_conv_layer.output_shape[-1] # find the ratio of the text vs the lstm layer length"
      ],
      "execution_count": 0,
      "outputs": []
    },
    {
      "cell_type": "code",
      "metadata": {
        "id": "2DjacF7sCy35",
        "colab_type": "code",
        "outputId": "c6d42ff3-fa36-47a8-a025-73b98bc155cd",
        "colab": {
          "base_uri": "https://localhost:8080/",
          "height": 34
        }
      },
      "source": [
        "import math\n",
        "from IPython.display import HTML\n",
        "html = \"\"\n",
        "\n",
        "for j,i in enumerate(tokenizer.sequences_to_texts(Testdocs)[9].split()):\n",
        "  html += \"<span style='background-color:rgba({},0,150,{})'>{} </span>\".format(heatmap[math.floor(j/norm_len)]*255,heatmap[math.floor(j/norm_len)]-0.3,i)\n",
        "HTML(html)"
      ],
      "execution_count": 85,
      "outputs": [
        {
          "output_type": "execute_result",
          "data": {
            "text/html": [
              "<span style='background-color:rgba(255.0,0,150,0.7)'>it </span><span style='background-color:rgba(255.0,0,150,0.7)'>would </span><span style='background-color:rgba(255.0,0,150,0.7)'>be </span><span style='background-color:rgba(255.0,0,150,0.7)'>nice </span><span style='background-color:rgba(255.0,0,150,0.7)'>to </span><span style='background-color:rgba(255.0,0,150,0.7)'>see </span><span style='background-color:rgba(255.0,0,150,0.7)'>at </span><span style='background-color:rgba(255.0,0,150,0.7)'>a </span><span style='background-color:rgba(255.0,0,150,0.7)'>glance </span><span style='background-color:rgba(255.0,0,150,0.7)'>if </span><span style='background-color:rgba(255.0,0,150,0.7)'>an </span><span style='background-color:rgba(255.0,0,150,0.7)'>app </span><span style='background-color:rgba(255.0,0,150,0.7)'>is </span><span style='background-color:rgba(255.0,0,150,0.7)'>featured </span><span style='background-color:rgba(255.0,0,150,0.7)'>in </span><span style='background-color:rgba(255.0,0,150,0.7)'>one </span><span style='background-color:rgba(255.0,0,150,0.7)'>of </span><span style='background-color:rgba(255.0,0,150,0.7)'>the </span><span style='background-color:rgba(255.0,0,150,0.7)'>markets </span>"
            ],
            "text/plain": [
              "<IPython.core.display.HTML object>"
            ]
          },
          "metadata": {
            "tags": []
          },
          "execution_count": 85
        }
      ]
    },
    {
      "cell_type": "code",
      "metadata": {
        "id": "65-lEAXKVaso",
        "colab_type": "code",
        "colab": {
          "base_uri": "https://localhost:8080/",
          "height": 121
        },
        "outputId": "10155b33-87e9-4177-f607-a5ac3ab57d34"
      },
      "source": [
        "from sklearn.metrics import confusion_matrix, f1_score, precision_score, recall_score, accuracy_score\n",
        "\n",
        "yhat_probs = model.predict(pdocs, verbose=0)\n",
        "yhat_classes = yhat_probs.argmax(axis=1)\n",
        "yhat_probs = yhat_probs[:,0]\n",
        "\n",
        "\n",
        "precision = precision_score(labels, yhat_classes,average='weighted')\n",
        "print('Precision: %f' % precision)\n",
        "recall = recall_score(labels, yhat_classes,average='weighted')\n",
        "print('Recall: %f' % recall)\n",
        "f1 = f1_score(labels, yhat_classes,average='weighted')\n",
        "print('F1 score: %f' % f1)"
      ],
      "execution_count": 92,
      "outputs": [
        {
          "output_type": "stream",
          "text": [
            "Precision: 0.568095\n",
            "Recall: 0.753721\n",
            "F1 score: 0.647874\n"
          ],
          "name": "stdout"
        },
        {
          "output_type": "stream",
          "text": [
            "/usr/local/lib/python3.6/dist-packages/sklearn/metrics/_classification.py:1272: UndefinedMetricWarning: Precision is ill-defined and being set to 0.0 in labels with no predicted samples. Use `zero_division` parameter to control this behavior.\n",
            "  _warn_prf(average, modifier, msg_start, len(result))\n"
          ],
          "name": "stderr"
        }
      ]
    },
    {
      "cell_type": "code",
      "metadata": {
        "id": "u1UFvjY83DB3",
        "colab_type": "code",
        "colab": {}
      },
      "source": [
        ""
      ],
      "execution_count": 0,
      "outputs": []
    }
  ]
}